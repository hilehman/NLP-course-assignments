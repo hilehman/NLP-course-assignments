{
 "cells": [
  {
   "cell_type": "markdown",
   "metadata": {},
   "source": [
    "<h1>Assignment 3</h1>\n",
    "\n",
    "<h2>Due: Tue 28 Jan 2020 Midnight</h2>\n",
    "<a href='http://www.cs.bgu.ac.il/~elhadad/nlp21.html'>Natural Language Processing - Fall 2021 Michael Elhadad</a>\n",
    "<p/>\n",
    "This assignment covers the topic of syntactic parsing.\n",
    "Submit your solution in the form of a Jupyter notebook (ipynb) file.\n",
    "\n",
    "<h2>Content</h2>\n",
    "<ul>\n",
    "<li><a href=\"#q1\">Q1: Designing CFGs for NLP</a></li>\n",
    "    <ul>\n",
    "        <li><a href=\"#q1.1\">Q1.1: Extend a CFG to support Number agreement, Pronouns and Dative Constructions</a>\n",
    "            <ul>\n",
    "                <li><a href=\"#q1.1.1\">Q1.1.1 Determiners and Count/Mass Nouns</a></li>\n",
    "                <li><a href=\"#q1.1.2\">Q1.1.2 Pronouns</a></li>\n",
    "                <li><a href=\"#q1.1.3\">Q1.1.3 Subject/Verb Agreement</a></li>\n",
    "                <li><a href=\"#q1.1.4\">Q1.1.4 Over-generation</a></li>\n",
    "            </ul>            \n",
    "        </li>\n",
    "        <li><a href=\"#q1.2\">Q1.2: Extend a CFG to support Coordination and Prepositional Phrases</a>\n",
    "            <ul>\n",
    "                <li><a href=\"#q1.2.1\">Q1.2.1 Support Prepositional Phrases</a></li>\n",
    "                <li><a href=\"#q1.2.2\">Q1.2.2 Support Coordination</a></li>\n",
    "                <li><a href=\"#q1.2.3\">Q1.2.3 Over-generation</a></li>\n",
    "            </ul>            \n",
    "        </li>\n",
    "    </ul>\n",
    "</li>\n",
    "<li><a href=\"#q2\">Q2: Learning a PCFG from a Treebank</a>\n",
    "    <ul>\n",
    "        <li><a href=\"#q2.1\">Q2.1 Random PCFG Generation</a>\n",
    "            <ul>\n",
    "                <li><a href=\"#q2.1.1\">Q2.1.1 PCFG_Generate</a></li>\n",
    "                <li><a href=\"#q2.1.2\">Q2.1.2 Generate 1,000 Trees</a></li>\n",
    "                <li><a href=\"#q2.1.3\">Q2.1.3 Gather Rules Frequency for all Non-Terminals</a></li>\n",
    "                <li><a href=\"#q2.1.4\">Q2.1.4 Compute KL-Divergence between a priori and generated parameters</a></li>\n",
    "            </ul>\n",
    "        </li>\n",
    "        <li><a href=\"#q2.2\">Q2.2 Learn a PCFG from a Treebank</a>\n",
    "            <ul>\n",
    "                <li><a href=\"#q2.2.1\">Q2.2.1 Induce_PCFG</a></li>\n",
    "                <li><a href=\"#q2.2.2\">Q2.2.2 Data Exploration</a></li>\n",
    "            </ul>\n",
    "        </li>\n",
    "        <li><a href=\"#q2.3\">Q2.3 Induce a PCFG in Chomsky Normal Form</a>\n",
    "            <ul>\n",
    "                <li><a href=\"#q2.3.1\">Q2.3.1 PCFG_CNF_Learn</a></li>\n",
    "                <li><a href=\"#q2.3.2\">Q2.3.2 Data Exploration</a></li>\n",
    "            </ul>\n",
    "        </li>\n",
    "        <li><a href=\"#q2.4\">Q2.4 Test CFG Independence Assumptions</a></li>\n",
    "    </ul>\n",
    "</li>\n",
    "<li><a href=\"#q3\">Q3: Building and Evaluating a Simple PCFG Parser</a>\n",
    "\t<ul>\n",
    "        <li><a href=\"#q3.1\">Q3.1 Build a Parser</a>\n",
    "            <ul>\n",
    "                <li><a href=\"#q3.1.1\">Q3.1.1 Dataset Split</a></li>\n",
    "                <li><a href=\"#q3.1.2\">Q3.1.2 Learn a PCFG over the Chomsky Normal Form</a></li>\n",
    "                <li><a href=\"#q3.1.3\">Q3.1.3 Viterbi Parser</a></li>\n",
    "            </ul>            \n",
    "        </li>\n",
    "        <li><a href=\"#q3.2\">Q3.2 Evaluate the Parser</a></li>\n",
    "        <li><a href=\"#q3.3\">Q3.3 Accuracy per Distance</a></li>\n",
    "        <li><a href=\"#q3.4\">Q3.4 Accuracy per Label</a></li>\n",
    "    </ul>\n",
    "</li>\n",
    "</ul>"
   ]
  },
  {
   "cell_type": "markdown",
   "metadata": {},
   "source": [
    "<hr/>\n",
    "<a name=\"q1\"></a>\n",
    "<h2>Question 1: Designing CFGs for NLP</h2>\n",
    "\n",
    "NLTK provides library support to read CFGs from string representation, and parse sentences given a CFG using different \n",
    "parsing algorithms (either top-down or bottom-up).  In this question, we manually develop a grammar to support \n",
    "increasingly complex phenomena in English syntax. The following code provides the starting point:"
   ]
  },
  {
   "cell_type": "code",
   "execution_count": 1,
   "metadata": {},
   "outputs": [],
   "source": [
    "import nltk\n",
    "from nltk import CFG\n",
    "\n",
    "sg = \"\"\"\n",
    "S -> NP VP\n",
    "VP -> IV | TV NP\n",
    "NP -> 'John' | \"bread\"\n",
    "IV -> 'left'\n",
    "TV -> 'eats'\n",
    "\"\"\"\n",
    "g = CFG.fromstring(sg)\n",
    "\n",
    "# Bottom-up  parser\n",
    "sr_parser = nltk.ShiftReduceParser(g, trace=2)\n",
    "\n",
    "# Parse sentences and observe the behavior of the parser\n",
    "def parse_sentence(sent,parser):\n",
    "    tokens = sent.split()\n",
    "    sr_parser = parser\n",
    "    trees = sr_parser.parse(tokens)\n",
    "    for tree in trees:\n",
    "        print(tree)\n"
   ]
  },
  {
   "cell_type": "markdown",
   "metadata": {},
   "source": [
    "In this toy grammar, the following non-terminals are used:  \n",
    "`S`: sentence \n",
    "\n",
    "`VP`: verb phrase\n",
    "\n",
    "`NP`: noun phrase\n",
    "\n",
    "`IV`: intransitive verb (a verb that does not expect a complement)\n",
    "\n",
    "Let's try our grammar with 2 simple sentences:\n"
   ]
  },
  {
   "cell_type": "code",
   "execution_count": 2,
   "metadata": {},
   "outputs": [
    {
     "name": "stdout",
     "output_type": "stream",
     "text": [
      "Parsing 'John left'\n",
      "    [ * John left]\n",
      "  S [ 'John' * left]\n",
      "  R [ NP * left]\n",
      "  S [ NP 'left' * ]\n",
      "  R [ NP IV * ]\n",
      "  R [ NP VP * ]\n",
      "  R [ S * ]\n",
      "(S (NP John) (VP (IV left)))\n",
      "\n",
      "Parsing 'John eats bread'\n",
      "    [ * John eats bread]\n",
      "  S [ 'John' * eats bread]\n",
      "  R [ NP * eats bread]\n",
      "  S [ NP 'eats' * bread]\n",
      "  R [ NP TV * bread]\n",
      "  S [ NP TV 'bread' * ]\n",
      "  R [ NP TV NP * ]\n",
      "  R [ NP VP * ]\n",
      "  R [ S * ]\n",
      "(S (NP John) (VP (TV eats) (NP bread)))\n"
     ]
    }
   ],
   "source": [
    "parse_sentence(\"John left\", sr_parser)\n",
    "print()\n",
    "parse_sentence(\"John eats bread\",sr_parser)"
   ]
  },
  {
   "cell_type": "markdown",
   "metadata": {},
   "source": [
    "## Q1.1 ##"
   ]
  },
  {
   "cell_type": "markdown",
   "metadata": {},
   "source": [
    "We successfully parsed the sentences. But these are very simple, what if we want to deal with more complicated sentences?\n",
    "To do that, we will have to expand our grammer. We would like to parse these sentences:\n",
    "\n"
   ]
  },
  {
   "cell_type": "code",
   "execution_count": 3,
   "metadata": {},
   "outputs": [],
   "source": [
    "input_sentences = '''John left\n",
    "John loves Mary\n",
    "They love Mary\n",
    "They love her\n",
    "She loves them\n",
    "Everybody loves John\n",
    "A boy loves Mary\n",
    "The boy loves Mary\n",
    "Some boys love Mary\n",
    "John gave Mary a heavy book\n",
    "John gave it to Mary\n",
    "John likes butter\n",
    "John moves a chair'''"
   ]
  },
  {
   "cell_type": "markdown",
   "metadata": {},
   "source": [
    "    \n",
    "First, we must add new phrasal categories: \n",
    "\n",
    "`DV` - ditransitive verb (such as `give`). It will allow us to distinguish between verbs that take different numbers of NPs. \n",
    "\n",
    "`PP` - prepositional phrase\n",
    "\n",
    "`Det` - Determiner\n",
    "\n",
    "`Adj` - Adjective\n",
    "\n",
    "`P` - prepositional\n",
    "\n",
    "Using our old and new phrasal categories, we can create grammer that can parse the sentences above."
   ]
  },
  {
   "cell_type": "code",
   "execution_count": 4,
   "metadata": {},
   "outputs": [
    {
     "name": "stdout",
     "output_type": "stream",
     "text": [
      "Warning: S -> NP VP will never be used\n",
      "Warning: VP -> TV NP will never be used\n",
      "Warning: VP -> DV NP NP will never be used\n",
      "Warning: VP -> DV NP PP will never be used\n",
      "Parsing 'John left'\n",
      "    [ * John left]\n",
      "  S [ 'John' * left]\n",
      "  R [ N * left]\n",
      "  R [ NP * left]\n",
      "  S [ NP 'left' * ]\n",
      "  R [ NP IV * ]\n",
      "  R [ NP VP * ]\n",
      "  R [ S * ]\n",
      "(S (NP (N John)) (VP (IV left)))\n",
      "Parsing 'John loves Mary'\n",
      "    [ * John loves Mary]\n",
      "  S [ 'John' * loves Mary]\n",
      "  R [ N * loves Mary]\n",
      "  R [ NP * loves Mary]\n",
      "  S [ NP 'loves' * Mary]\n",
      "  R [ NP TV * Mary]\n",
      "  S [ NP TV 'Mary' * ]\n",
      "  R [ NP TV N * ]\n",
      "  R [ NP TV NP * ]\n",
      "  R [ NP VP * ]\n",
      "  R [ S * ]\n",
      "(S (NP (N John)) (VP (TV loves) (NP (N Mary))))\n",
      "Parsing 'They love Mary'\n",
      "    [ * They love Mary]\n",
      "  S [ 'They' * love Mary]\n",
      "  R [ N * love Mary]\n",
      "  R [ NP * love Mary]\n",
      "  S [ NP 'love' * Mary]\n",
      "  R [ NP TV * Mary]\n",
      "  S [ NP TV 'Mary' * ]\n",
      "  R [ NP TV N * ]\n",
      "  R [ NP TV NP * ]\n",
      "  R [ NP VP * ]\n",
      "  R [ S * ]\n",
      "(S (NP (N They)) (VP (TV love) (NP (N Mary))))\n",
      "Parsing 'They love her'\n",
      "    [ * They love her]\n",
      "  S [ 'They' * love her]\n",
      "  R [ N * love her]\n",
      "  R [ NP * love her]\n",
      "  S [ NP 'love' * her]\n",
      "  R [ NP TV * her]\n",
      "  S [ NP TV 'her' * ]\n",
      "  R [ NP TV N * ]\n",
      "  R [ NP TV NP * ]\n",
      "  R [ NP VP * ]\n",
      "  R [ S * ]\n",
      "(S (NP (N They)) (VP (TV love) (NP (N her))))\n",
      "Parsing 'She loves them'\n",
      "    [ * She loves them]\n",
      "  S [ 'She' * loves them]\n",
      "  R [ N * loves them]\n",
      "  R [ NP * loves them]\n",
      "  S [ NP 'loves' * them]\n",
      "  R [ NP TV * them]\n",
      "  S [ NP TV 'them' * ]\n",
      "  R [ NP TV N * ]\n",
      "  R [ NP TV NP * ]\n",
      "  R [ NP VP * ]\n",
      "  R [ S * ]\n",
      "(S (NP (N She)) (VP (TV loves) (NP (N them))))\n",
      "Parsing 'Everybody loves John'\n",
      "    [ * Everybody loves John]\n",
      "  S [ 'Everybody' * loves John]\n",
      "  R [ N * loves John]\n",
      "  R [ NP * loves John]\n",
      "  S [ NP 'loves' * John]\n",
      "  R [ NP TV * John]\n",
      "  S [ NP TV 'John' * ]\n",
      "  R [ NP TV N * ]\n",
      "  R [ NP TV NP * ]\n",
      "  R [ NP VP * ]\n",
      "  R [ S * ]\n",
      "(S (NP (N Everybody)) (VP (TV loves) (NP (N John))))\n",
      "Parsing 'A boy loves Mary'\n",
      "    [ * A boy loves Mary]\n",
      "  S [ 'A' * boy loves Mary]\n",
      "  R [ Det * boy loves Mary]\n",
      "  S [ Det 'boy' * loves Mary]\n",
      "  R [ Det N * loves Mary]\n",
      "  R [ Det NP * loves Mary]\n",
      "  R [ NP * loves Mary]\n",
      "  S [ NP 'loves' * Mary]\n",
      "  R [ NP TV * Mary]\n",
      "  S [ NP TV 'Mary' * ]\n",
      "  R [ NP TV N * ]\n",
      "  R [ NP TV NP * ]\n",
      "  R [ NP VP * ]\n",
      "  R [ S * ]\n",
      "(S (NP (Det A) (NP (N boy))) (VP (TV loves) (NP (N Mary))))\n",
      "Parsing 'The boy loves Mary'\n",
      "    [ * The boy loves Mary]\n",
      "  S [ 'The' * boy loves Mary]\n",
      "  R [ Det * boy loves Mary]\n",
      "  S [ Det 'boy' * loves Mary]\n",
      "  R [ Det N * loves Mary]\n",
      "  R [ Det NP * loves Mary]\n",
      "  R [ NP * loves Mary]\n",
      "  S [ NP 'loves' * Mary]\n",
      "  R [ NP TV * Mary]\n",
      "  S [ NP TV 'Mary' * ]\n",
      "  R [ NP TV N * ]\n",
      "  R [ NP TV NP * ]\n",
      "  R [ NP VP * ]\n",
      "  R [ S * ]\n",
      "(S (NP (Det The) (NP (N boy))) (VP (TV loves) (NP (N Mary))))\n",
      "Parsing 'Some boys love Mary'\n",
      "    [ * Some boys love Mary]\n",
      "  S [ 'Some' * boys love Mary]\n",
      "  R [ Det * boys love Mary]\n",
      "  S [ Det 'boys' * love Mary]\n",
      "  R [ Det N * love Mary]\n",
      "  R [ Det NP * love Mary]\n",
      "  R [ NP * love Mary]\n",
      "  S [ NP 'love' * Mary]\n",
      "  R [ NP TV * Mary]\n",
      "  S [ NP TV 'Mary' * ]\n",
      "  R [ NP TV N * ]\n",
      "  R [ NP TV NP * ]\n",
      "  R [ NP VP * ]\n",
      "  R [ S * ]\n",
      "(S (NP (Det Some) (NP (N boys))) (VP (TV love) (NP (N Mary))))\n",
      "Parsing 'John gave Mary a heavy book'\n",
      "    [ * John gave Mary a heavy book]\n",
      "  S [ 'John' * gave Mary a heavy book]\n",
      "  R [ N * gave Mary a heavy book]\n",
      "  R [ NP * gave Mary a heavy book]\n",
      "  S [ NP 'gave' * Mary a heavy book]\n",
      "  R [ NP DV * Mary a heavy book]\n",
      "  S [ NP DV 'Mary' * a heavy book]\n",
      "  R [ NP DV N * a heavy book]\n",
      "  R [ NP DV NP * a heavy book]\n",
      "  S [ NP DV NP 'a' * heavy book]\n",
      "  R [ NP DV NP Det * heavy book]\n",
      "  S [ NP DV NP Det 'heavy' * book]\n",
      "  R [ NP DV NP Det Adj * book]\n",
      "  S [ NP DV NP Det Adj 'book' * ]\n",
      "  R [ NP DV NP Det Adj N * ]\n",
      "  R [ NP DV NP Det Adj NP * ]\n",
      "  R [ NP DV NP Det NP * ]\n",
      "  R [ NP DV NP NP * ]\n",
      "  R [ NP VP * ]\n",
      "  R [ S * ]\n",
      "(S\n",
      "  (NP (N John))\n",
      "  (VP\n",
      "    (DV gave)\n",
      "    (NP (N Mary))\n",
      "    (NP (Det a) (NP (Adj heavy) (NP (N book))))))\n",
      "Parsing 'John gave it to Mary'\n",
      "    [ * John gave it to Mary]\n",
      "  S [ 'John' * gave it to Mary]\n",
      "  R [ N * gave it to Mary]\n",
      "  R [ NP * gave it to Mary]\n",
      "  S [ NP 'gave' * it to Mary]\n",
      "  R [ NP DV * it to Mary]\n",
      "  S [ NP DV 'it' * to Mary]\n",
      "  R [ NP DV N * to Mary]\n",
      "  R [ NP DV NP * to Mary]\n",
      "  S [ NP DV NP 'to' * Mary]\n",
      "  R [ NP DV NP P * Mary]\n",
      "  S [ NP DV NP P 'Mary' * ]\n",
      "  R [ NP DV NP P N * ]\n",
      "  R [ NP DV NP P NP * ]\n",
      "  R [ NP DV NP PP * ]\n",
      "  R [ NP VP * ]\n",
      "  R [ S * ]\n",
      "(S\n",
      "  (NP (N John))\n",
      "  (VP (DV gave) (NP (N it)) (PP (P to) (NP (N Mary)))))\n",
      "Parsing 'John likes butter'\n",
      "    [ * John likes butter]\n",
      "  S [ 'John' * likes butter]\n",
      "  R [ N * likes butter]\n",
      "  R [ NP * likes butter]\n",
      "  S [ NP 'likes' * butter]\n",
      "  R [ NP TV * butter]\n",
      "  S [ NP TV 'butter' * ]\n",
      "  R [ NP TV N * ]\n",
      "  R [ NP TV NP * ]\n",
      "  R [ NP VP * ]\n",
      "  R [ S * ]\n",
      "(S (NP (N John)) (VP (TV likes) (NP (N butter))))\n",
      "Parsing 'John moves a chair'\n",
      "    [ * John moves a chair]\n",
      "  S [ 'John' * moves a chair]\n",
      "  R [ N * moves a chair]\n",
      "  R [ NP * moves a chair]\n",
      "  S [ NP 'moves' * a chair]\n",
      "  R [ NP TV * a chair]\n",
      "  S [ NP TV 'a' * chair]\n",
      "  R [ NP TV Det * chair]\n",
      "  S [ NP TV Det 'chair' * ]\n",
      "  R [ NP TV Det N * ]\n",
      "  R [ NP TV Det NP * ]\n",
      "  R [ NP TV NP * ]\n",
      "  R [ NP VP * ]\n",
      "  R [ S * ]\n",
      "(S (NP (N John)) (VP (TV moves) (NP (Det a) (NP (N chair)))))\n"
     ]
    }
   ],
   "source": [
    "exp_sg = \"\"\"\n",
    "S -> NP VP\n",
    "VP ->    TV NP | DV NP NP|  DV NP PP| |TV NP PP|  IV \n",
    "NP -> Det NP | Adj NP | N \n",
    "PP -> P NP\n",
    "Adj -> \"heavy\"\n",
    "Det -> \"The\" | \"A\" | \"a\" | \"Some\"\n",
    "N -> 'John' | \"bread\" | \"They\" | \"She\" | \"Everybody\" | \"boy\" | \"Mary\" | \"book\" | \"it\" | \"chair\" | \"butter\" | \"her\" | \"them\" | \"boys\"\n",
    "P -> \"to\"\n",
    "IV -> 'left'\n",
    "TV -> 'eats' | \"love\" | \"loves\" | \"moves\" | \"likes\" \n",
    "DV -> 'gave'  \n",
    "\"\"\"\n",
    "\n",
    "exp_g = CFG.fromstring(exp_sg)\n",
    "\n",
    "# Bottom-up  parser\n",
    "exp_sr_parser = nltk.ShiftReduceParser(exp_g, trace=2)\n",
    "\n",
    "for sentence in input_sentences.split(\"\\n\"):\n",
    "    parse_sentence(sentence, exp_sr_parser)"
   ]
  },
  {
   "cell_type": "markdown",
   "metadata": {},
   "source": [
    "## 1.1.1 Determiners and Count/Mass Nouns"
   ]
  },
  {
   "cell_type": "markdown",
   "metadata": {},
   "source": [
    "Determiners in English come before common nouns. Proper nouns cannot have a determiner. (We ignore cases such as \"The Petersons came by tonight for a visit.\")\n",
    "Some determiners can only be used for singular nouns (\"a\"), others only for plural nouns (\"many\") and others with either plural or singular (\"the\").\n",
    "\n",
    "Some common nouns are called \"uncountable\" or [mass nouns](https://en.wikipedia.org/wiki/Mass_noun) (e.g., \"butter\"). Mass nouns cannot appear in plural and cannot have counting determiners. Other nouns are [countable nouns](https://en.wikipedia.org/wiki/Count_noun%22). They can be used in the plural and can be modified by counting determiners.\n",
    "\n",
    "Let's try to expand our grammar in order to make it sensitive to these different rules.\n",
    "For that, we will add some general NTs, and split our terminals into different categories:\n",
    "`PDet` = Plural Det   \n",
    "`SDet` =  Singular Det   \n",
    "`CN` = Common Noun  \n",
    "`ProperN` = Proper Noun  \n",
    "`CCN` = Countable Common Noun   \n",
    "`MCN` = Mass Common Noun  \n",
    "`PCCN` =  Plural `CCN`  \n",
    "`SCCN` = Singular `CCN`  \n"
   ]
  },
  {
   "cell_type": "code",
   "execution_count": 23,
   "metadata": {},
   "outputs": [
    {
     "name": "stdout",
     "output_type": "stream",
     "text": [
      "Warning: NP -> PDet PCCN will never be used\n",
      "Warning: NP -> SDet SCCN will never be used\n",
      "John left\n",
      "John loves Mary\n",
      "They love Mary\n",
      "They love her\n",
      "She loves them\n",
      "Everybody loves John\n",
      "A boy loves Mary\n",
      "The boy loves Mary\n",
      "Some boys love Mary\n",
      "John gave Mary a heavy book\n",
      "John gave it to Mary\n",
      "John likes butter\n",
      "John moves a chair\n",
      "\n",
      "parsing \"John left\" ...\n",
      "Parsing 'John left'\n",
      "    [ * John left]\n",
      "    [ 'John' * left]\n",
      "    [ NP 'left' * ]\n",
      "(S (NP (N (ProperN John))) (VP (IV left)))\n",
      "\n",
      "parsing \"John loves Mary\" ...\n",
      "Parsing 'John loves Mary'\n",
      "    [ * John loves Mary]\n",
      "    [ 'John' * loves Mary]\n",
      "    [ NP 'loves' * Mary]\n",
      "    [ NP TV 'Mary' * ]\n",
      "(S (NP (N (ProperN John))) (VP (TV loves) (NP (N (ProperN Mary)))))\n",
      "\n",
      "parsing \"They love Mary\" ...\n",
      "Parsing 'They love Mary'\n",
      "    [ * They love Mary]\n",
      "    [ 'They' * love Mary]\n",
      "    [ NP 'love' * Mary]\n",
      "    [ NP TV 'Mary' * ]\n",
      "(S (NP (N (ProperN They))) (VP (TV love) (NP (N (ProperN Mary)))))\n",
      "\n",
      "parsing \"They love her\" ...\n",
      "Parsing 'They love her'\n",
      "    [ * They love her]\n",
      "    [ 'They' * love her]\n",
      "    [ NP 'love' * her]\n",
      "    [ NP TV 'her' * ]\n",
      "(S (NP (N (ProperN They))) (VP (TV love) (NP (N (ProperN her)))))\n",
      "\n",
      "parsing \"She loves them\" ...\n",
      "Parsing 'She loves them'\n",
      "    [ * She loves them]\n",
      "    [ 'She' * loves them]\n",
      "    [ NP 'loves' * them]\n",
      "    [ NP TV 'them' * ]\n",
      "(S (NP (N (ProperN She))) (VP (TV loves) (NP (N (ProperN them)))))\n",
      "\n",
      "parsing \"Everybody loves John\" ...\n",
      "Parsing 'Everybody loves John'\n",
      "    [ * Everybody loves John]\n",
      "    [ 'Everybody' * loves John]\n",
      "    [ NP 'loves' * John]\n",
      "    [ NP TV 'John' * ]\n",
      "(S\n",
      "  (NP (N (ProperN Everybody)))\n",
      "  (VP (TV loves) (NP (N (ProperN John)))))\n",
      "\n",
      "parsing \"A boy loves Mary\" ...\n",
      "Parsing 'A boy loves Mary'\n",
      "    [ * A boy loves Mary]\n",
      "    [ 'A' * boy loves Mary]\n",
      "    [ Det 'boy' * loves Mary]\n",
      "    [ NP 'loves' * Mary]\n",
      "    [ NP TV 'Mary' * ]\n",
      "(S\n",
      "  (NP (Det (SDet A)) (NP (N (CN (CCN (SCCN boy))))))\n",
      "  (VP (TV loves) (NP (N (ProperN Mary)))))\n",
      "\n",
      "parsing \"The boy loves Mary\" ...\n",
      "Parsing 'The boy loves Mary'\n",
      "    [ * The boy loves Mary]\n",
      "    [ 'The' * boy loves Mary]\n",
      "    [ Det 'boy' * loves Mary]\n",
      "    [ NP 'loves' * Mary]\n",
      "    [ NP TV 'Mary' * ]\n",
      "(S\n",
      "  (NP (Det The) (NP (N (CN (CCN (SCCN boy))))))\n",
      "  (VP (TV loves) (NP (N (ProperN Mary)))))\n",
      "\n",
      "parsing \"Some boys love Mary\" ...\n",
      "Parsing 'Some boys love Mary'\n",
      "    [ * Some boys love Mary]\n",
      "    [ 'Some' * boys love Mary]\n",
      "    [ Det 'boys' * love Mary]\n",
      "    [ NP 'love' * Mary]\n",
      "    [ NP TV 'Mary' * ]\n",
      "(S\n",
      "  (NP (Det (PDet Some)) (NP (N (CN (CCN (PCCN boys))))))\n",
      "  (VP (TV love) (NP (N (ProperN Mary)))))\n",
      "\n",
      "parsing \"John gave Mary a heavy book\" ...\n",
      "Parsing 'John gave Mary a heavy book'\n",
      "    [ * John gave Mary a heavy book]\n",
      "    [ 'John' * gave Mary a heavy book]\n",
      "    [ NP 'gave' * Mary a heavy book]\n",
      "    [ NP DV 'Mary' * a heavy book]\n",
      "    [ NP DV NP 'a' * heavy book]\n",
      "    [ NP DV NP Det 'heavy' * book]\n",
      "    [ NP DV NP Det Adj 'book' * ]\n",
      "(S\n",
      "  (NP (N (ProperN John)))\n",
      "  (VP\n",
      "    (DV gave)\n",
      "    (NP (N (ProperN Mary)))\n",
      "    (NP (Det (SDet a)) (Adj heavy) (NP (N (CN (CCN (SCCN book))))))))\n",
      "\n",
      "parsing \"John gave it to Mary\" ...\n",
      "Parsing 'John gave it to Mary'\n",
      "    [ * John gave it to Mary]\n",
      "    [ 'John' * gave it to Mary]\n",
      "    [ NP 'gave' * it to Mary]\n",
      "    [ NP DV 'it' * to Mary]\n",
      "    [ NP DV NP 'to' * Mary]\n",
      "    [ NP DV NP P 'Mary' * ]\n",
      "(S\n",
      "  (NP (N (ProperN John)))\n",
      "  (VP\n",
      "    (DV gave)\n",
      "    (NP (N (ProperN it)))\n",
      "    (PP (P to) (NP (N (ProperN Mary))))))\n",
      "\n",
      "parsing \"John likes butter\" ...\n",
      "Parsing 'John likes butter'\n",
      "    [ * John likes butter]\n",
      "    [ 'John' * likes butter]\n",
      "    [ NP 'likes' * butter]\n",
      "    [ NP TV 'butter' * ]\n",
      "(S\n",
      "  (NP (N (ProperN John)))\n",
      "  (VP (TV likes) (NP (N (CN (MCN butter))))))\n",
      "\n",
      "parsing \"John moves a chair\" ...\n",
      "Parsing 'John moves a chair'\n",
      "    [ * John moves a chair]\n",
      "    [ 'John' * moves a chair]\n",
      "    [ NP 'moves' * a chair]\n",
      "    [ NP TV 'a' * chair]\n",
      "    [ NP TV Det 'chair' * ]\n",
      "(S\n",
      "  (NP (N (ProperN John)))\n",
      "  (VP\n",
      "    (TV moves)\n",
      "    (NP (Det (SDet a)) (NP (N (CN (CCN (SCCN chair))))))))\n"
     ]
    }
   ],
   "source": [
    "\n",
    "\n",
    "exp2_sg = \"\"\"\n",
    "S    ->   NP VP\n",
    "VP   ->   TV NP | DV NP NP | DV NP PP | TV NP PP | IV \n",
    "NP   ->   PDet PCCN | SDet SCCN | Det Adj NP | Det NP | N\n",
    "PP   ->   P NP  \n",
    "N    ->   CN | ProperN                    \n",
    "CN   ->   CCN | MCN                  \n",
    "CCN  ->   PCCN | SCCN   \n",
    "Det  ->   PDet | SDet |\"The\"             \n",
    "Adj  ->   \"heavy\"\n",
    "ProperN   ->   \"John\" | \"Mary\" |  \"They\" | \"She\" | \"Everybody\" |  \"her\" | \"them\" | \"it\" \n",
    "MCN  ->   \"butter\" \n",
    "PCCN ->   \"boys\"\n",
    "SCCN ->   \"book\" | \"bread\" |  \"boy\" | \"chair\" \n",
    "PDet ->   \"Some\"\n",
    "SDet ->   \"A\" | \"a\" \n",
    "P    ->   \"to\" \n",
    "IV   ->   \"left\" \n",
    "TV   ->   \"eats\" | \"love\" | \"loves\" | \"moves\" | \"likes\" \n",
    "DV   ->   \"gave\"  \n",
    "\"\"\"\n",
    "\n",
    "exp2_g = CFG.fromstring(exp2_sg)\n",
    "\n",
    "exp2_sr_parser = nltk.ShiftReduceParser(exp2_g, trace=1)\n",
    "print(input_sentences)\n",
    "for sentence in input_sentences.split(\"\\n\"):\n",
    "    print()\n",
    "    print('parsing', '\"'+sentence+'\"', \"...\")\n",
    "    parse_sentence(sentence, exp2_sr_parser)"
   ]
  },
  {
   "cell_type": "markdown",
   "metadata": {},
   "source": [
    "## 1.1.2-3 Pronouns and Subject/Verb Agreement"
   ]
  },
  {
   "cell_type": "markdown",
   "metadata": {},
   "source": [
    "Pronouns in English are characterized by the following morphological attributes:\n",
    "Number: singular / plural (e.g., he/they)\n",
    "Gender: masculine / feminine / neutral (e.g., he/she/it)\n",
    "Case: nominative / accusative (e.g., he/him)\n",
    "\n",
    "For example, Let's have a look on the following sentences:\n",
    "    He loves Mary\n",
    "    They love Mary\n",
    "There is an agreement between the Noun and the Verb regarding the suffix 's' after the verb. We want to represent this difference and to allow verb terminals with suffix 's' only third-person-singular (3rd. pers. sing.) \n",
    "We could keep splitting the NT to smaller one. but holding NT for any attribute of a noun, for example, is not very attractive:  \n",
    "`Nomi_Singular_Pro_Noun -> \"he\" `\n",
    "\n",
    "`Nomi_Plural_Pro_Noun -> \"they\" `\n",
    "\n",
    "As nltk's book [explains](https://www.nltk.org/book/ch09.html#ex-good1):\n",
    "\n",
    "*In place of a single production expanding S, we now have two productions, one covering the sentences involving singular subject NPs and VPs, the other covering sentences with plural subject NPs and VPs. In fact, every production in (5) has two counterparts in (6). With a small grammar, this is not really such a problem, although it is aesthetically unappealing. However, with a larger grammar that covers a reasonable subset of English constructions, the prospect of doubling the grammar size is very unattractive. Let's suppose now that we used the same approach to deal with first, second and third person agreement, for both singular and plural. This would lead to the original grammar being multiplied by a factor of 6, which we definitely want to avoid.*\n",
    "\n",
    "Instead we can use **features** - it will make our code cleaner and easier to understand.\n",
    "Our features will include `NUM` for singular / plural, and `CASE` - for nominative / accusative. We won't have to hold information regarding gender - the agreement in our sentences doesn't require that since English verbs don't need to agree about gender. It is varying between languages - CFG for Hebrew, Arabic or French must do so. \n",
    "\n"
   ]
  },
  {
   "cell_type": "code",
   "execution_count": 6,
   "metadata": {},
   "outputs": [
    {
     "name": "stdout",
     "output_type": "stream",
     "text": [
      "parsing \"John left\":\n",
      "trying to parse the sentence...\n",
      "(S[]\n",
      "  (NP[NUM='sg'] (PropN[NUM='sg'] John))\n",
      "  (VP[NUM='sg'] (IV[NUM='sg'] left)))\n",
      "\n",
      "parsing \"John loves Mary\":\n",
      "trying to parse the sentence...\n",
      "(S[]\n",
      "  (NP[NUM='sg'] (PropN[NUM='sg'] John))\n",
      "  (VP[NUM='sg']\n",
      "    (TV[NUM='sg'] loves)\n",
      "    (NP[NUM='sg'] (PropN[NUM='sg'] Mary))))\n",
      "\n",
      "parsing \"They love Mary\":\n",
      "trying to parse the sentence...\n",
      "(S[]\n",
      "  (NP[NUM='pl'] (ProN[CASE='nom', NUM='pl'] They))\n",
      "  (VP[NUM='pl']\n",
      "    (TV[NUM='pl'] love)\n",
      "    (NP[NUM='sg'] (PropN[NUM='sg'] Mary))))\n",
      "\n",
      "parsing \"They love her\":\n",
      "trying to parse the sentence...\n",
      "(S[]\n",
      "  (NP[NUM='pl'] (ProN[CASE='nom', NUM='pl'] They))\n",
      "  (VP[NUM='pl']\n",
      "    (TV[NUM='pl'] love)\n",
      "    (NP[NUM='sg'] (ProN[CASE='acc', NUM='sg'] her))))\n",
      "\n",
      "parsing \"She loves them\":\n",
      "trying to parse the sentence...\n",
      "(S[]\n",
      "  (NP[NUM='sg'] (ProN[CASE='nom', NUM='sg'] She))\n",
      "  (VP[NUM='sg']\n",
      "    (TV[NUM='sg'] loves)\n",
      "    (NP[NUM='pl'] (ProN[CASE='acc', NUM='pl'] them))))\n",
      "\n",
      "parsing \"Everybody loves John\":\n",
      "trying to parse the sentence...\n",
      "(S[]\n",
      "  (NP[NUM='sg'] (ProN[CASE='nom', NUM='sg'] Everybody))\n",
      "  (VP[NUM='sg']\n",
      "    (TV[NUM='sg'] loves)\n",
      "    (NP[NUM='sg'] (PropN[NUM='sg'] John))))\n",
      "\n",
      "parsing \"A boy loves Mary\":\n",
      "trying to parse the sentence...\n",
      "(S[]\n",
      "  (NP[NUM=?n]\n",
      "    (DET[] (DET[COUNT='yes', NUM='sg'] A))\n",
      "    (NP[NUM=?n] (N[COUNT='yes', NUM='sg'] boy)))\n",
      "  (VP[NUM='sg']\n",
      "    (TV[NUM='sg'] loves)\n",
      "    (NP[NUM='sg'] (PropN[NUM='sg'] Mary))))\n",
      "\n",
      "parsing \"The boy loves Mary\":\n",
      "trying to parse the sentence...\n",
      "(S[]\n",
      "  (NP[NUM=?n]\n",
      "    (DET[] The)\n",
      "    (NP[NUM=?n] (N[COUNT='yes', NUM='sg'] boy)))\n",
      "  (VP[NUM='sg']\n",
      "    (TV[NUM='sg'] loves)\n",
      "    (NP[NUM='sg'] (PropN[NUM='sg'] Mary))))\n",
      "\n",
      "parsing \"Some boys love Mary\":\n",
      "trying to parse the sentence...\n",
      "(S[]\n",
      "  (NP[NUM=?n]\n",
      "    (DET[] (DET[COUNT='yes', NUM='Pl'] Some))\n",
      "    (NP[NUM=?n] (N[COUNT='yes', NUM='pl'] boys)))\n",
      "  (VP[NUM='pl']\n",
      "    (TV[NUM='pl'] love)\n",
      "    (NP[NUM='sg'] (PropN[NUM='sg'] Mary))))\n",
      "\n",
      "parsing \"John gave Mary a heavy book\":\n",
      "trying to parse the sentence...\n",
      "(S[]\n",
      "  (NP[NUM='sg'] (PropN[NUM='sg'] John))\n",
      "  (VP[NUM=?n]\n",
      "    (DV[] gave)\n",
      "    (NP[NUM='sg'] (PropN[NUM='sg'] Mary))\n",
      "    (NP[NUM=?n]\n",
      "      (DET[] (DET[COUNT='yes', NUM='sg'] a))\n",
      "      (ADJ[] heavy)\n",
      "      (NP[NUM=?n] (N[COUNT='yes', NUM='sg'] book)))))\n",
      "\n",
      "parsing \"John gave it to Mary\":\n",
      "trying to parse the sentence...\n",
      "(S[]\n",
      "  (NP[NUM='sg'] (PropN[NUM='sg'] John))\n",
      "  (VP[NUM=?n]\n",
      "    (DV[] gave)\n",
      "    (NP[NUM='sg'] (ProN[CASE='acc', NUM='sg'] it))\n",
      "    (PP[] (PP[] to) (NP[NUM='sg'] (PropN[NUM='sg'] Mary)))))\n",
      "\n",
      "parsing \"John likes butter\":\n",
      "trying to parse the sentence...\n",
      "(S[]\n",
      "  (NP[NUM='sg'] (PropN[NUM='sg'] John))\n",
      "  (VP[NUM='sg']\n",
      "    (TV[NUM='sg'] likes)\n",
      "    (NP[NUM=?n] (N[COUNT='no'] butter))))\n",
      "\n",
      "parsing \"John moves a chair\":\n",
      "trying to parse the sentence...\n",
      "(S[]\n",
      "  (NP[NUM='sg'] (PropN[NUM='sg'] John))\n",
      "  (VP[NUM='sg']\n",
      "    (TV[NUM='sg'] moves)\n",
      "    (NP[NUM=?n]\n",
      "      (DET[] (DET[COUNT='yes', NUM='sg'] a))\n",
      "      (NP[NUM=?n] (N[COUNT='yes', NUM='sg'] chair)))))\n",
      "\n"
     ]
    }
   ],
   "source": [
    "from nltk import grammar, parse\n",
    "\n",
    "g = \"\"\"S ->  NP[NUM=?n , CASE=\"nom\"] VP[NUM=?n] \n",
    "VP[NUM=?n] -> IV[NUM=?n] | TV[NUM=?n] NP | TV[NUM=?n] NP PP | DV[NUM=?n] NP PP | DV[NUM=?n] NP NP\n",
    "DET ->  \"The\" | DET[NUM=\"sg\", COUNT = \"yes\" ] | DET[NUM=\"Pl\", COUNT = \"yes\" ]\n",
    "PP -> \"to\" | PP NP\n",
    "NP[NUM=?n] -> ProN[NUM=?n] |DET[NUM=?n, CASE =?c] NP[NUM=?n , CASE=?c] |  DET[NUM=?n, CASE =?c] ADJ NP[NUM=?n, CASE =?c] |PropN[NUM=?n] | N\n",
    "ADJ -> \"heavy\"\n",
    "PropN[NUM=\"sg\"] -> \"John\" | \"Mary\"\n",
    "ProN[NUM=\"sg\",CASE=\"acc\"] -> \"her\" | \"it\"\n",
    "ProN[NUM=\"pl\",CASE=\"acc\"] -> \"them\"\n",
    "ProN[NUM=\"sg\",CASE=\"nom\"] -> \"She\" |\"Everybody\"\n",
    "ProN[NUM=\"pl\",CASE=\"nom\"] -> \"They\"\n",
    "DET[NUM=\"sg\", COUNT = \"yes\" ] ->  \"a\" | \"A\" \n",
    "DET[NUM=\"Pl\", COUNT = \"yes\" ] ->  \"Some\" \n",
    "N[NUM=\"sg\", COUNT = \"yes\" ] ->  \"boy\" | \"chair\" | \"book\"\n",
    "N[NUM=\"pl\", COUNT = \"yes\" ] ->  \"boys\"\n",
    "N[COUNT = \"no\"] -> \"butter\"\n",
    "IV[NUM=\"sg\"]   ->   \"left\"\n",
    "TV[NUM=\"sg\"]   ->   \"eats\" | \"loves\" | \"moves\" | \"likes\" \n",
    "TV[NUM=\"pl\"]   ->   \"love\" \n",
    "DV   ->   \"gave\"  \"\"\"\n",
    "\n",
    "gmr =  grammar.FeatureGrammar.fromstring(g)\n",
    "parser = parse.FeatureEarleyChartParser(gmr , trace = 0 )\n",
    "\n",
    "from nltk.tree import Tree\n",
    "from IPython.display import display\n",
    "\n",
    "    \n",
    "def features_parse_sentence(sent):\n",
    "    print(\"trying to parse the sentence...\")\n",
    "    tokens = sent.split()\n",
    "    trees = parser.parse(tokens)\n",
    "    found = False\n",
    "    for tree in trees:\n",
    "        found = True\n",
    "        print(tree)\n",
    "        print()\n",
    "        break\n",
    "    if not found: print(\"Couldn't parse a legal tree!\")    \n",
    "      \n",
    "for sentence in input_sentences.split(\"\\n\"):\n",
    "    print('parsing','\"'+sentence+'\":' )\n",
    "    features_parse_sentence(sentence)"
   ]
  },
  {
   "cell_type": "markdown",
   "metadata": {},
   "source": [
    "## 1.1.4 Over-generation"
   ]
  },
  {
   "cell_type": "markdown",
   "metadata": {},
   "source": [
    "Since we build are CFG to handle specific sentences, we must be aware of over generation.\n",
    "While we do try to distinguish between different features of the different POS, natural languages are complicated, include exceptional cases, and change all the time. Trying to cover every sentence mught lead to numerous of NTs and rules. \n",
    "Let's check our grammer, to see where it fails.\n",
    "\n",
    "Let's first make sure it doesn't parse mistakes of wrong `NUM`.\n",
    "We will take off the *s* from a verb of singular noun, or add it for plural noun:"
   ]
  },
  {
   "cell_type": "code",
   "execution_count": 7,
   "metadata": {},
   "outputs": [
    {
     "name": "stdout",
     "output_type": "stream",
     "text": [
      "trying to parse the sentence...\n",
      "Couldn't parse a legal tree!\n",
      "trying to parse the sentence...\n",
      "Couldn't parse a legal tree!\n"
     ]
    }
   ],
   "source": [
    "features_parse_sentence(\"John love it\")\n",
    "features_parse_sentence(\"They loves her\")"
   ]
  },
  {
   "cell_type": "markdown",
   "metadata": {},
   "source": [
    "And how about using accusative in nominative's place?"
   ]
  },
  {
   "cell_type": "code",
   "execution_count": 8,
   "metadata": {},
   "outputs": [
    {
     "name": "stdout",
     "output_type": "stream",
     "text": [
      "trying to parse the sentence...\n",
      "Couldn't parse a legal tree!\n"
     ]
    }
   ],
   "source": [
    "features_parse_sentence(\"them loves her\")"
   ]
  },
  {
   "cell_type": "markdown",
   "metadata": {},
   "source": [
    "Great! Our grammer didn't allow these mistakes, but what if take away the count determiner?"
   ]
  },
  {
   "cell_type": "code",
   "execution_count": 9,
   "metadata": {},
   "outputs": [
    {
     "name": "stdout",
     "output_type": "stream",
     "text": [
      "trying to parse the sentence...\n",
      "(S[]\n",
      "  (NP[NUM='sg'] (PropN[NUM='sg'] John))\n",
      "  (VP[NUM='sg']\n",
      "    (TV[NUM='sg'] moves)\n",
      "    (NP[NUM=?n] (N[COUNT='yes', NUM='sg'] chair))))\n",
      "\n"
     ]
    }
   ],
   "source": [
    "features_parse_sentence(\"John moves chair\") "
   ]
  },
  {
   "cell_type": "markdown",
   "metadata": {},
   "source": [
    "Here it fails. Let's it with some more examples:"
   ]
  },
  {
   "cell_type": "code",
   "execution_count": 10,
   "metadata": {},
   "outputs": [
    {
     "name": "stdout",
     "output_type": "stream",
     "text": [
      "trying to parse the sentence...\n",
      "(S[]\n",
      "  (NP[NUM='sg'] (PropN[NUM='sg'] John))\n",
      "  (VP[NUM='sg']\n",
      "    (TV[NUM='sg'] moves)\n",
      "    (NP[NUM=?n] (N[COUNT='yes', NUM='sg'] chair))\n",
      "    (PP[] (PP[] to) (NP[NUM='pl'] (ProN[CASE='nom', NUM='pl'] They)))))\n",
      "\n"
     ]
    }
   ],
   "source": [
    "features_parse_sentence(\"John moves chair to They\")"
   ]
  },
  {
   "cell_type": "code",
   "execution_count": 11,
   "metadata": {},
   "outputs": [
    {
     "name": "stdout",
     "output_type": "stream",
     "text": [
      "trying to parse the sentence...\n",
      "(S[]\n",
      "  (NP[NUM='pl'] (ProN[CASE='nom', NUM='pl'] They))\n",
      "  (VP[NUM='pl']\n",
      "    (TV[NUM='pl'] love)\n",
      "    (NP[NUM=?n] (N[COUNT='yes', NUM='sg'] boy))\n",
      "    (PP[] (PP[] to) (NP[NUM=?n] (N[COUNT='yes', NUM='sg'] chair)))))\n",
      "\n"
     ]
    }
   ],
   "source": [
    "features_parse_sentence(\"They love boy to chair\")"
   ]
  },
  {
   "cell_type": "code",
   "execution_count": 12,
   "metadata": {},
   "outputs": [
    {
     "name": "stdout",
     "output_type": "stream",
     "text": [
      "trying to parse the sentence...\n",
      "(S[]\n",
      "  (NP[NUM='sg'] (PropN[NUM='sg'] Mary))\n",
      "  (VP[NUM='sg']\n",
      "    (TV[NUM='sg'] loves)\n",
      "    (NP[NUM=?n] (N[COUNT='no'] butter))\n",
      "    (PP[] (PP[] to) (NP[NUM=?n] (N[COUNT='no'] butter)))))\n",
      "\n"
     ]
    }
   ],
   "source": [
    "features_parse_sentence(\"Mary loves butter to butter\")"
   ]
  },
  {
   "cell_type": "markdown",
   "metadata": {},
   "source": [
    "Well... It is far from being perfect!\n",
    "\n",
    "We will try to improve it in the next quetions."
   ]
  },
  {
   "cell_type": "markdown",
   "metadata": {},
   "source": [
    "# Q1.2.\n",
    "\n",
    "## 1.2.1 Support Prepositional Phrases\n",
    "\n",
    "Prepositional phrases allow us to better describe nouns, verbs or adjectives. They help us to add more information. Infact, we can add infinite numbers of prepositional phrase, each one adds extra detail:\n",
    "\n",
    "* *I saw a dog.*\n",
    "\n",
    "* *I saw a dog on the grass.*\n",
    "\n",
    "* *I saw a dog on the grass with black fur.*\n",
    "\n",
    "* *I saw a dog on the grass with black fur near the table.*\n",
    "\n",
    "* *I saw a dog on the grass with black fur near the table with the drinks.*\n",
    "\n",
    "...\n",
    "\n",
    "In addition, we would like to extend  are grammer so it can parse coordinations. Coordinations add the ability to use words such as \"and\" or \"or\". These words will always come between phrases from the same kind.\n",
    "For example - \n",
    "\n",
    "* *i ate (NP pizza) and (NP salad)*\n",
    "\n",
    "* *Yesterday I (VP ran) and (VP ate)*\n",
    "\n",
    "But it can not coordinates phrases of different types:\n",
    "\n",
    "* *I (VP ate) and (NP pizza)*\n",
    "\n",
    "It can coordinate infinite number of phrases as well, as long as they have the same POS:\n",
    "\n",
    "* *Avi ate (VP pizza) and (VP falafel) and (VP salad) and (VP hummus)...*  \n",
    "\n",
    "Avi must have been really hungry! Let's try to add this abilities to our CFG. \n"
   ]
  },
  {
   "cell_type": "code",
   "execution_count": 13,
   "metadata": {},
   "outputs": [
    {
     "name": "stdout",
     "output_type": "stream",
     "text": [
      "parsing \"John saw a man with a telescope\":\n",
      "trying to parse the sentence...\n",
      "(S[]\n",
      "  (NP[NUM='sg'] (PropN[NUM='sg'] John))\n",
      "  (VP[NUM=?n]\n",
      "    (TV[] saw)\n",
      "    (NP[NUM=?n]\n",
      "      (DET[] (DET[COUNT='yes', NUM='sg'] a))\n",
      "      (NP[NUM=?n] (N[COUNT='yes', NUM='sg'] man)))\n",
      "    (PP[]\n",
      "      (P[] with)\n",
      "      (NP[NUM=?n]\n",
      "        (DET[] (DET[COUNT='yes', NUM='sg'] a))\n",
      "        (NP[NUM=?n] (N[COUNT='yes', NUM='sg'] telescope))))))\n",
      "\n",
      "parsing \"John saw a man on the hill with a telescope\":\n",
      "trying to parse the sentence...\n",
      "(S[]\n",
      "  (NP[NUM='sg'] (PropN[NUM='sg'] John))\n",
      "  (VP[NUM=?n]\n",
      "    (TV[] saw)\n",
      "    (NP[NUM=?n]\n",
      "      (DET[] (DET[COUNT='yes', NUM='sg'] a))\n",
      "      (NP[NUM=?n] (N[COUNT='yes', NUM='sg'] man)))\n",
      "    (PP[]\n",
      "      (P[] on)\n",
      "      (NP[NUM=?n]\n",
      "        (DET[] the)\n",
      "        (NP[NUM=?n] (N[COUNT='yes', NUM='sg'] hill)))\n",
      "      (PP[]\n",
      "        (P[] with)\n",
      "        (NP[NUM=?n]\n",
      "          (DET[] (DET[COUNT='yes', NUM='sg'] a))\n",
      "          (NP[NUM=?n] (N[COUNT='yes', NUM='sg'] telescope)))))))\n",
      "\n",
      "parsing \"Mary knows men and women\":\n",
      "trying to parse the sentence...\n",
      "(S[]\n",
      "  (NP[NUM='sg'] (PropN[NUM='sg'] Mary))\n",
      "  (VP[NUM='sg']\n",
      "    (TV[NUM='sg'] knows)\n",
      "    (NP[NUM=?n]\n",
      "      (NP[NUM=?n] (N[COUNT='yes', NUM='pl'] men))\n",
      "      (CON[] and)\n",
      "      (NP[NUM=?n] (N[COUNT='yes', NUM='pl'] women)))))\n",
      "\n",
      "parsing \"Mary knows men, children and women\":\n",
      "trying to parse the sentence...\n",
      "(S[]\n",
      "  (NP[NUM='sg'] (PropN[NUM='sg'] Mary))\n",
      "  (VP[NUM='sg']\n",
      "    (TV[NUM='sg'] knows)\n",
      "    (NP[NUM=?n]\n",
      "      (NP[NUM=?n]\n",
      "        (NP[NUM=?n] (N[COUNT='yes', NUM='pl'] men))\n",
      "        (NP[NUM=?n] (N[COUNT='yes', NUM='pl'] children)))\n",
      "      (CON[] and)\n",
      "      (NP[NUM=?n] (N[COUNT='yes', NUM='pl'] women)))))\n",
      "\n",
      "parsing \"John and Mary eat bread\":\n",
      "trying to parse the sentence...\n",
      "(S[]\n",
      "  (NP[NUM=?n]\n",
      "    (NP[NUM='sg'] (PropN[NUM='sg'] John))\n",
      "    (CON[] and)\n",
      "    (NP[NUM='sg'] (PropN[NUM='sg'] Mary)))\n",
      "  (VP[NUM='pl']\n",
      "    (TV[NUM='pl'] eat)\n",
      "    (NP[NUM=?n] (N[COUNT='no'] bread))))\n",
      "\n",
      "parsing \"John and Mary eat bread with cheese\":\n",
      "trying to parse the sentence...\n",
      "(S[]\n",
      "  (NP[NUM=?n]\n",
      "    (NP[NUM='sg'] (PropN[NUM='sg'] John))\n",
      "    (CON[] and)\n",
      "    (NP[NUM='sg'] (PropN[NUM='sg'] Mary)))\n",
      "  (VP[NUM='pl']\n",
      "    (TV[NUM='pl'] eat)\n",
      "    (NP[NUM=?n] (N[COUNT='no'] bread))\n",
      "    (PP[] (P[] with) (NP[NUM=?n] (N[COUNT='no'] cheese)))))\n",
      "\n"
     ]
    }
   ],
   "source": [
    "from nltk import grammar, parse\n",
    "import re\n",
    "g = \"\"\"S ->  NP[NUM=?n , CASE=\"nom\"] VP[NUM=?n] \n",
    "VP[NUM=?n] -> IV[NUM=?n] | TV[NUM=?n] NP | TV[NUM=?n] NP PP | DV[NUM=?n] NP PP | DV[NUM=?n] NP NP\n",
    "DET ->  \"The\" | \"the\" | DET[NUM=\"sg\", COUNT = \"yes\" ] | DET[NUM=\"Pl\", COUNT = \"yes\" ]\n",
    "PP -> P NP | P NP PP  \n",
    "NP[NUM=?n] -> ProN[NUM=?n] |DET[NUM=?n, CASE =?c] NP[NUM=?n , CASE=?c] |  DET[NUM=?n, CASE =?c] ADJ NP[NUM=?n, CASE =?c] |PropN[NUM=?n] | NP NP |NP CON NP | N\n",
    "P[] -> \"with\" | \"on\" | \"to\"\n",
    "ADJ[] -> \"heavy\"\n",
    "CON[] -> \"and\"\n",
    "PropN[NUM=\"sg\"] -> \"John\" | \"Mary\"\n",
    "ProN[NUM=\"sg\",CASE=\"acc\"] -> \"her\" | \"it\"\n",
    "ProN[NUM=\"pl\",CASE=\"acc\"] -> \"them\"\n",
    "ProN[NUM=\"sg\",CASE=\"nom\"] -> \"She\" |\"Everybody\"\n",
    "ProN[NUM=\"pl\",CASE=\"nom\"] -> \"They\"\n",
    "DET[NUM=\"sg\", COUNT = \"yes\" ] ->  \"a\" | \"A\" \n",
    "DET[NUM=\"Pl\", COUNT = \"yes\" ] ->  \"Some\" \n",
    "N[NUM=\"sg\", COUNT = \"yes\" ] ->  \"boy\" | \"chair\" | \"book\" | \"man\" | \"telescope\" | \"hill\" \n",
    "N[NUM=\"pl\", COUNT = \"yes\" ] ->  \"boys\" | \"men\" | \"women\" | \"children\"\n",
    "N[COUNT = \"no\"] -> \"butter\" | \"bread\" | \"cheese\" | \"mac\"\n",
    "IV[]  ->   \"left\"\n",
    "TV[NUM=\"sg\"]   ->   \"eats\" | \"loves\" | \"moves\" | \"likes\" | \"shows\" | \"knows\"\n",
    "TV[NUM=\"pl\"]   ->   \"love\" | \"eat\"\n",
    "TV[]   ->   \"saw\"\n",
    "DV   ->   \"gave\"  \"\"\"\n",
    "\n",
    "g =  grammar.FeatureGrammar.fromstring(g)\n",
    "parser = parse.FeatureEarleyChartParser(g , trace = 0 )\n",
    "input_co_sentences = '''John saw a man with a telescope\n",
    "John saw a man on the hill with a telescope\n",
    "Mary knows men and women\n",
    "Mary knows men, children and women\n",
    "John and Mary eat bread\n",
    "John and Mary eat bread with cheese'''      \n",
    "for sentence in input_co_sentences.split(\"\\n\"):\n",
    "    print('parsing','\"'+sentence+'\":' )\n",
    "    features_parse_sentence(re.sub(\",\",\"\", sentence))"
   ]
  },
  {
   "cell_type": "markdown",
   "metadata": {},
   "source": [
    "# 1.2.2 Support Coordination\n",
    "\n",
    "Coordination phrase has its own number, and it is not always easy to decide it. Let's have a look on two sentences:\n",
    "\n",
    "*Deni and Yovel play in Maccabi Tel-Aviv Basketball team*\n",
    "\n",
    "*Deni or Yovel is practicing as we speak*\n",
    "\n",
    "So knowing that we have a coordination is not enough in order to decide the number. Without knowing it we won't be able to make sure the verb agrees, and therefore we must hold this information somehow.\n",
    "We could have just mark `and` as plural and `or` as singular, but it is not that simple:\n",
    "\n",
    "* *Yovel or the rest of the team play every week* \n",
    "\n",
    "It seems that plural `NP` affect the whole coordination and change the following verb accordingly. The plural case is \"stronger\" than the singular case. We will need to consider that when trying to decide how to use the verb.\n",
    "what else should we consider? Let's have a look at another sentence: \n",
    "\n",
    "\n",
    "* *Mac and cheese is his favorite food*\n",
    "\n",
    "\"mac and cheese\", in this case, represents singular noun, even though we see using in `and`. Of course, it might also be two different meals - and in this case we will consider it as plural `NP`. So sometime we have ambiguity that depends on culture, knowledge, context etc.\n",
    "\n",
    "We suggest the following rules in order to decide the number of a coordination NP (it can be more general, but we split it into cases to allow extension):  \n",
    "Let X be a coordination of the pattern (**and** (NP1,NP2)).  \n",
    "if NP1 is singular/mass and NP2 is singular/mass:  \n",
    "&emsp;if X surrounded by quotation mark or X is an item in the lexicon :  \n",
    "&emsp;&emsp; X's number is singular  \n",
    "&emsp;else:    \n",
    "&emsp;&emsp;X's number is plural  \n",
    "else if NP1 is singular/mass and NP2 is plural (or the other way around):  \n",
    "&emsp;if X surrounded by quotation mark or X is an item in the lexicon :  \n",
    "&emsp;&emsp;X's number is singular  \n",
    "&emsp;else:  \n",
    "&emsp;&emsp;X's number is plural  \n",
    "else if NP1 is plural and NP2 is plural:  \n",
    "&emsp;if X surrounded by quotation mark or X is an item in the lexicon :  \n",
    "&emsp;&emsp;X's number is singular  \n",
    "&emsp;else:  \n",
    "&emsp;&emsp;X's number is plural  \n",
    "        \n",
    "          \n",
    "Let Y be a coordination of the pattern (**or** (NP1,NP2)).  \n",
    "if NP1 is singular/mass and NP2 is singular/mass:  \n",
    "&emsp;Y's number is singular  \n",
    "else if NP1 is singular/mass and NP2 is plural (or the other way around):  \n",
    "&emsp;Y's number is plural  \n",
    "else if else if NP1 is plural and NP2 is plural:  \n",
    "&emsp;Y's number is plural  \n",
    "\n",
    "These rules will help us generate trees which hopefully will be as accurate as possible, but languages not always follow simple rules. There are lots of exceptions, knowledge-based changes, and of course - changes as time pass.\n"
   ]
  },
  {
   "cell_type": "markdown",
   "metadata": {},
   "source": [
    "# 1.2.3 Overgeneration"
   ]
  },
  {
   "cell_type": "markdown",
   "metadata": {},
   "source": [
    "As we add more rules, we overgenerate our grammer, allowing more and more incorrect sentences to be parsed.\n",
    "We do support coordination, but as we showed before, and since we don't have lexicon we use, we will parse the following example:"
   ]
  },
  {
   "cell_type": "code",
   "execution_count": 14,
   "metadata": {},
   "outputs": [
    {
     "name": "stdout",
     "output_type": "stream",
     "text": [
      "trying to parse the sentence...\n",
      "(S[]\n",
      "  (NP[NUM=?n]\n",
      "    (NP[NUM=?n] (N[COUNT='yes', NUM='sg'] book))\n",
      "    (CON[] and)\n",
      "    (NP[NUM=?n] (N[COUNT='yes', NUM='sg'] chair)))\n",
      "  (VP[NUM='pl']\n",
      "    (TV[NUM='pl'] love)\n",
      "    (NP[NUM='sg'] (ProN[CASE='acc', NUM='sg'] it))))\n",
      "\n"
     ]
    }
   ],
   "source": [
    "# semantics error \n",
    "features_parse_sentence(\"book and chair love it\")"
   ]
  },
  {
   "cell_type": "code",
   "execution_count": 15,
   "metadata": {},
   "outputs": [
    {
     "name": "stdout",
     "output_type": "stream",
     "text": [
      "trying to parse the sentence...\n",
      "(S[]\n",
      "  (NP[NUM=?n]\n",
      "    (NP[NUM=?n] (N[COUNT='yes', NUM='pl'] boys))\n",
      "    (CON[] and)\n",
      "    (NP[NUM=?n] (N[COUNT='yes', NUM='pl'] men)))\n",
      "  (VP[NUM='sg']\n",
      "    (TV[NUM='sg'] loves)\n",
      "    (NP[NUM='sg'] (ProN[CASE='acc', NUM='sg'] it))))\n",
      "\n"
     ]
    }
   ],
   "source": [
    "# syntactic error\n",
    "features_parse_sentence(\"boys and men loves it\")"
   ]
  },
  {
   "cell_type": "code",
   "execution_count": 16,
   "metadata": {},
   "outputs": [
    {
     "name": "stdout",
     "output_type": "stream",
     "text": [
      "trying to parse the sentence...\n",
      "(S[]\n",
      "  (NP[NUM=?n]\n",
      "    (NP[NUM=?n]\n",
      "      (NP[NUM=?n]\n",
      "        (NP[NUM=?n]\n",
      "          (NP[NUM=?n]\n",
      "            (NP[NUM=?n] (N[COUNT='yes', NUM='sg'] chair))\n",
      "            (CON[] and)\n",
      "            (NP[NUM=?n] (N[COUNT='yes', NUM='pl'] men)))\n",
      "          (CON[] and)\n",
      "          (NP[NUM=?n] (N[COUNT='yes', NUM='pl'] boys)))\n",
      "        (CON[] and)\n",
      "        (NP[NUM=?n] (N[COUNT='yes', NUM='sg'] telescope)))\n",
      "      (CON[] and)\n",
      "      (NP[NUM='pl'] (ProN[CASE='nom', NUM='pl'] They)))\n",
      "    (CON[] and)\n",
      "    (NP[NUM='pl'] (ProN[CASE='acc', NUM='pl'] them)))\n",
      "  (VP[NUM='sg']\n",
      "    (TV[NUM='sg'] loves)\n",
      "    (NP[NUM='sg'] (ProN[CASE='acc', NUM='sg'] it))))\n",
      "\n"
     ]
    }
   ],
   "source": [
    "features_parse_sentence(\"chair and men and boys and telescope and They and them loves it\")"
   ]
  },
  {
   "cell_type": "markdown",
   "metadata": {},
   "source": [
    "<hr/>\n",
    "<a name=\"q2\"></a>\n",
    "<h2>Question 2: Learning a PCFG from a Treebank</h2>\n",
    "\n",
    "<a name=\"q2.1\"></a>\n",
    "<h3>Question 2.1: Random PCFG Generation</h3>\n",
    "\n",
    "Consider the PCFG datatype implementation provided in NLTK.\n",
    "<p/>\n",
    "Consider the module <a href=\"http://www.nltk.org/_modules/nltk/parse/generate.html\">nltk.parse.generate</a>.\n",
    "It contains a function generate(grammar) which given a CFG grammar produces all the sentences the grammar can produce.\n",
    "Naturally, this may produce an infinite number of sentences if the grammar is recursive."
   ]
  },
  {
   "cell_type": "code",
   "execution_count": 158,
   "metadata": {},
   "outputs": [
    {
     "name": "stdout",
     "output_type": "stream",
     "text": [
      "  1. the man slept\n",
      "  2. the man saw the man\n",
      "  3. the man saw the park\n",
      "  4. the man saw the dog\n",
      "  5. the man saw a man\n",
      "  6. the man saw a park\n",
      "  7. the man saw a dog\n",
      "  8. the man walked in the man\n",
      "  9. the man walked in the park\n",
      " 10. the man walked in the dog\n"
     ]
    }
   ],
   "source": [
    "                        import itertools\n",
    "from nltk.grammar import CFG\n",
    "from nltk.parse import generate\n",
    "\n",
    "demo_grammar = \"\"\"\n",
    "  S -> NP VP\n",
    "  NP -> Det N\n",
    "  PP -> P NP\n",
    "  VP -> 'slept' | 'saw' NP | 'walked' PP\n",
    "  Det -> 'the' | 'a'\n",
    "  N -> 'man' | 'park' | 'dog'\n",
    "  P -> 'in' | 'with'\n",
    "\"\"\"\n",
    "grammar = CFG.fromstring(demo_grammar)\n",
    "\n",
    "for n, sent in enumerate(generate.generate(grammar, n=10), 1):\n",
    "        print('%3d. %s' % (n, ' '.join(sent)))"
   ]
  },
  {
   "cell_type": "markdown",
   "metadata": {},
   "source": [
    "<a name=\"q2.1.1\"></a>\n",
    "<h4>2.1.1 PCFG_Generate</h4>\n",
    "\n",
    "Write a new function <code>pcfg_generate(grammar)</code> which will\n",
    "generate a random tree from a PCFG according to its generative\n",
    "probability model.  In other words, your task is to write a <code>sample</code>\n",
    "method from the PCFG distribution.\n",
    "<p/>\n",
    "\n",
    "Generation works top down: pick the start symbol of\n",
    "the grammar, then randomly choose a production starting from the start\n",
    "symbol, and add the RHS as children of the root node, then expand each\n",
    "node until you obtain terminals.  The result should be a tree and not\n",
    "a sentence.\n",
    "<p/>\n",
    "\n",
    "The generated parse trees should exhibit the distribution of non-terminal\n",
    "distributions captured in the PCFG (that is, the generation process should\n",
    "sample rules according to the weights of each non-terminal in the grammar).\n",
    "<p/>\n",
    "\n",
    "Note: you must generate according to the PCFG distribution - not just randomly.\n",
    "To this end, you should use the method <code>generate()</code> from the\n",
    "NTLK <a href=\"http://www.nltk.org/_modules/nltk/probability.html\">ProbDistI</a> interface.\n",
    "Specifically, you should use the\n",
    "<a href=\"http://www.nltk.org/api/nltk.html#nltk.probability.DictionaryProbDist\">nltk.probability.DictionaryProbDist</a>\n",
    "class to represent the probability distribution of mapping an LHS non-terminal to one of the possible RHS."
   ]
  },
  {
   "cell_type": "markdown",
   "metadata": {},
   "source": [
    "<pre class=\"prettyprint\">\n",
    "Function Specification\n",
    "\n",
    "pcfg_generate(grammar) -- return a tree sampled from the language described by the PCFG grammar\n",
    "</pre>"
   ]
  },
  {
   "cell_type": "code",
   "execution_count": 159,
   "metadata": {},
   "outputs": [
    {
     "name": "stdout",
     "output_type": "stream",
     "text": [
      "{S: [{NP: [{Det: ['the']}, {N: ['hill']}]}, {VP: [{V: ['ate']}]}]}\n"
     ]
    }
   ],
   "source": [
    "from nltk.grammar import Nonterminal\n",
    "from nltk.grammar import toy_pcfg2\n",
    "from nltk.probability import DictionaryProbDist, MLEProbDist\n",
    "\n",
    "import pprint\n",
    "from collections import defaultdict\n",
    "\n",
    "S = Nonterminal('S')\n",
    "\n",
    "## We would use ConditionalProbDistI instead of a dictionary of ProbDisI, but we followed the assignment\n",
    "def generate_from_prob_dists(prob_dists, node):\n",
    "    if node not in prob_dists:\n",
    "        return node\n",
    "    sample = prob_dists[node].generate()\n",
    "        \n",
    "    return {node: [generate_from_prob_dists(prob_dists, child) for child in sample]}\n",
    "\n",
    "def pcfg_to_prob_dist(grammar):\n",
    "    prob_dists = {}\n",
    "    productions = grammar.productions()\n",
    "    dists = defaultdict(dict)\n",
    "    for pr in productions: \n",
    "        dists[pr.lhs()][pr.rhs()] = pr.prob()\n",
    "    for lhs, dist in dists.items():\n",
    "        prob_dists[lhs] = DictionaryProbDist(dist)\n",
    "    return prob_dists\n",
    "        \n",
    "pprint.pp(generate_from_prob_dists(pcfg_to_prob_dist(toy_pcfg2), S))"
   ]
  },
  {
   "cell_type": "markdown",
   "metadata": {},
   "source": [
    "<a name=\"q2.1.2\"></a>\n",
    "<h4>2.1.2 Generate 1,000 Trees</h4>\n",
    "\n",
    "Generate 1,000 random trees using nltk.grammar.toy_pcfg2 - store the resulting trees in a file \"toy_pcfg2.gen\"."
   ]
  },
  {
   "cell_type": "code",
   "execution_count": 160,
   "metadata": {},
   "outputs": [],
   "source": [
    "NUM_OF_SAMPLES = 1000\n",
    "\n",
    "prob_dists = pcfg_to_prob_dist(toy_pcfg2)\n",
    "sentences = [generate_from_prob_dists(prob_dists, S) for _ in range(NUM_OF_SAMPLES)]\n",
    "with open('./output/toy_pcfg2.gen', \"w\") as f:\n",
    "    f.write(pprint.pformat(sentences))\n"
   ]
  },
  {
   "cell_type": "markdown",
   "metadata": {},
   "source": [
    "<a name=\"q2.1.3\"></a>\n",
    "<h4>2.1.3 Gather Rules Frequency for all Non-Terminals</h4>\n",
    "    \n",
    "Compute the rules frequency distribution of each non-terminal and pre-terminal in the generated corpus.\n",
    "You can look at the code of <a href=\"http://www.nltk.org/_modules/nltk/grammar.html#induce_pcfg\">nltk.induce_pcfg(root, productions)</a> to see how this can be done.\n",
    "You should construct one distribution per non-terminal."
   ]
  },
  {
   "cell_type": "code",
   "execution_count": 161,
   "metadata": {},
   "outputs": [
    {
     "name": "stdout",
     "output_type": "stream",
     "text": [
      "{S: [{NP: [{Name: ['Jack']}]}, {VP: [{V: ['ran']}, {NP: [{Det: ['a']}, {N: ['boy']}]}]}]}\n",
      "(S, [S -> NP VP, NP -> Name, Name -> 'Jack', VP -> V NP, V -> 'ran', NP -> Det N, Det -> 'a', N -> 'boy'])\n"
     ]
    }
   ],
   "source": [
    "import itertools\n",
    "from nltk.grammar import Production, ProbabilisticProduction, PCFG\n",
    "def get_productions(sentence):\n",
    "    # Returns production for previous, and recursive production pairs\n",
    "    if type(sentence) is not dict:\n",
    "        return sentence, []\n",
    "    lhs, rhss = list(sentence.items())[0]\n",
    "    productions = []\n",
    "    nxt = [get_productions(rhs) for rhs in rhss]\n",
    "    productions.append(Production(lhs, [rhs[0] for rhs in nxt]))\n",
    "    for rhs, next_productions in nxt:\n",
    "        productions.extend(next_productions)\n",
    "    return lhs, productions\n",
    "    \n",
    "\n",
    "def induce_pcfg(sentences, start=S):\n",
    "    \"\"\"\n",
    "    Induce a PCFG grammar from a list of productions.\n",
    "\n",
    "    The probability of a production A -> B C in a PCFG is:\n",
    "\n",
    "    |                count(A -> B C)\n",
    "    |  P(B, C | A) = ---------------       where \\* is any right hand side\n",
    "    |                 count(A -> \\*)\n",
    "    \"\"\"\n",
    "    # Production count: the number of times a given production occurs\n",
    "    pcount = defaultdict(int)\n",
    "\n",
    "    # LHS-count: counts the number of times a given lhs occurs\n",
    "    lcount = defaultdict(int)\n",
    "    \n",
    "    for sentence in sentences:\n",
    "        for prod in get_productions(sentence)[1]:\n",
    "            lcount[prod.lhs()] = lcount[prod.lhs()] + 1\n",
    "            pcount[prod] = pcount[prod] + 1\n",
    "\n",
    "    prods = [\n",
    "        ProbabilisticProduction(p.lhs(), p.rhs(), prob=pcount[p] / lcount[p.lhs()])\n",
    "        for p in pcount\n",
    "    ]\n",
    "    return PCFG(start, prods)\n",
    "\n",
    "\n",
    "print(sentences[0])\n",
    "print(get_productions(sentences[0]))\n",
    "sample_pcfg = induce_pcfg(sentences)"
   ]
  },
  {
   "cell_type": "markdown",
   "metadata": {},
   "source": [
    "<a name=\"q2.1.4\"></a>\n",
    "<h4>2.1.4 Compute KL-Divergence between a priori and generated parameters</h4>\n",
    "    \n",
    "For each distribution, compute the KL-divergence between the MLE estimation of the probability\n",
    "distribution constructed on your test corpus and toy_pcfg2.\n",
    "The MLE estimation is obtained by applying the <a href=\"http://www.nltk.org/_modules/nltk/probability.html#MLEProbDist\">MLEProbDist</a> estimator to the observed empirical frequency distribution.\n",
    "KL-divergence (<a href=\"http://en.wikipedia.org/wiki/Kullback-Leibler_divergence\">Kullback-Leibler divergence</a>\n",
    "also known as relative entropy) estimates the difference between two distributions.\n",
    "<p/>\n",
    "Read some precisions on handling <a href='KL.html'>diverging KL computations</a> when the support of the 2 distributions p and q are not identical.\n",
    "<p/>\n",
    "\n",
    "Explain your observations."
   ]
  },
  {
   "cell_type": "code",
   "execution_count": 162,
   "metadata": {},
   "outputs": [
    {
     "name": "stdout",
     "output_type": "stream",
     "text": [
      "S -> (NP, VP), px=1.0, qx=1.0\n",
      "NP -> (Name,), px=0.282021151586369, qx=0.28\n",
      "NP -> (Det, N), px=0.4098707403055229, qx=0.41\n",
      "NP -> (NP, PP), px=0.3081081081081081, qx=0.31\n",
      "Name -> ('Jack',), px=0.5283333333333333, qx=0.52\n",
      "Name -> ('Bob',), px=0.4716666666666667, qx=0.48\n",
      "VP -> (V, NP), px=0.6120434353405726, qx=0.59\n",
      "VP -> (V,), px=0.3751233958538993, qx=0.4\n",
      "VP -> (VP, PP), px=0.012833168805528134, qx=0.01\n",
      "V -> ('ran',), px=0.286, qx=0.28\n",
      "V -> ('ate',), px=0.504, qx=0.51\n",
      "V -> ('saw',), px=0.21, qx=0.21\n",
      "Det -> ('a',), px=0.3136467889908257, qx=0.31\n",
      "Det -> ('the',), px=0.39392201834862384, qx=0.41\n",
      "Det -> ('my',), px=0.29243119266055045, qx=0.28\n",
      "N -> ('boy',), px=0.12213302752293578, qx=0.11\n",
      "N -> ('hill',), px=0.4827981651376147, qx=0.5\n",
      "N -> ('cookie',), px=0.13360091743119265, qx=0.12\n",
      "N -> ('table',), px=0.11811926605504587, qx=0.13\n",
      "N -> ('telescope',), px=0.143348623853211, qx=0.14\n",
      "PP -> (P, NP), px=1.0, qx=1.0\n",
      "P -> ('with',), px=0.622356495468278, qx=0.61\n",
      "P -> ('under',), px=0.3776435045317221, qx=0.39\n"
     ]
    },
    {
     "data": {
      "text/plain": [
       "0.005039693884263232"
      ]
     },
     "execution_count": 162,
     "metadata": {},
     "output_type": "execute_result"
    }
   ],
   "source": [
    "import numpy as np\n",
    "def kl_divergence(p_dists, q_dists, printing=True):\n",
    "    res = 0\n",
    "    for key, p_dist in p_dists.items():\n",
    "        samples = p_dist.samples()\n",
    "        for x in samples:\n",
    "            px = p_dist.prob(x)\n",
    "            if px == 0:\n",
    "                continue\n",
    "            qx = q_dists[key].prob(x)\n",
    "            if printing:\n",
    "                print(f\"{key} -> {x}, px={px}, qx={qx}\")\n",
    "            res += px*(np.log(px) - np.log(qx))\n",
    "    return res\n",
    "            \n",
    "\n",
    "sample_prob_dists = pcfg_to_prob_dist(sample_pcfg)\n",
    "kl_divergence(sample_prob_dists, prob_dists)"
   ]
  },
  {
   "cell_type": "markdown",
   "metadata": {},
   "source": [
    "#### With only 1000 obesrvations, we were able to recover the model with a very high accuracy"
   ]
  },
  {
   "cell_type": "markdown",
   "metadata": {},
   "source": [
    "<a name=\"q2.2\"></a>\n",
    "<h3>Question 2.2: Learn a PCFG from a Treebank</h3>\n",
    "\n",
    "In this question, we will learn a PCFG from a treebank with different\n",
    "types of tree annotations.  We start from a subset of 200 trees from\n",
    "the Penn Treebank (which is distributed by <a href=\"http://www.nltk.org\">NLTK</a>\n",
    "in the corpus named \"treebank\" - the NLTK version contains about 4,000 trees).\n",
    "<p/>\n",
    "\n",
    "In this question, we want to induce a PCFG from the treebank and\n",
    "investigate its properties.  For reference, NLTK provides a function\n",
    "called <a href=\"http://www.nltk.org/_modules/nltk/grammar.html#induce_pcfg\">induce_pcfg</a>\n",
    "in the nltk.grammar module.  It starts from a set of productions and constructs a weighted grammar with the MLE\n",
    "estimation of the production distributions.\n",
    "\n",
    "\n",
    "<a name=\"q2.2.1\"></a>\n",
    "<h4>2.2.1 Induce_PCFG</h4>\n",
    "\n",
    "At this stage, we learn the PCFG \"as is\" -- without Chomsky Form Normalization -- but with \"simplified\" tags. \n",
    "That is, we must use a function to simplify all tags in the tree (non-terminal and terminal): "
   ]
  },
  {
   "cell_type": "code",
   "execution_count": 163,
   "metadata": {},
   "outputs": [
    {
     "name": "stderr",
     "output_type": "stream",
     "text": [
      "[nltk_data] Downloading package treebank to /home/amir/nltk_data...\n",
      "[nltk_data]   Package treebank is already up-to-date!\n"
     ]
    },
    {
     "data": {
      "text/plain": [
       "True"
      ]
     },
     "execution_count": 163,
     "metadata": {},
     "output_type": "execute_result"
    }
   ],
   "source": [
    "import nltk\n",
    "nltk.download('treebank')"
   ]
  },
  {
   "cell_type": "code",
   "execution_count": 164,
   "metadata": {},
   "outputs": [
    {
     "name": "stdout",
     "output_type": "stream",
     "text": [
      "(S\n",
      "  (S-TPC-1\n",
      "    (NP-SBJ\n",
      "      (NP (NP (DT A) (NN form)) (PP (IN of) (NP (NN asbestos))))\n",
      "      (RRC\n",
      "        (ADVP-TMP (RB once))\n",
      "        (VP\n",
      "          (VBN used)\n",
      "          (NP (-NONE- *))\n",
      "          (S-CLR\n",
      "            (NP-SBJ (-NONE- *))\n",
      "            (VP\n",
      "              (TO to)\n",
      "              (VP\n",
      "                (VB make)\n",
      "                (NP (NNP Kent) (NN cigarette) (NNS filters))))))))\n",
      "    (VP\n",
      "      (VBZ has)\n",
      "      (VP\n",
      "        (VBN caused)\n",
      "        (NP\n",
      "          (NP (DT a) (JJ high) (NN percentage))\n",
      "          (PP (IN of) (NP (NN cancer) (NNS deaths)))\n",
      "          (PP-LOC\n",
      "            (IN among)\n",
      "            (NP\n",
      "              (NP (DT a) (NN group))\n",
      "              (PP\n",
      "                (IN of)\n",
      "                (NP\n",
      "                  (NP (NNS workers))\n",
      "                  (RRC\n",
      "                    (VP\n",
      "                      (VBN exposed)\n",
      "                      (NP (-NONE- *))\n",
      "                      (PP-CLR (TO to) (NP (PRP it)))\n",
      "                      (ADVP-TMP\n",
      "                        (NP\n",
      "                          (QP (RBR more) (IN than) (CD 30))\n",
      "                          (NNS years))\n",
      "                        (IN ago))))))))))))\n",
      "  (, ,)\n",
      "  (NP-SBJ (NNS researchers))\n",
      "  (VP (VBD reported) (SBAR (-NONE- 0) (S (-NONE- *T*-1))))\n",
      "  (. .))\n"
     ]
    }
   ],
   "source": [
    "import random\n",
    "\n",
    "from nltk.corpus import LazyCorpusLoader, BracketParseCorpusReader\n",
    "\n",
    "treebank = LazyCorpusLoader('treebank/combined', BracketParseCorpusReader, r'wsj_.*\\.mrg')\n",
    "treebank = treebank.parsed_sents()\n",
    "random.seed(42)\n",
    "random.shuffle(treebank)\n",
    "# Raw form\n",
    "# print(treebank[:1])\n",
    "\n",
    "# Pretty print\n",
    "print(treebank[3])\n",
    "\n",
    "# we need to transform the tree to remove NONE tags and simplify tags."
   ]
  },
  {
   "cell_type": "markdown",
   "metadata": {},
   "source": [
    "We want all tags of the form \"NP-SBJ-2\" to be simplified into \"NP\".  We also want to filter out \"NONE\" elements from the treebank.  \n",
    "You must find the best way to perform NONE filtering on the trees. (NONE elements appear in the original Penn Treebank for example in the case of relative clauses.)"
   ]
  },
  {
   "cell_type": "markdown",
   "metadata": {},
   "source": [
    "<pre class=\"prettyprint\">\n",
    "pcfg_learn(treebank, n)\n",
    "-- treebank is the nltk.corpus.treebank lazy corpus reader\n",
    "-- n indicates the number of trees to read\n",
    "-- return an nltk.PCFG instance\n",
    "</pre>\n",
    "\n",
    "Use the following code as a starting point:"
   ]
  },
  {
   "cell_type": "code",
   "execution_count": 165,
   "metadata": {},
   "outputs": [
    {
     "name": "stdout",
     "output_type": "stream",
     "text": [
      "(S\n",
      "  (S\n",
      "    (NP\n",
      "      (NP (NP (DT A) (NN form)) (PP (IN of) (NP (NN asbestos))))\n",
      "      (RRC\n",
      "        (ADVP (RB once))\n",
      "        (VP\n",
      "          (VBN used)\n",
      "          (S\n",
      "            (VP\n",
      "              (TO to)\n",
      "              (VP\n",
      "                (VB make)\n",
      "                (NP (NNP Kent) (NN cigarette) (NNS filters))))))))\n",
      "    (VP\n",
      "      (VBZ has)\n",
      "      (VP\n",
      "        (VBN caused)\n",
      "        (NP\n",
      "          (NP (DT a) (JJ high) (NN percentage))\n",
      "          (PP (IN of) (NP (NN cancer) (NNS deaths)))\n",
      "          (PP\n",
      "            (IN among)\n",
      "            (NP\n",
      "              (NP (DT a) (NN group))\n",
      "              (PP\n",
      "                (IN of)\n",
      "                (NP\n",
      "                  (NP (NNS workers))\n",
      "                  (RRC\n",
      "                    (VP\n",
      "                      (VBN exposed)\n",
      "                      (PP (TO to) (NP (PRP it)))\n",
      "                      (ADVP\n",
      "                        (NP\n",
      "                          (QP (RBR more) (IN than) (CD 30))\n",
      "                          (NNS years))\n",
      "                        (IN ago))))))))))))\n",
      "  (, ,)\n",
      "  (NP (NNS researchers))\n",
      "  (VP (VBD reported))\n",
      "  (. .))\n"
     ]
    }
   ],
   "source": [
    "from nltk.grammar import Production\n",
    "from nltk import Tree, Nonterminal\n",
    "\n",
    "def simplify_functional_tag(tag):\n",
    "    if '-' in tag:\n",
    "        tag = tag.split('-')[0]\n",
    "    return tag\n",
    "\n",
    "def get_tag(tree):\n",
    "    if isinstance(tree, Tree):\n",
    "        tree = tree.label()\n",
    "        if isinstance(tree, Nonterminal):\n",
    "            tree = tree.symbol()\n",
    "    return simplify_functional_tag(tree)\n",
    "\n",
    "def tree_to_production(tree):\n",
    "    return Production(Nonterminal(get_tag(tree)), [get_tag(child) for child in tree])\n",
    "\n",
    "def tree_to_productions(tree):\n",
    "    yield tree_to_production(tree)\n",
    "    for child in tree:\n",
    "        if isinstance(child, Tree):\n",
    "            for prod in tree_to_productions(child):\n",
    "                yield prod\n",
    "                \n",
    "def simplify_tree(tree):\n",
    "    to_del = []\n",
    "    for subtree in tree.subtrees():       \n",
    "        subtree.set_label(get_tag(subtree))\n",
    "        for i, child in enumerate(subtree):\n",
    "            if isinstance(child, str):\n",
    "                continue\n",
    "            if len(list(child.subtrees(filter=lambda x:x.label()=='-NONE-')))==len(child.leaves()):\n",
    "                to_del.append((subtree, i))\n",
    "    to_del.reverse()\n",
    "    for subtree, i in to_del:\n",
    "        del subtree[i]\n",
    "\n",
    "def get_simplified_trees(treebank, n=None, s=0):\n",
    "    for tree in treebank[s:None if n==None else s+n]:\n",
    "        tree = tree.copy(deep=True)\n",
    "        simplify_tree(tree)\n",
    "        assert tree is not None\n",
    "        yield tree\n",
    "                \n",
    "def get_productions(treebank, n=None, s=0):\n",
    "    for tree in treebank[s:None if n==None else s+n]:\n",
    "        for prod in tree_to_productions(tree):\n",
    "            if [prod.lhs()] != prod.rhs():\n",
    "                yield prod\n",
    "\n",
    "def pcfg_learn(treebank, n=None, productions=None, s=0):\n",
    "    if productions is None:\n",
    "        productions = get_productions(treebank, n, s)\n",
    "    return nltk.grammar.induce_pcfg(S, productions)\n",
    "\n",
    "for tree in get_simplified_trees(treebank, n=1,s=3):\n",
    "    print(tree)\n",
    "\n",
    "simplified_treebank = list(get_simplified_trees(treebank))\n",
    "productions = list(get_productions(simplified_treebank))\n",
    "pcfg = pcfg_learn(treebank, productions=productions)"
   ]
  },
  {
   "cell_type": "markdown",
   "metadata": {},
   "source": [
    "<a name=\"q2.2.2\"></a>\n",
    "<h4>2.2.2 Data Exploration and Validation</h4>\n",
    "\n",
    "Explore the following properties of the learned PCFG:\n",
    "<ul>\n",
    "<li>How many productions are learned from the trees? How many interior nodes were in the treebank?\n",
    "<li>Draw a plot of the distribution of productions according to their frequency (number of rules with frequency 1, 2, ...).  What do you observe?\n",
    "<li>Induce a PCFG from 200 trees, and another one from 400 trees - compare the distribution of the rules you learn.\n",
    "</ul>"
   ]
  },
  {
   "cell_type": "code",
   "execution_count": 166,
   "metadata": {},
   "outputs": [],
   "source": [
    "import matplotlib.pyplot as plt\n",
    "from collections import Counter\n",
    "def productions_counts(productions):\n",
    "    # Production count: the number of times a given production occurs\n",
    "    pcount = Counter()\n",
    "    for prod in productions:\n",
    "        pcount[prod] += 1\n",
    "    return pcount"
   ]
  },
  {
   "cell_type": "code",
   "execution_count": 167,
   "metadata": {},
   "outputs": [
    {
     "name": "stdout",
     "output_type": "stream",
     "text": [
      "There are 16722 productions from 167545 interior nodes\n"
     ]
    }
   ],
   "source": [
    "pcount = productions_counts(productions)\n",
    "print(f\"There are {len(pcount.keys())} productions from {sum(pcount.values())} interior nodes\")"
   ]
  },
  {
   "cell_type": "code",
   "execution_count": 168,
   "metadata": {},
   "outputs": [
    {
     "data": {
      "image/png": "[encoded data removed]",
      "text/plain": [
       "<Figure size 432x288 with 1 Axes>"
      ]
     },
     "metadata": {
      "needs_background": "light"
     },
     "output_type": "display_data"
    }
   ],
   "source": [
    "def plot_production_counts(pcount):\n",
    "    counts = np.array([val for prod ,val in pcount.most_common()])\n",
    "    # Fixing to start from index 1 instead of zero\n",
    "    plt.loglog(np.arange(1, len(counts)+1), counts)\n",
    "    plt.xlabel('rank')\n",
    "    plt.ylabel('frequency')\n",
    "plot_production_counts(pcount)"
   ]
  },
  {
   "cell_type": "markdown",
   "metadata": {},
   "source": [
    "#### As we have seen before on many NLP datasets, the frequency of productions follows Zipf law"
   ]
  },
  {
   "cell_type": "code",
   "execution_count": 169,
   "metadata": {},
   "outputs": [
    {
     "data": {
      "image/png": "[encoded data removed]",
      "text/plain": [
       "<Figure size 1080x360 with 2 Axes>"
      ]
     },
     "metadata": {
      "needs_background": "light"
     },
     "output_type": "display_data"
    }
   ],
   "source": [
    "productions200 = list(get_productions(simplified_treebank, n=200))\n",
    "pcount200 = productions_counts(productions200)\n",
    "productions400 = list(get_productions(simplified_treebank, n=400, s=200))\n",
    "pcount400 = productions_counts(productions400)\n",
    "\n",
    "counts200 = np.array([val for prod ,val in pcount200.most_common()])\n",
    "counts400 = np.array([val for prod ,val in pcount400.most_common()])\n",
    "# Fixing to start from index 1 instead of zero\n",
    "fig, axis = plt.subplots(1,2,figsize=(15,5))\n",
    "axis[0].loglog(np.arange(1, len(counts200)+1), counts200)\n",
    "axis[1].loglog(np.arange(1, len(counts400)+1), counts400)\n",
    "for ax in axis.flat:\n",
    "    ax.set(xlabel='rank', ylabel='frequency')"
   ]
  },
  {
   "cell_type": "markdown",
   "metadata": {},
   "source": [
    "#### By learning from more trees, we see a similar trend, but the function is smoother.\n",
    "#### We can't calculate KL Divergence without smoothing like Good Turing, since it is undefined if not all productions have positive probability on the second PCFG.\n",
    "#### What we can do to guarantee that is using a subset of trees to learn:"
   ]
  },
  {
   "cell_type": "code",
   "execution_count": 170,
   "metadata": {},
   "outputs": [
    {
     "data": {
      "text/plain": [
       "11.404884807562855"
      ]
     },
     "execution_count": 170,
     "metadata": {},
     "output_type": "execute_result"
    }
   ],
   "source": [
    "pcfg200 = pcfg_learn(simplified_treebank, productions=productions200)\n",
    "pcfg400 = pcfg_learn(simplified_treebank, n=400)\n",
    "prob_dists200 = pcfg_to_prob_dist(pcfg200)\n",
    "prob_dists400 = pcfg_to_prob_dist(pcfg400)\n",
    "kl_divergence(prob_dists200, prob_dists400, printing=False)"
   ]
  },
  {
   "cell_type": "markdown",
   "metadata": {},
   "source": [
    "#### The KL divergence is quite large, so we get very different models for 200 trees vs 400 trees, it means that we need between 400 to 1000 trees to learn a good model that generalize well (at least)."
   ]
  },
  {
   "cell_type": "markdown",
   "metadata": {},
   "source": [
    "<a name=\"q2.3\"></a>\n",
    "<h3>Question 2.3: Induce a PCFG in Chomsky Normal Form</h3>\n",
    "\n",
    "<a name=\"q2.3.1\"></a>\n",
    "<h4>2.3.1 PCFG_CNF_Learn</h4>\n",
    "\n",
    "Implement <code>pcfg_cnf_learn</code>\n",
    "\n",
    "We now want to learn a PCFG in Chomsky Normal Form from the treebank, with simplified tags, and with filtered NONE elements.\n",
    "The strategy is to convert the trees in the treebank into CNF, then to induce the PCFG from the transformed trees.\n",
    "Use the function <code>chomsky_normal_form</code> in <a href=\"http://www.nltk.org/_modules/nltk/treetransforms.html\">nltk.treetransforms</a> to convert the trees.  \n",
    "Pay attention to NONE filtering.  Use horizontal Markov annotation and parent annotation:\n",
    "\n",
    "<code>\n",
    "chomsky_normal_form(tree, factor='right', horzMarkov=1, vertMarkov=1, childChar='|', parentChar='^')\n",
    "</code>\n",
    "\n",
    "<pre class=\"prettyprint\">\n",
    "pcfg_cnf_learn(treebank, n)\n",
    "-- treebank is the nltk.corpus.treebank lazy corpus reader (simplified tags)\n",
    "-- n indicates the number of trees to read\n",
    "-- return an nltk.PCFG in CNF\n",
    "</pre>"
   ]
  },
  {
   "cell_type": "code",
   "execution_count": 171,
   "metadata": {},
   "outputs": [],
   "source": [
    "from nltk.treetransforms import chomsky_normal_form\n",
    "\n",
    "def pcfg_cnf_learn(treebank, n=None, productions=None, s=0):\n",
    "    cnf_treebank = []\n",
    "    if productions is None:\n",
    "        for tree in treebank[s:None if n==None else s+n]:\n",
    "            tree = tree.copy(deep=True)\n",
    "            simplify_tree(tree)\n",
    "            chomsky_normal_form(tree, factor='right', horzMarkov=1, vertMarkov=1, childChar='|', parentChar='^')\n",
    "            cnf_treebank.append(tree)        \n",
    "    productions = get_productions(cnf_treebank, n, s)\n",
    "    return nltk.grammar.induce_pcfg(S, productions)\n",
    "\n",
    "cnf_treebank = []\n",
    "for tree in treebank:\n",
    "    tree = tree.copy(deep=True)\n",
    "    chomsky_normal_form(tree, factor='right', horzMarkov=1, vertMarkov=1, childChar='|', parentChar='^')\n",
    "    cnf_treebank.append(tree)\n",
    "\n",
    "cnf_productions = list(get_productions(cnf_treebank))\n",
    "cnf_pcfg = pcfg_learn(cnf_treebank, productions=cnf_productions)"
   ]
  },
  {
   "cell_type": "code",
   "execution_count": 172,
   "metadata": {},
   "outputs": [
    {
     "name": "stdout",
     "output_type": "stream",
     "text": [
      "CNF conversion has worked!\n"
     ]
    }
   ],
   "source": [
    "assert set(len(p.rhs()) for p in cnf_productions)==set([1,2])\n",
    "print(\"CNF conversion has worked!\")"
   ]
  },
  {
   "cell_type": "markdown",
   "metadata": {},
   "source": [
    "<a name=\"q2.3.2\"></a>\n",
    "<h4>2.3.2 Data Exploration</h4>\n",
    "\n",
    "How many productions are learned from the CNF trees? How many interior nodes were in the original treebank, and in the CNF treebank?\n",
    "\n",
    "Compare the CNF and non-CNF figures (ratios).  What do you conclude?"
   ]
  },
  {
   "cell_type": "code",
   "execution_count": 173,
   "metadata": {},
   "outputs": [
    {
     "name": "stdout",
     "output_type": "stream",
     "text": [
      "For the CNF trees there are 19556 productions from 212068 interior nodes\n",
      "For the CNF trees there are 16722 productions from 167545 interior nodes\n",
      "The ratios are 1.16947733524698 and 1.2657375630427645 accordingly\n"
     ]
    }
   ],
   "source": [
    "cnf_pcount = productions_counts(cnf_productions)\n",
    "print(f\"For the CNF trees there are {len(cnf_pcount.keys())} productions from {sum(cnf_pcount.values())} interior nodes\")\n",
    "pcount = productions_counts(productions)\n",
    "print(f\"For the CNF trees there are {len(pcount.keys())} productions from {sum(pcount.values())} interior nodes\")\n",
    "print(f\"The ratios are {len(cnf_pcount.keys())/len(pcount.keys())} and {sum(cnf_pcount.values())/sum(pcount.values())} accordingly\")"
   ]
  },
  {
   "cell_type": "markdown",
   "metadata": {},
   "source": [
    "#### We can conclude that about 1 in 4 productions had 3 or more productions, and when they were converted to CNF, they generated many new productions unseen on the original trees."
   ]
  },
  {
   "cell_type": "markdown",
   "metadata": {},
   "source": [
    "<a name=\"q2.4\"></a>\n",
    "<h3>Question 2.4: Test CFG Independence Assumptions</h3>\n",
    "\n",
    "We want to test the CFG hypothesis that a node expansion is independent from its location within a tree.\n",
    "<p/>\n",
    "\n",
    "For the treebank before CNF transformation, report the following statistics, for the expansions of the NP category:\n",
    "<ul>\n",
    "<li>Compute the distribution of the RHS given the NP LHS for all NPs in the treebank.  Draw a histogram plot.\n",
    "<li>Compute the same distribution only for NPs that appear directly below a S node (any variant of S in the Penn treebank tagset). Draw a histogram plot.\n",
    "<li>Compute the same distribution only for NPs that appear directly below a VP node (any variant of VP in the Penn Treebank tagset). Draw a histogram plot. \n",
    "<li>Compare the distributions above.  Use KL-divergence.\n",
    "<li>Conclude: does the data in the treebank confirm the CFG hypothesis for each configuration (original trees, annotated CNF trees)? \n",
    "    (How do you calibrate the values of the KL-divergence to decide that 2 values are similar?)\n",
    "</ul>\n",
    "<p/>\n"
   ]
  },
  {
   "cell_type": "code",
   "execution_count": 174,
   "metadata": {},
   "outputs": [],
   "source": [
    "def get_top_N(p_dist, N):\n",
    "    res = []\n",
    "    samples = p_dist.samples()\n",
    "    for x in samples:\n",
    "        px = p_dist.prob(x)\n",
    "        res.append((x,px))\n",
    "    res.sort(key=lambda x: x[1], reverse=True)\n",
    "    return res[:N]\n",
    "        \n",
    "prob_dists = pcfg_to_prob_dist(pcfg)"
   ]
  },
  {
   "cell_type": "code",
   "execution_count": 175,
   "metadata": {},
   "outputs": [
    {
     "data": {
      "image/png": "[encoded data removed]",
      "text/plain": [
       "<Figure size 1440x360 with 1 Axes>"
      ]
     },
     "metadata": {
      "needs_background": "light"
     },
     "output_type": "display_data"
    }
   ],
   "source": [
    "N=10\n",
    "def plot_production_hist(data):\n",
    "    labels = [str(x[0]) for x in data]\n",
    "    values = [x[1] for x in data]\n",
    "    plt.figure(figsize=(20,5))\n",
    "    plt.bar(labels, values)\n",
    "    plt.xlabel('rank')\n",
    "    plt.ylabel('frequency')\n",
    "\n",
    "NP = Nonterminal('NP')\n",
    "VP = Nonterminal('NP')\n",
    "top10_prob = get_top_N(prob_dists[NP], N)\n",
    "plot_production_hist(top10_prob)"
   ]
  },
  {
   "cell_type": "code",
   "execution_count": 176,
   "metadata": {},
   "outputs": [
    {
     "data": {
      "text/plain": [
       "dict_keys([S, NP, NNP, ,, ADJP, CD, NNS, JJ, VP, MD, VB, DT, NN, PP, IN, ., VBZ, VBG, UCP, CC, VBD, VBN, RRC, ADVP, RB, TO, PRP, QP, RBR, SBAR, WHNP, WDT, VBP, PRT, RP, PRP$, JJS, POS, ``, EX, '', WP, SINV, :, JJR, NAC, WHADVP, WRB, PRN, $, FRAG, CONJP, NP=2, WHPP, NX, NNPS, WP$, , PDT, SBARQ, RBS, SQ, FW, INTJ, UH, SYM, X, LST, LS, #, ADVP|PRT, PP=3, ADVP=3, NP=3, VP=2, WHADJP])"
      ]
     },
     "execution_count": 176,
     "metadata": {},
     "output_type": "execute_result"
    }
   ],
   "source": [
    "prob_dists.keys()"
   ]
  },
  {
   "cell_type": "code",
   "execution_count": 177,
   "metadata": {},
   "outputs": [],
   "source": [
    "def tree_to_productions(tree):\n",
    "    yield tree_to_production(tree)\n",
    "    for child in tree:\n",
    "        if isinstance(child, Tree):\n",
    "            for prod in tree_to_productions(child):\n",
    "                yield prod\n",
    "\n",
    "def get_filtered_productions(treebank, n=None, s=0, subtree_func=None, child_func=None):\n",
    "    for tree in treebank[s:None if n==None else s+n]:\n",
    "        for subtree in tree.subtrees():\n",
    "            if subtree_func is not None and not subtree_func(subtree):\n",
    "                continue\n",
    "            for child in subtree:\n",
    "                if isinstance(child, Tree):\n",
    "                    if child_func is not None and not child_func(child):\n",
    "                        continue\n",
    "                    prod = tree_to_production(child)\n",
    "                    if [prod.lhs()] != prod.rhs():\n",
    "                        yield prod\n",
    "\n",
    "                \n",
    "s_productions = list(get_filtered_productions(simplified_treebank[3:4], \n",
    "                                            subtree_func=lambda x: x.label()==S,\n",
    "                                            child_func=lambda x: x.label()=='NP'\n",
    "                                           ))\n"
   ]
  },
  {
   "cell_type": "code",
   "execution_count": 178,
   "metadata": {},
   "outputs": [
    {
     "data": {
      "image/png": "[encoded data removed]",
      "text/plain": [
       "<Figure size 1440x360 with 1 Axes>"
      ]
     },
     "metadata": {
      "needs_background": "light"
     },
     "output_type": "display_data"
    }
   ],
   "source": [
    "def plot_and_get_filtered_by_node(label='S'):\n",
    "    s_productions = list(get_filtered_productions(simplified_treebank, \n",
    "                                            subtree_func=lambda x: x.label()==label,\n",
    "                                            child_func=lambda x: x.label()=='NP'\n",
    "                                           ))\n",
    "    s_pcfg = pcfg_learn(treebank, productions=s_productions)\n",
    "    s_prob_dists = pcfg_to_prob_dist(s_pcfg)\n",
    "    s_top10_prob = get_top_N(s_prob_dists[NP], N)\n",
    "    plot_production_hist(s_top10_prob)\n",
    "    return s_prob_dists\n",
    "s_prob_dists = plot_and_get_filtered_by_node()"
   ]
  },
  {
   "cell_type": "code",
   "execution_count": 179,
   "metadata": {},
   "outputs": [
    {
     "data": {
      "image/png": "[encoded data removed]",
      "text/plain": [
       "<Figure size 1440x360 with 1 Axes>"
      ]
     },
     "metadata": {
      "needs_background": "light"
     },
     "output_type": "display_data"
    }
   ],
   "source": [
    "vp_prob_dists = plot_and_get_filtered_by_node('VP')"
   ]
  },
  {
   "cell_type": "code",
   "execution_count": 180,
   "metadata": {},
   "outputs": [
    {
     "name": "stdout",
     "output_type": "stream",
     "text": [
      "KL Divergence for only nodes below a 'S' node is 0.3952584303408347\n",
      "KL Divergence for only nodes below a 'VP' node is 0.3226543663388717\n"
     ]
    }
   ],
   "source": [
    "s_kl = kl_divergence(s_prob_dists, prob_dists, printing=False)\n",
    "vp_kl = kl_divergence(vp_prob_dists, prob_dists, printing=False)\n",
    "print(f\"KL Divergence for only nodes below a 'S' node is {s_kl}\")\n",
    "print(f\"KL Divergence for only nodes below a 'VP' node is {vp_kl}\")"
   ]
  },
  {
   "cell_type": "markdown",
   "metadata": {},
   "source": [
    "### Let's try a randomized test to see the predicted scale of a random distribution"
   ]
  },
  {
   "cell_type": "code",
   "execution_count": 181,
   "metadata": {},
   "outputs": [
    {
     "name": "stdout",
     "output_type": "stream",
     "text": [
      "For a random distribution we get an avergae KL Divergence of 2.579521727167509 with std of 0.03669272831628316\n"
     ]
    }
   ],
   "source": [
    "def get_random_distribuion(dist):\n",
    "    n = len(dist.samples())\n",
    "    rnd = np.random.random(n)\n",
    "    sort = np.sort(rnd)\n",
    "    diff = np.hstack((sort[0], np.diff(sort)))\n",
    "    assert diff.shape[0] == n\n",
    "    new_dist = {}\n",
    "    for i, x in enumerate(dist.samples()):\n",
    "        new_dist[x] = diff[i]\n",
    "    return DictionaryProbDist(new_dist)\n",
    "\n",
    "# random_kl_divergence = np.mean(\n",
    "random_divergernces = [kl_divergence({NP: get_random_distribuion(prob_dists[NP])}, prob_dists, printing=False) for _ in range(100)]\n",
    "avg = np.mean(random_divergernces)\n",
    "std = np.std(random_divergernces)\n",
    "print(f\"For a random distribution we get an avergae KL Divergence of {avg} with std of {std}\")"
   ]
  },
  {
   "cell_type": "code",
   "execution_count": 182,
   "metadata": {},
   "outputs": [
    {
     "name": "stdout",
     "output_type": "stream",
     "text": [
      "Therefor the KL divergence for 'S' node is 59.52850597532051 standart deviations from the mean\n",
      "Therefor the KL divergence for 'VP' node is 61.507210403514904 standart deviations from the mean\n"
     ]
    }
   ],
   "source": [
    "print(f\"Therefor the KL divergence for 'S' node is {abs(s_kl-avg)/std} standart deviations from the mean\")\n",
    "print(f\"Therefor the KL divergence for 'VP' node is {abs(vp_kl-avg)/std} standart deviations from the mean\")"
   ]
  },
  {
   "cell_type": "markdown",
   "metadata": {},
   "source": [
    "#### We get that the distributions for the specific condition are very very far from random distributions, therefor they are quite close to the original distribution.\n",
    "#### Whether it's close enough is a question of the actual application."
   ]
  },
  {
   "cell_type": "markdown",
   "metadata": {},
   "source": [
    "<hr/>\n",
    "<a name=\"q3\"></a>\n",
    "<h2>Question 3: Building and Evaluating a Simple PCFG Parser</h2>\n",
    "\n",
    "In this question, we will construct a Viterbi parser for the PCFG induced in Question 2 and perform evaluation of this statistical parser. \n",
    "<p/>\n",
    "\n",
    "<a name=\"q3.1\"></a>\n",
    "<h3>Question 3.1: Build a Parser</h3>\n",
    "\n",
    "<a name=\"q3.1.1\"></a>\n",
    "<h4>3.1.1 Dataset Split</h4>\n",
    "    \n",
    "Split the NLTK treebank corpus into 80% training (about 3,200 trees) and 20% (about 800 trees) testing sets.\n",
    "<p/>"
   ]
  },
  {
   "cell_type": "code",
   "execution_count": 183,
   "metadata": {},
   "outputs": [],
   "source": [
    "# treebank = LazyCorpusLoader('treebank/combined', BracketParseCorpusReader, r'wsj_.*\\.mrg')\n",
    "# treebank = treebank.parsed_sents()\n",
    "\n",
    "cutoff = int(len(treebank)*0.8)\n",
    "train, test = simplified_treebank[:cutoff], treebank[cutoff:]"
   ]
  },
  {
   "cell_type": "markdown",
   "metadata": {},
   "source": [
    "<a name=\"q3.1.2\"></a>\n",
    "<h4>3.1.2 Learn a PCFG over the Chomsky Normal Form version of this treebank</h4>\n",
    "<p/>"
   ]
  },
  {
   "cell_type": "markdown",
   "metadata": {},
   "source": [
    "#### We should handle unknown words to be able to use viterbi parser. Let's first see how many words we have on the train dataset.\n",
    "#### Another option was to use smoothing (but smoothing for infinite number of unknown words should be done very carefully to sum up all probabilities to 1, and there doesn't seem to be a simple way of doint that with PCFG)."
   ]
  },
  {
   "cell_type": "code",
   "execution_count": 184,
   "metadata": {},
   "outputs": [
    {
     "name": "stdout",
     "output_type": "stream",
     "text": [
      "We have 9711 different words\n"
     ]
    }
   ],
   "source": [
    "import itertools\n",
    "print(f\"We have {len(set(itertools.chain(*[[x.lower() for x in tree.leaves()] for tree in train])))} different words\") "
   ]
  },
  {
   "cell_type": "markdown",
   "metadata": {},
   "source": [
    "#### Let's take the top 1000 of them (this could be a hyper-parameter for the model of course)"
   ]
  },
  {
   "cell_type": "code",
   "execution_count": 185,
   "metadata": {},
   "outputs": [
    {
     "name": "stdout",
     "output_type": "stream",
     "text": [
      "We cover 56768 out of 75385 tokens\n"
     ]
    }
   ],
   "source": [
    "from collections import Counter\n",
    "c = Counter(itertools.chain(*[[x.lower() for x in tree.leaves()] for tree in simplified_treebank[:cutoff]]))\n",
    "most_common = set([x[0] for x in c.most_common(1000)])\n",
    "print(f\"We cover {len(list(itertools.chain(*[[x.lower() for x in tree.leaves() if x.lower() in most_common] for tree in train])))} out of {len(list(itertools.chain(*[[x.lower() for x in tree.leaves()] for tree in train])))} tokens\") "
   ]
  },
  {
   "cell_type": "code",
   "execution_count": 186,
   "metadata": {},
   "outputs": [
    {
     "data": {
      "text/plain": [
       "[(',', 3955), ('the', 3841), ('.', 3068), ('of', 1854), ('to', 1718)]"
      ]
     },
     "execution_count": 186,
     "metadata": {},
     "output_type": "execute_result"
    }
   ],
   "source": [
    "c.most_common(5)"
   ]
  },
  {
   "cell_type": "markdown",
   "metadata": {},
   "source": [
    "#### We will now handle unknown words. Let's first see how many words we have on the train corpus:\n",
    "#### Another option was to use smoothing (but smoothing for infinite number of unknown words should be done very carefully to sum up all probabilities to 1, and there doesn't seem to be a simple way of doint that with PCFG"
   ]
  },
  {
   "cell_type": "code",
   "execution_count": 44,
   "metadata": {},
   "outputs": [
    {
     "name": "stdout",
     "output_type": "stream",
     "text": [
      "We have 9711 different words\n"
     ]
    }
   ],
   "source": [
    "import itertools\n",
    "print(f\"We have {len(set(itertools.chain(*[[x.lower() for x in tree.leaves()] for tree in simplified_treebank[:cutoff]])))} different words\") "
   ]
  },
  {
   "cell_type": "markdown",
   "metadata": {},
   "source": [
    "#### Let's take the top 1000 of them (this could be a hyper-parameter for the model of course)"
   ]
  },
  {
   "cell_type": "code",
   "execution_count": 49,
   "metadata": {},
   "outputs": [
    {
     "name": "stdout",
     "output_type": "stream",
     "text": [
      "We cover 56768 out of 75385 tokens\n"
     ]
    }
   ],
   "source": [
    "from collections import Counter\n",
    "c = Counter(itertools.chain(*[[x.lower() for x in tree.leaves()] for tree in simplified_treebank[:cutoff]]))\n",
    "most_common = set([x[0] for x in c.most_common(1000)])\n",
    "print(f\"We cover {len(list(itertools.chain(*[[x.lower() for x in tree.leaves() if x.lower() in most_common] for tree in simplified_treebank[:cutoff]])))} out of {len(list(itertools.chain(*[[x.lower() for x in tree.leaves()] for tree in simplified_treebank[:cutoff]])))} tokens\") "
   ]
  },
  {
   "cell_type": "markdown",
   "metadata": {},
   "source": [
    "#### Let's now change the trees, the way we did with the none subtrees"
   ]
  },
  {
   "cell_type": "code",
   "execution_count": 241,
   "metadata": {},
   "outputs": [
    {
     "name": "stdout",
     "output_type": "stream",
     "text": [
      "['The', 'latest', '10-year', 'notes', 'were', 'quoted', 'at', '100', '22\\\\/32', '*-1', 'to', 'yield', '7.88', '%', 'compared', 'with', '100', '16\\\\/32', '*', 'to', 'yield', '7.90', '%', '.']\n",
      "[['the', 'latest', '<UNK>', 'notes', 'were', '<UNK>', 'at', '100', '<UNK>', '<UNK>', 'to', 'yield', '<UNK>', '%', 'compared', 'with', '100', '<UNK>', '<UNK>', 'to', 'yield', '<UNK>', '%', '.']]\n"
     ]
    }
   ],
   "source": [
    "UNKOWN = '<UNK>'\n",
    "def replace_trees_rare_words(treebank, known_words):\n",
    "    for tree in treebank:\n",
    "        for position in tree.treepositions('leaves'):\n",
    "            if tree[position].lower() in known_words:\n",
    "                tree[position] = tree[position].lower()\n",
    "            else:\n",
    "                tree[position] = UNKOWN\n",
    "    return treebank\n",
    "\n",
    "\n",
    "for tree in test[0:1]:\n",
    "    sentence = tree.leaves()\n",
    "    print(sentence)\n",
    "    sentence = replace_sentences_rare_words([sentence], most_common)\n",
    "    print(sentence)"
   ]
  },
  {
   "cell_type": "markdown",
   "metadata": {},
   "source": [
    "#### Let's change the sentences accordingly too"
   ]
  },
  {
   "cell_type": "code",
   "execution_count": 242,
   "metadata": {},
   "outputs": [],
   "source": [
    "def replace_sentences_rare_words(sentences, known_words):\n",
    "    res = [None] * len(sentences)\n",
    "    for j, s in enumerate(sentences):\n",
    "        for i, token in enumerate(s):\n",
    "            s[i] = token.lower()\n",
    "            if s[i] not in known_words:\n",
    "                s[i] = UNKOWN\n",
    "        res[j] = s\n",
    "    return res"
   ]
  },
  {
   "cell_type": "markdown",
   "metadata": {},
   "source": [
    "#### We are now ready to learn a PCFG"
   ]
  },
  {
   "cell_type": "code",
   "execution_count": 227,
   "metadata": {},
   "outputs": [],
   "source": [
    "from nltk import ViterbiParser\n",
    "train = replace_trees_rare_words(train, most_common)\n",
    "train_pcfg = pcfg_cnf_learn(train)\n",
    "assert len(train_pcfg.productions()) > 0\n"
   ]
  },
  {
   "cell_type": "code",
   "execution_count": 228,
   "metadata": {},
   "outputs": [
    {
     "data": {
      "text/plain": [
       "S -> NP S|<VP> [0.326765]"
      ]
     },
     "execution_count": 228,
     "metadata": {},
     "output_type": "execute_result"
    }
   ],
   "source": [
    "train_pcfg.productions()[0]"
   ]
  },
  {
   "cell_type": "markdown",
   "metadata": {},
   "source": [
    "#### Let's confirm that we get Nonterminals as the rhs of the production"
   ]
  },
  {
   "cell_type": "code",
   "execution_count": 229,
   "metadata": {},
   "outputs": [
    {
     "data": {
      "text/plain": [
       "{nltk.grammar.Nonterminal, str}"
      ]
     },
     "execution_count": 229,
     "metadata": {},
     "output_type": "execute_result"
    }
   ],
   "source": [
    "set(type(p.rhs()[0]) for p in train_pcfg.productions() if len(p.rhs())==1)"
   ]
  },
  {
   "cell_type": "markdown",
   "metadata": {},
   "source": [
    "<a name=\"q3.1.3\"></a>\n",
    "<h4>3.1.3 Viterbi Parser</h4>\n",
    "    \n",
    "Construct a <code><a href=\"https://www.nltk.org/_modules/nltk/parse/viterbi.html\">ViterbiParser</a></code> using this PCFG grammar.\n",
    "Test the parser on a few sentences."
   ]
  },
  {
   "cell_type": "markdown",
   "metadata": {},
   "source": [
    "#### Something in the transformation of the tree we did earlier makes the parser unable to work properly (even though the data does seem fine...)\n",
    "#### We will rewrite the code, so that it won't actually replace the tags as asked on previous questions, only change then for the PFCG."
   ]
  },
  {
   "cell_type": "code",
   "execution_count": 199,
   "metadata": {},
   "outputs": [],
   "source": [
    "from nltk.grammar import Production\n",
    "from nltk import Tree, Nonterminal\n",
    "\n",
    "def simplify_functional_tag(tag):\n",
    "    if '-' in tag:\n",
    "        tag = tag.split('-')[0]\n",
    "    return tag\n",
    "\n",
    "def get_tag(tree):\n",
    "    if isinstance(tree, Tree):\n",
    "        return Nonterminal(simplify_functional_tag(tree.label()))\n",
    "    else:\n",
    "        return tree\n",
    "\n",
    "def tree_to_production(tree):\n",
    "    return Production(get_tag(tree), [get_tag(child) for child in tree])\n",
    "\n",
    "def tree_to_productions(tree):\n",
    "    yield tree_to_production(tree)\n",
    "    for child in tree:\n",
    "        if isinstance(child, Tree):\n",
    "            for prod in tree_to_productions(child):\n",
    "                yield prod\n",
    "                \n",
    "def simplify_tree(tree):\n",
    "    to_del = []\n",
    "    for subtree in tree.subtrees():       \n",
    "        for i, child in enumerate(subtree):\n",
    "            if isinstance(child, str):\n",
    "                continue\n",
    "            if len(list(child.subtrees(filter=lambda x:x.label()=='-NONE-')))==len(child.leaves()):\n",
    "                to_del.append((subtree, i))\n",
    "    to_del.reverse()\n",
    "    for subtree, i in to_del:\n",
    "        del subtree[i]\n",
    "\n",
    "def get_simplified_trees(treebank, n=None, s=0):\n",
    "    for tree in treebank[s:None if n==None else s+n]:\n",
    "        tree = tree.copy(deep=True)\n",
    "        simplify_tree(tree)\n",
    "        assert tree is not None\n",
    "        yield tree\n",
    "                \n",
    "def get_productions(treebank, n=None, s=0):\n",
    "    for tree in treebank[s:None if n==None else s+n]:\n",
    "        for prod in tree_to_productions(tree):\n",
    "            if [prod.lhs()] != prod.rhs():\n",
    "                yield prod\n",
    "\n",
    "def pcfg_learn(treebank, n=None, productions=None, s=0):\n",
    "    if productions is None:\n",
    "        productions = get_productions(treebank, n, s)\n",
    "    return nltk.grammar.induce_pcfg(S, productions)\n",
    "\n",
    "treebank = LazyCorpusLoader('treebank/combined', BracketParseCorpusReader, r'wsj_.*\\.mrg')\n",
    "treebank = treebank.parsed_sents()\n",
    "non_none_treebank = list(get_simplified_trees(treebank))\n",
    "train = non_none_treebank[:cutoff]\n",
    "train = replace_trees_rare_words(train, most_common)\n",
    "train_pcfg = pcfg_cnf_learn(train)\n",
    "assert len(train_pcfg.productions()) > 0"
   ]
  },
  {
   "cell_type": "code",
   "execution_count": 205,
   "metadata": {},
   "outputs": [
    {
     "data": {
      "image/png": "[encoded data removed]",
      "text/plain": [
       "ProbabilisticTree('S', [ProbabilisticTree('NP', [ProbabilisticTree('DT', ['a']) (p=0.23390296002441258), ProbabilisticTree('NN', ['form']) (p=0.0014612761811982464)]) (p=2.2321283562631294e-05), ProbabilisticTree('PP', [ProbabilisticTree('IN', ['of']) (p=0.23453510436432637), ProbabilisticTree('NP^<PP', [ProbabilisticTree('NN', ['asbestos']) (p=0.001071602532878714)]) (p=4.0832438520471446e-05)]) (p=7.471854894530474e-06)]) (p=3.91230100491788e-14)"
      ]
     },
     "execution_count": 205,
     "metadata": {},
     "output_type": "execute_result"
    }
   ],
   "source": [
    "from nltk.parse import ViterbiParser\n",
    "\n",
    "parser = ViterbiParser(train_pcfg)\n",
    "\n",
    "# Sanity check\n",
    "parser.parse_one('a form of asbestos'.split(' '))"
   ]
  },
  {
   "cell_type": "code",
   "execution_count": 269,
   "metadata": {},
   "outputs": [
    {
     "data": {
      "image/png": "[encoded data removed]",
      "text/plain": [
       "ProbabilisticTree('S', [ProbabilisticTree('VP^<S', [ProbabilisticTree('ADVP', [ProbabilisticTree('NP^<ADVP', [ProbabilisticTree('DT', ['a']) (p=0.23390296002441258), ProbabilisticTree('NN', ['form']) (p=0.0014612761811982464)]) (p=0.00010402512040730774), ProbabilisticTree('IN', ['of']) (p=0.23453510436432637)]) (p=4.743143129281076e-07), ProbabilisticTree('VBG', ['<UNK>']) (p=0.6672226855713094)]) (p=6.235926496094628e-10)]) (p=9.025490612456923e-11)"
      ]
     },
     "execution_count": 269,
     "metadata": {},
     "output_type": "execute_result"
    }
   ],
   "source": [
    "#Unkown words sanity check\n",
    "parser.parse_one('a form of <UNK>'.split(' '))"
   ]
  },
  {
   "cell_type": "markdown",
   "metadata": {},
   "source": [
    "<a name=\"q3.2\"></a>\n",
    "<h3>Question 3.2: Evaluate the Parser</h3>\n",
    "\n",
    "Your task is to compute the ParsEval metric for the constituent-based parse trees on the test dataset of our treebank.  \n",
    "Report the following metrics:\n",
    "<ol>\n",
    "<li>Precision\n",
    "<li>Recall\n",
    "<li>F-measure\n",
    "<li>Labelled Precision\n",
    "<li>Labelled Recall\n",
    "<li>Labelled F-Measure\n",
    "</ol>\n",
    "\n",
    "Where precision and recall are computed over \"constituents\" between the parsed trees and the treebank trees: a constituent is a triplet \n",
    "(interior_node, first_index, last_index) - where first_index is the index of the first word in the sentence covered by the interior node,\n",
    "and last_index that of the last word (that is, [first_index, last_index] is the yield of the interior node).\n",
    "<p/>\n",
    "\n",
    "In labelled precision and recall we count that 2 constituents match if they have the same label for the interior node.  \n",
    "For unlabelled metrics, we just compare the first and last indexes.  \n",
    "Make sure you compare the trees from the treebank after they have been simplified: for example, S-TPC-1 must be compared with S and ADVP-TMP with ADVP, and -NONE- nodes have been eliminated.\n",
    "<p/>\n",
    "\n",
    "You can read more on this metric in the following references:\n",
    "<ol>\n",
    "<li><a href=\"http://courses.washington.edu/ling571/ling571_fall_2010/slides/evalb_improved_pcky.pdf\">An assignment on parsing evaluation by Scott Farrar</a> includes detailed explanation and examples on how the metric is computed.\n",
    "<li><a href=\"http://nlp.cs.nyu.edu/evalb/\">Evalb</a> software: this is the C program used in all standard evaluations of constituent parsers (by Satoshi Sekine and Michael  Collins).\n",
    "<li><a href=\"http://nlp.stanford.edu/nlp/javadoc/javanlp/edu/stanford/nlp/parser/metrics/Evalb.html\">Evalb in Java</a> for those who prefer reading Java over C - is part of the Stanford CoreNLP package.\n",
    "</ol>\n",
    "\n",
    "The specific steps to follow are:\n",
    "<ul>\n",
    "<li>Generate a list of labelled constituents of the form <code>[label first_index last_index]</code> given a parse tree.</li>\n",
    "<li>Compute unlabelled Precision, Recall and F-measure for your parser on the test dataset</li>\n",
    "<li>Compute labelled Precision, Recall and F-measure for your parser on the test dataset</li>\n",
    "</ul>"
   ]
  },
  {
   "cell_type": "code",
   "execution_count": 265,
   "metadata": {},
   "outputs": [
    {
     "name": "stdout",
     "output_type": "stream",
     "text": [
      "(S\n",
      "  (NP-SBJ-1 (DT The) (JJS latest) (JJ 10-year) (NNS notes))\n",
      "  (VP\n",
      "    (VBD were)\n",
      "    (VP\n",
      "      (VBN quoted)\n",
      "      (PP-CLR (IN at) (NP (CD 100) (CD 22\\/32)))\n",
      "      (S-CLR\n",
      "        (NP-SBJ (-NONE- *-1))\n",
      "        (VP (TO to) (VP (VB yield) (NP (CD 7.88) (NN %)))))\n",
      "      (PP\n",
      "        (VBN compared)\n",
      "        (PP\n",
      "          (IN with)\n",
      "          (NP\n",
      "            (NP (CD 100) (CD 16\\/32))\n",
      "            (S-CLR\n",
      "              (NP-SBJ (-NONE- *))\n",
      "              (VP (TO to) (VP (VB yield) (NP (CD 7.90) (NN %))))))))))\n",
      "  (. .))\n"
     ]
    },
    {
     "data": {
      "text/plain": [
       "[('S', 0, 24),\n",
       " ('NP', 0, 4),\n",
       " ('DT', 0, 1),\n",
       " ('JJS', 1, 2),\n",
       " ('JJ', 2, 3),\n",
       " ('NNS', 3, 4),\n",
       " ('VP', 4, 23),\n",
       " ('VBD', 4, 5),\n",
       " ('VP', 5, 23),\n",
       " ('VBN', 5, 6),\n",
       " ('PP', 6, 9),\n",
       " ('IN', 6, 7),\n",
       " ('NP', 7, 9),\n",
       " ('CD', 7, 8),\n",
       " ('CD', 8, 9),\n",
       " ('S', 9, 14),\n",
       " ('NP', 9, 10),\n",
       " ('-NONE-', 9, 10),\n",
       " ('VP', 10, 14),\n",
       " ('TO', 10, 11),\n",
       " ('VP', 11, 14),\n",
       " ('VB', 11, 12),\n",
       " ('NP', 12, 14),\n",
       " ('CD', 12, 13),\n",
       " ('NN', 13, 14),\n",
       " ('PP', 14, 23),\n",
       " ('VBN', 14, 15),\n",
       " ('PP', 15, 23),\n",
       " ('IN', 15, 16),\n",
       " ('NP', 16, 23),\n",
       " ('NP', 16, 18),\n",
       " ('CD', 16, 17),\n",
       " ('CD', 17, 18),\n",
       " ('S', 18, 23),\n",
       " ('NP', 18, 19),\n",
       " ('-NONE-', 18, 19),\n",
       " ('VP', 19, 23),\n",
       " ('TO', 19, 20),\n",
       " ('VP', 20, 23),\n",
       " ('VB', 20, 21),\n",
       " ('NP', 21, 23),\n",
       " ('CD', 21, 22),\n",
       " ('NN', 22, 23),\n",
       " ('.', 23, 24)]"
      ]
     },
     "execution_count": 265,
     "metadata": {},
     "output_type": "execute_result"
    }
   ],
   "source": [
    "import re\n",
    "label_regex = re.compile('[A-Za-z]+')\n",
    "def simple_label(s):\n",
    "    res = label_regex.match(s)\n",
    "    if res:\n",
    "        return res[0]\n",
    "    return s\n",
    "\n",
    "def get_constituents(tree):\n",
    "    res = []\n",
    "    i = 0\n",
    "    for subtree in tree.treepositions():\n",
    "        if isinstance(tree[subtree], Tree):\n",
    "            res.append((simple_label(tree[subtree].label()), i, i + len(tree[subtree].leaves())))\n",
    "        else:\n",
    "            i += 1\n",
    "    return res    \n",
    "\n",
    "test[0].pprint()\n",
    "get_constituents(test[0])"
   ]
  },
  {
   "cell_type": "code",
   "execution_count": 266,
   "metadata": {},
   "outputs": [
    {
     "name": "stdout",
     "output_type": "stream",
     "text": [
      "['The', 'latest', '10-year', 'notes', 'were']\n",
      "['the', 'latest', '<UNK>', 'notes', 'were']\n"
     ]
    }
   ],
   "source": [
    "sentences = [tree.leaves() for tree in test]\n",
    "print(sentences[0][:5])\n",
    "replace_sentences_rare_words(sentences, most_common)\n",
    "print(sentences[0][:5])"
   ]
  },
  {
   "cell_type": "markdown",
   "metadata": {},
   "source": [
    "#### We must use multiprocessing to finish the parsing in a somewhat reasonable time.\n",
    "#### We run into a power failure and lost the results we got.\n",
    "#### We will add pickle in the middle in order not to lose too much data in case of another failure (it's a good practice!).\n",
    "#### We can send the full results until 4.2 if that's alright, but we have ran the next questions on partial test data for completness anyway."
   ]
  },
  {
   "cell_type": "code",
   "execution_count": null,
   "metadata": {},
   "outputs": [],
   "source": [
    "import multiprocessing\n",
    "import functools\n",
    "import pickle\n",
    "SIZE = 100\n",
    "if __name__ ==  '__main__':\n",
    "    all_pred = []\n",
    "    partial = functools.partial(parser.parse_one)\n",
    "    for i in range(0,len(sentences),SIZE):\n",
    "        with multiprocessing.Pool(7) as pool:\n",
    "            pred = pool.map(partial, sentences[i:i+SIZE])\n",
    "            all_pred.extend(pred)\n",
    "            with open(f'../output/predicted_trees_{i}_{i+100-1}.pickle', 'wb') as f:\n",
    "                pickle.dump([tree.pformat() for tree in pred], f)"
   ]
  },
  {
   "cell_type": "code",
   "execution_count": 304,
   "metadata": {},
   "outputs": [
    {
     "name": "stdout",
     "output_type": "stream",
     "text": [
      "[('S', 0, 32), ('NP', 0, 7), ('NP', 0, 3), ('DT', 0, 1), ('NP', 1, 3), ('JJ', 1, 2), ('NN', 2, 3), ('PP', 3, 7), ('IN', 3, 4), ('NP', 4, 7), ('NNP', 4, 5), ('NP', 5, 7), ('NNP', 5, 6), ('NNS', 6, 7), ('S', 7, 32), ('VP', 7, 31), ('VBD', 7, 8), ('VP', 8, 31), ('NP', 8, 13), ('NP', 8, 10), ('JJ', 8, 9), ('NNS', 9, 10), ('PP', 10, 13), ('IN', 10, 11), ('NP', 11, 13), ('JJ', 11, 12), ('NN', 12, 13), ('VP', 13, 31), (',', 13, 14), ('SBAR', 14, 31), ('IN', 14, 15), ('S', 15, 31), ('NP', 15, 20), ('NP', 15, 17), ('DT', 15, 16), ('NN', 16, 17), ('PP', 17, 20), ('IN', 17, 18), ('NP', 18, 20), ('JJ', 18, 19), ('NNS', 19, 20), ('VP', 20, 31), ('VBD', 20, 21), ('VP', 21, 31), ('VB', 21, 22), ('NP', 22, 31), ('NP', 22, 26), ('QP', 22, 25), ('JJR', 22, 23), ('QP', 23, 25), ('IN', 23, 24), ('CD', 24, 25), ('NN', 25, 26), ('VP', 26, 31), ('VBN', 26, 27), ('PP', 27, 31), ('IN', 27, 28), ('NP', 28, 31), ('JJ', 28, 29), ('NP', 29, 31), ('NN', 29, 30), ('NNP', 30, 31), ('.', 31, 32)]\n"
     ]
    }
   ],
   "source": [
    "constituents = [get_constituents(tree) for tree in test]\n",
    "constituents_pred = [get_constituents(tree) if tree else None for tree in all_pred]\n",
    "print(constituents_pred[1])"
   ]
  },
  {
   "cell_type": "code",
   "execution_count": 297,
   "metadata": {},
   "outputs": [
    {
     "name": "stdout",
     "output_type": "stream",
     "text": [
      "1. Unlabled precision is 0.9213709677419355\n",
      "2. Unlabled recall is 0.817531305903399\n",
      "3. Unlabled f1 is 0.866350710900474\n",
      "4. Labled precision is 0.7137096774193549\n",
      "5. Labled recall is 0.6135181975736569\n",
      "6. Labled f1 is 0.6598322460391426\n"
     ]
    }
   ],
   "source": [
    "def get_correct_numpred_numtrue(constituents, constituents_pred, func=lambda x: x, filter_func=lambda x: True):\n",
    "    constituents = [func(x) for x in constituents if filter_func(x)]\n",
    "    constituents_pred = set(func(x) for x in constituents_pred if filter_func(x))\n",
    "    correct = len(list(c for c in constituents if c in constituents_pred))\n",
    "    return correct, len(constituents_pred), len(constituents)\n",
    "\n",
    "\n",
    "def get_precision_recall_f1(constituents, constituents_pred, func=lambda x: x, filter_func=lambda x: True):\n",
    "    results = [get_correct_numpred_numtrue(c, cp, func, filter_func) for c, cp in zip(constituents, constituents_pred)]\n",
    "    correct = sum(x[0] for x in results)\n",
    "    num_pred = sum(x[1] for x in results)\n",
    "    num_true = sum(x[2] for x in results)\n",
    "    presicion = correct/num_true if num_true else float('nan')\n",
    "    recall = correct/num_pred if num_pred else float('nan')\n",
    "    f1 = 2*presicion*recall/(presicion+recall) if presicion+recall else float('nan')\n",
    "    return presicion, recall, f1 \n",
    "u_presicion, u_recall, u_f1 = get_precision_recall_f1(constituents, constituents_pred, func=lambda x:x[1:])\n",
    "l_presicion, l_recall, l_f1 = get_precision_recall_f1(constituents, constituents_pred)\n",
    "print(f\"1. Unlabled precision is {u_presicion}\")\n",
    "print(f\"2. Unlabled recall is {u_recall}\")\n",
    "print(f\"3. Unlabled f1 is {u_f1}\")\n",
    "print(f\"4. Labled precision is {l_presicion}\")\n",
    "print(f\"5. Labled recall is {l_recall}\")\n",
    "print(f\"6. Labled f1 is {l_f1}\")"
   ]
  },
  {
   "cell_type": "markdown",
   "metadata": {},
   "source": [
    "<a name=\"q3.3\"></a>\n",
    "<h3>Question 3.3: Accuracy per Distance</h3>\n",
    "\n",
    "In general, parsers do a much better job on short constituents than long ones.  \n",
    "Draw a plot of the accuracy of constituents per constituent length.  \n",
    "The length of a constituent (node, first, last) is last-first+1.  \n",
    "For a given constituent length X, accuracy is the number of constituents \n",
    "of length X in the parsed tree that are accurate divided by the total number of constituents of length X."
   ]
  },
  {
   "cell_type": "code",
   "execution_count": 298,
   "metadata": {},
   "outputs": [
    {
     "data": {
      "text/plain": [
       "Text(0, 0.5, 'accuracy')"
      ]
     },
     "execution_count": 298,
     "metadata": {},
     "output_type": "execute_result"
    },
    {
     "data": {
      "image/png": "[encoded data removed]",
      "text/plain": [
       "<Figure size 432x288 with 1 Axes>"
      ]
     },
     "metadata": {
      "needs_background": "light"
     },
     "output_type": "display_data"
    }
   ],
   "source": [
    "def dist_func(x):\n",
    "    return x[2] - x[1]\n",
    "distances = list(set(dist_func(x) for c in constituents for x in c))\n",
    "accuracy_per_distance = []\n",
    "for d in distances:\n",
    "    d_presicion, _, _ = get_precision_recall_f1(constituents, constituents_pred, filter_func=lambda x: dist_func(x)==d)\n",
    "    accuracy_per_distance.append(d_presicion)\n",
    "plt.scatter(distances, accuracy_per_distance)\n",
    "plt.xlabel('distance')\n",
    "plt.ylabel('accuracy')"
   ]
  },
  {
   "cell_type": "markdown",
   "metadata": {},
   "source": [
    "<a name=\"q3.4\"></a>\n",
    "<h3>Question 3.4: Accuracy per Label</h3>\n",
    "\n",
    "Report accuracy of constituents per label type (S, SBAR, NP, VP, PP etc).\n",
    "For each node type, report number of occurrences and accuracy. \n",
    "Note: report accuracy per node type WITHOUT Chomsky Normal Form modification.\n",
    "For example, if the CNF of the tree generated a non-terminal NP^S, we should count this as NP for this question."
   ]
  },
  {
   "cell_type": "code",
   "execution_count": 334,
   "metadata": {},
   "outputs": [
    {
     "data": {
      "text/plain": [
       "Text(0, 0.5, 'accuracy')"
      ]
     },
     "execution_count": 334,
     "metadata": {},
     "output_type": "execute_result"
    },
    {
     "data": {
      "image/png": "[encoded data removed]",
      "text/plain": [
       "<Figure size 1440x360 with 1 Axes>"
      ]
     },
     "metadata": {
      "needs_background": "light"
     },
     "output_type": "display_data"
    }
   ],
   "source": [
    "def label_func(x):\n",
    "    return x[0]\n",
    "labels = list(set(label_func(x) for c in constituents for x in c))\n",
    "accuracy_per_label = []\n",
    "for l in labels:\n",
    "    l_presicion, _, _ = get_precision_recall_f1(constituents, constituents_pred, filter_func=lambda x: label_func(x)==l)\n",
    "    accuracy_per_label.append(l_presicion)\n",
    "\n",
    "zipped = list(zip(labels, accuracy_per_label))\n",
    "zipped = [x for x in zipped if x[1]>0]\n",
    "zipped.sort(key=lambda x: x[1], reverse=True)\n",
    "labels = [x[0] for x in zipped]\n",
    "accuracy_per_label = [x[1] for x in zipped]\n",
    "plt.figure(figsize=(20,5))\n",
    "plt.bar(labels[:50], accuracy_per_label[:50])\n",
    "plt.xlabel('label')\n",
    "plt.ylabel('accuracy')"
   ]
  },
  {
   "cell_type": "markdown",
   "metadata": {},
   "source": [
    "END"
   ]
  }
 ],
 "metadata": {
  "kernelspec": {
   "display_name": "NLP38",
   "language": "python",
   "name": "nlp38"
  },
  "language_info": {
   "codemirror_mode": {
    "name": "ipython",
    "version": 3
   },
   "file_extension": ".py",
   "mimetype": "text/x-python",
   "name": "python",
   "nbconvert_exporter": "python",
   "pygments_lexer": "ipython3",
   "version": "3.8.5"
  }
 },
 "nbformat": 4,
 "nbformat_minor": 4
}
