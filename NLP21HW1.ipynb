{
 "cells": [
  {
   "cell_type": "markdown",
   "metadata": {},
   "source": [
    "# NLP21@BGU.CS - HW1"
   ]
  },
  {
   "cell_type": "markdown",
   "metadata": {},
   "source": [
    "## Michael Elhadad michael.elhadad@example.com\n",
    "### NLP 2021 - HW1 (http://www.cs.bgu.ac.il/~elhadad/nlp21/hw1.html)"
   ]
  },
  {
   "cell_type": "markdown",
   "metadata": {},
   "source": [
    "Nov 2020"
   ]
  },
  {
   "cell_type": "code",
   "execution_count": 1,
   "metadata": {},
   "outputs": [
    {
     "name": "stdout",
     "output_type": "stream",
     "text": [
      "Populating the interactive namespace from numpy and matplotlib\n"
     ]
    }
   ],
   "source": [
    "# Boring preliminaries\n",
    "%pylab inline\n",
    "import numpy as np\n",
    "import re\n",
    "import itertools\n",
    "import math\n",
    "import string\n",
    "import itertools\n",
    "import matplotlib.pyplot as plt\n",
    "import matplotlib\n",
    "from collections import Counter\n",
    "from __future__ import division"
   ]
  },
  {
   "cell_type": "markdown",
   "metadata": {},
   "source": [
    "<h2>Content</h2>\n",
    "\n",
    "* <a href=\"#P1\">Part 1: Language Models</a>\n",
    "  * <a href=\"#data\">1.1 Data Exploration</a>\n",
    "    * <a href=\"#explore\">1.1.1 Gathering basic statistics</a>\n",
    "    * <a href=\"#power\">1.1.2 Zipf and Power Law</a>\n",
    "  * <a href=\"#ngram\">1.2 n-gram model</a>\n",
    "    * <a href=\"#n_parameters\">1.2.1 How much memory do you expect a model to occupy?</a>\n",
    "    * <a href=\"#train_lm\">1.2.2 N-gram Word LM</a>\n",
    "  * <a href=\"#eval\">1.3 Language Model Evaluation</a>\n",
    "    * <a href=\"#per\">1.3.1 Perplexity</a>\n",
    "    * <a href=\"#smoothing\">1.3.2 Smoothing</a>\n",
    "    * <a href=\"#overfit\">1.3.3 Perplexity according to the order of the n-gram model\n",
    "    * <a href=\"#test-lm\">1.3.4 Test the best n-gram LM</a>\n",
    "    * <a href=\"#gen\">1.3.5 Generating Text using Language Models</a>\n",
    "  * <a href=\"#nn-lm\">1.4 Character language model</a>\n",
    "    * <a href=\"#effectiveness\">1.4.1 Read and Summarize</a>\n",
    "    * <a href=\"#recipes\">1.4.2 Recipes with a Character LM</a>\n",
    "* <a href=\"#P2\">Part 2: Polynomial curve fitting</a>\n",
    "  * <a href=\"#syntheticdata\">2.1 Synthetic data generation</a>\n",
    "  * <a href=\"#curvefitting\">2.2 Polynomial Curve Fitting</a>\n",
    "  * <a href=\"#regularization\">2.3 Polynomial Curve Fitting with Regularization</a>\n",
    "  * <a href=\"#prob-regr\">2.4 Probabilistic Regression Model</a>\n",
    "* <a href=\"#P3\">Part 3: Text Classification with Character RNN</a>\n",
    "  * <a href=\"#readtut\">3.1 Summarize the PyTorch Tutorial</a>\n",
    "  * <a href=\"#newdata\">3.2 Explore the Cities Dataset</a>\n",
    "  * <a href=\"#citiesmodel\">3.3 Train and Evaluate the RNN Model for Cities</a>\n",
    "  * <a href=\"#bettercitiesmodel\">3.4 (Optional) Improve the Model</a>"
   ]
  },
  {
   "cell_type": "markdown",
   "metadata": {},
   "source": [
    "<hr>\n",
    "<a name=\"P1\"></a>\n",
    "<h2>Part 1: Language Models</h2>\n",
    "\n",
    "<a name=\"data\"></a>\n",
    "<h3>1.1 Data Exploration</h3>\n",
    "\n",
    "<a name=\"explore\"></a>\n",
    "<h4>1.1.1 Gathering Basic Statistics</h4>\n",
    "\n",
    "In this section, we collect and plot the following information on a text dataset:\n",
    "<ul>\n",
    "<li>The total number of tokens</li>\n",
    "<li>The total number of characters</li>\n",
    "<li>The total number of distinct words (vocabulary)</li>\n",
    "<li>The total number of tokens corresponding to the top-N most frequent words in the vocabulary</li>\n",
    "<li>The token/type ratio in the dataset</li>\n",
    "<li>The number of types that appear in the dev data but not the training data</li>\n",
    "<li>The average number and standard deviation of characters per token</li>\n",
    "<li>The total number of distinct n-grams (of words) that appear in the dataset for n=2,3,4.</li>\n",
    "<li>The total number of distint n-grams of characters that appear for n=2,3,4,5,6,7.</li>\n",
    "</ul>"
   ]
  },
  {
   "cell_type": "markdown",
   "metadata": {},
   "source": [
    "We operate on the PTB dataset, which contains 929k training words, 73k validation words, and 82k test words. \n",
    "It is formatted in such a way that only the top 10k most frequent words are in its vocabulary.\n",
    "\n",
    "We gather the files from <a href=\"http://www.fit.vutbr.cz/~imikolov/rnnlm/simple-examples.tgz\">the dataset</a>\n",
    "where sentences are segmented one per line and words separated by spaces.  We assume the files are located in \"../data/\"."
   ]
  },
  {
   "cell_type": "markdown",
   "metadata": {},
   "source": [
    "#### Tokenizing"
   ]
  },
  {
   "cell_type": "markdown",
   "metadata": {},
   "source": [
    "You may need to tokenize strings read from the dataset files into lists of tokens.  \n",
    "\n",
    "Think which method is best appropriate for this dataset given the way it is formatting.\n",
    "Recall the method based on regular expressions used in Norvig's piece.\n",
    "Compare it with the the tokenizer provided in the nltk library."
   ]
  },
  {
   "cell_type": "code",
   "execution_count": 2,
   "metadata": {},
   "outputs": [
    {
     "name": "stdout",
     "output_type": "stream",
     "text": [
      "['We', \"'re\", '2', 'men', 'trying', 'to', 'tokenize', '1-long', 'sentence', ',', 'the', 'way', 'PTB', 'expects', 'it', '.']\n",
      "We found 16 tokens using nltk\n",
      "['we', 're', '2', 'men', 'trying', 'to', 'tokenize', '1', 'long', 'sentence', 'the', 'way', 'ptb', 'expects', 'it']\n",
      "We found 13 tokens using Norvig's regex\n",
      "None of the options are good enough, but nltk is close, so we'll use it to write our own tokenize\n",
      "['we', \"'re\", 'N', 'men', 'trying', 'to', 'tokenize', '1-long', 'sentence', 'the', 'way', 'ptb', 'expects', 'it']\n",
      "We found 14 tokens using out own tokenizing\n",
      "Yep, seems pretty good\n",
      "Now we will tokenize to chars\n",
      "['w', 'e', \"'\", 'r', 'e', '_', 'N', '_', 'm', 'e', 'n', '_', 't', 'r', 'y', 'i', 'n', 'g', '_', 't', 'o', '_', 't', 'o', 'k', 'e', 'n', 'i', 'z', 'e', '_', '1', '-', 'l', 'o', 'n', 'g', '_', 's', 'e', 'n', 't', 'e', 'n', 'c', 'e', '_', 't', 'h', 'e', '_', 'w', 'a', 'y', '_', 'p', 't', 'b', '_', 'e', 'x', 'p', 'e', 'c', 't', 's', '_', 'i']\n",
      "Got it...\n"
     ]
    }
   ],
   "source": [
    "import nltk\n",
    "\n",
    "text = \"We're 2 men trying to tokenize 1-long sentence, the way PTB expects it.\"\n",
    "tokens = nltk.word_tokenize(text)\n",
    "print(tokens)\n",
    "print(\"We found %s tokens using nltk\" % (len(tokens)))\n",
    "\n",
    "tokens = re.findall(r'\\w+', text.lower())\n",
    "print(tokens)\n",
    "print(\"We found %s tokens using Norvig's regex\" % (len(text.split())))\n",
    "\n",
    "print(\"None of the options are good enough, but nltk is close, so we'll use it to write our own tokenize\")\n",
    "def tokenize_with_spaces(text):\n",
    "    tokens = nltk.word_tokenize(text.lower().replace(\" \", \" Space \"))\n",
    "    tokens = [t for t in tokens if re.match(r'.*[a-z0-9]+.*', t)]\n",
    "    tokens = ['N' if re.fullmatch(r'[0-9]+', t) else t for t in tokens]\n",
    "    return tokens\n",
    "\n",
    "def tokenize_words(text):\n",
    "    return [t for t in tokenize_with_spaces(text) if t!='Space']\n",
    "\n",
    "tokens = tokenize_words(text)\n",
    "print(tokens)\n",
    "assert ['we', \"'re\", 'N', 'men', 'trying', 'to', 'tokenize', '1-long', 'sentence', 'the', 'way', 'ptb', 'expects', 'it']\n",
    "print(\"We found %s tokens using out own tokenizing\" % (len(tokens)))\n",
    "print(\"Yep, seems pretty good\")\n",
    "\n",
    "print(\"Now we will tokenize to chars\")\n",
    "def tokenize_chars(tokens):\n",
    "    return list(itertools.chain(*(list('_' if t=='Space' else t) for t in tokenize_with_spaces(text))))[:-1]\n",
    "print(tokenize_chars(text))\n",
    "assert tokenize_chars(text)==['w', 'e', \"'\", 'r', 'e', '_', 'N', '_', 'm', 'e', 'n', '_', 't', 'r', 'y', 'i', 'n', 'g', '_', 't', 'o', '_', 't', 'o', 'k', 'e', 'n', 'i', 'z', 'e', '_', '1', '-', 'l', 'o', 'n', 'g', '_', 's', 'e', 'n', 't', 'e', 'n', 'c', 'e', '_', 't', 'h', 'e', '_', 'w', 'a', 'y', '_', 'p', 't', 'b', '_', 'e', 'x', 'p', 'e', 'c', 't', 's', '_', 'i']\n",
    "print(\"Got it...\")"
   ]
  },
  {
   "cell_type": "markdown",
   "metadata": {},
   "source": [
    "The output of justext is organized in paragraphs.  We converted them as one line of text each."
   ]
  },
  {
   "cell_type": "markdown",
   "metadata": {},
   "source": [
    "Note how abbreviations in English are tokenized in PTB (\"I'm\" becomes [\"i\", \"'m\"]) and numbersare all replaced by the \"N\" special token."
   ]
  },
  {
   "cell_type": "markdown",
   "metadata": {},
   "source": [
    "#### Loading Data"
   ]
  },
  {
   "cell_type": "code",
   "execution_count": 3,
   "metadata": {},
   "outputs": [],
   "source": [
    "def tokenize_ptb(text):\n",
    "    return [t for t in text.split(' ') if t!='']\n",
    "\n",
    "with open(\"../data/shakespeare_input.txt\", \"r\") as f:\n",
    "    ext_test_text = f.read()\n",
    "ext_test_tokens = tokenize_words(ext_test_text)\n",
    "with open(\"../data/ptb/data/ptb.train.txt\", \"r\") as f:\n",
    "    train_text = f.read()\n",
    "train_tokens = tokenize_ptb(train_text)\n",
    "with open(\"../data/ptb/data/ptb.valid.txt\", \"r\") as f:\n",
    "    dev_text = f.read()\n",
    "dev_tokens = tokenize_ptb(dev_text)\n",
    "with open(\"../data/ptb/data/ptb.test.txt\", \"r\") as f:\n",
    "    test_text = f.read()\n",
    "test_tokens = tokenize_ptb(test_text)\n",
    "with open(\"../data/ptb/data/ptb.char.train.txt\", \"r\") as f:\n",
    "    train_char_tokens = tokenize_ptb(f.read())\n"
   ]
  },
  {
   "cell_type": "markdown",
   "metadata": {},
   "source": [
    "<b> Let's first collect and plot basic information about the dataset </b>"
   ]
  },
  {
   "cell_type": "code",
   "execution_count": 4,
   "metadata": {},
   "outputs": [
    {
     "name": "stdout",
     "output_type": "stream",
     "text": [
      "We expect 929k tokens, result is 929589\n",
      "Yep, that's what we got\n"
     ]
    }
   ],
   "source": [
    "tokens = train_tokens\n",
    "# The total number of tokens\n",
    "print(f'We expect 929k tokens, result is {len(tokens)}')\n",
    "print(\"Yep, that's what we got\")"
   ]
  },
  {
   "cell_type": "code",
   "execution_count": 5,
   "metadata": {},
   "outputs": [
    {
     "name": "stdout",
     "output_type": "stream",
     "text": [
      "We expect each word to have lentgh 5 on average, plus 1 space between words, so we expect 5577534 char tokens\n",
      "Result is 5017482, pretty close\n"
     ]
    }
   ],
   "source": [
    "# The total number of characters tokens\n",
    "print(f\"We expect each word to have lentgh 5 on average, plus 1 space between words, so we expect {6*len(tokens)} char tokens\")\n",
    "print(f'Result is {len(train_char_tokens)}, pretty close')"
   ]
  },
  {
   "cell_type": "code",
   "execution_count": 6,
   "metadata": {},
   "outputs": [
    {
     "name": "stdout",
     "output_type": "stream",
     "text": [
      "We expect the vocabulary size to be 10000, since that's the way the dataset was constructed\n",
      "Result is 10000, exactly what we tought\n"
     ]
    }
   ],
   "source": [
    "# The total number of distinct words (vocabulary)\n",
    "print(\"We expect the vocabulary size to be 10000, since that's the way the dataset was constructed\")\n",
    "print(f'Result is {len(set(tokens))}, exactly what we tought')"
   ]
  },
  {
   "cell_type": "code",
   "execution_count": 7,
   "metadata": {},
   "outputs": [
    {
     "name": "stdout",
     "output_type": "stream",
     "text": [
      "We expect number of tokens corresponding to the top-N most frequent words to go by Zipf's law,\n",
      "which means that for example the first word is expected 94976.13579629657 times, and the second word half of that.\n",
      "We will disregrad <unk> for that matter\n",
      "[('the', 50770), ('\\n', 42068), ('N', 32481), ('of', 24400), ('to', 23638), ('a', 21196), ('in', 18000), ('and', 17474), (\"'s\", 9784), ('that', 8931), ('for', 8927), ('$', 7541), ('is', 7337), ('it', 6112), ('said', 6027), ('on', 5650), ('by', 4915), ('at', 4894), ('as', 4833), ('from', 4724)]\n",
      "Results are not suprising, the plot is almost linear, exaclty as Zipf's law anticipates\n"
     ]
    },
    {
     "data": {
      "image/png": "[encoded data removed]",
      "text/plain": [
       "<Figure size 432x288 with 1 Axes>"
      ]
     },
     "metadata": {
      "needs_background": "light"
     },
     "output_type": "display_data"
    }
   ],
   "source": [
    "# The total number of tokens corresponding to the top-N most frequent words in the vocabulary\n",
    "summ = 0\n",
    "for i in range(len(set(tokens))):\n",
    "    summ += 1/(i+1)\n",
    "print(f\"\"\"We expect number of tokens corresponding to the top-N most frequent words to go by Zipf's law,\n",
    "which means that for example the first word is expected {len(tokens)/summ} times, and the second word half of that.\n",
    "We will disregrad <unk> for that matter\"\"\")\n",
    "corpus_counts = Counter(tokens)\n",
    "del corpus_counts['<unk>']\n",
    "print(corpus_counts.most_common(20))\n",
    "plt.loglog(np.arange(1, 101), [val for word,val in corpus_counts.most_common(100)])\n",
    "plt.xlabel('rank')\n",
    "plt.ylabel('frequency')\n",
    "print(\"Results are not suprising, the plot is almost linear, exaclty as Zipf's law anticipates\")"
   ]
  },
  {
   "cell_type": "code",
   "execution_count": 8,
   "metadata": {},
   "outputs": [
    {
     "name": "stdout",
     "output_type": "stream",
     "text": [
      "token/type ratio in the dataset is 92.9589 (no guess, since we already had both numbers)\n"
     ]
    }
   ],
   "source": [
    "# The token/type ratio in the dataset\n",
    "print(f'token/type ratio in the dataset is {len(tokens)/len(set(tokens))} (no guess, since we already had both numbers)')"
   ]
  },
  {
   "cell_type": "code",
   "execution_count": 9,
   "metadata": {},
   "outputs": [
    {
     "name": "stdout",
     "output_type": "stream",
     "text": [
      "We expect number of types that appear in the dev data but not the training data to be 0, since that's how the dataset was generated, taking the top 9999 words, and changing the rest to <unk>. result is 0\n"
     ]
    }
   ],
   "source": [
    "# The number of types that appear in the dev data but not the training data (hint: use sets which are a primitive dataset in Python for this)\n",
    "print(f\"\"\"We expect number of types that appear in the dev data but not the training data to be 0, since that's how the dataset was generated, taking the top 9999 words, and changing the rest to <unk>. result is {len(set(dev_tokens)-set(tokens))}\"\"\")"
   ]
  },
  {
   "cell_type": "code",
   "execution_count": 10,
   "metadata": {},
   "outputs": [
    {
     "name": "stdout",
     "output_type": "stream",
     "text": [
      "As we said earlier, we expected each token to have 5 chars on avergae, \n",
      "we will now change out estimation to 4.5 according to the previous results, with standard deviation of about 3\n",
      "Results are that the average number of chars per token is 4.488036110582204 with std of 2.653352058785631, pretty good estimations\n"
     ]
    }
   ],
   "source": [
    "# The average number and standard deviation of characters per token\n",
    "print(f\"\"\"As we said earlier, we expected each token to have 5 chars on avergae, \n",
    "we will now change out estimation to 4.5 according to the previous results, with standard deviation of about 3\"\"\")\n",
    "lengths = list(map(lambda t: len(t), tokens))\n",
    "print(f\"Results are that the average number of chars per token is {np.mean(lengths)} with std of {np.std(lengths)}, pretty good estimations\")"
   ]
  },
  {
   "cell_type": "code",
   "execution_count": 11,
   "metadata": {},
   "outputs": [
    {
     "name": "stdout",
     "output_type": "stream",
     "text": [
      "We will now show number of distinct n-grams for n=2,3,4\n",
      "We expect about 200K bi-grams, since the unigram model is quite weak in general, and then it should converge towards 929589 (the number of tokens) very quickly\n",
      "For n=2 we got 264989\n",
      "For n=3 we got 615128\n",
      "For n=4 we got 792627\n",
      "For n=5 we got 857994\n",
      "Results are not suprising, dataset is relatively small, so we might have a huge generalization problem with 3-gram language model and above\n"
     ]
    }
   ],
   "source": [
    "# The total number of distinct n-grams (of words) that appear in the dataset for n=2,3,4.\n",
    "print(f\"We will now show number of distinct n-grams for n=2,3,4\")\n",
    "print(f\"We expect about 200K bi-grams, since the unigram model is quite weak in general, and then it should converge towards {len(tokens)} (the number of tokens) very quickly\")\n",
    "n_gram_count = {}\n",
    "n_gram_count[1] = len(set(tokens))\n",
    "for n in range (2, 6):\n",
    "    n_gram_count[n] = len(set(tuple(tokens[i:i+n]) for i in range(len(tokens)-n+1)))\n",
    "    print(f\"For n={n} we got {n_gram_count[n]}\")\n",
    "print(f\"\"\"Results are not suprising, dataset is relatively small, so we might have a huge generalization problem with 3-gram language model and above\"\"\")"
   ]
  },
  {
   "cell_type": "code",
   "execution_count": 12,
   "metadata": {},
   "outputs": [
    {
     "name": "stdout",
     "output_type": "stream",
     "text": [
      "We will now show number of distinct charachters n-grams for n=2,3,4,5,6,7\n",
      "We expect about 900 bi-grams, from there it will grow with the ratio between n-gram and (n-1)-gram getting lower.\n",
      "For n=2 we got 841, ratio of 16.82\n",
      "For n=3 we got 7492, ratio of 8.90844233055886\n",
      "For n=4 we got 37957, ratio of 5.066337426588361\n",
      "For n=5 we got 133865, ratio of 3.5267539584266405\n",
      "For n=6 we got 344650, ratio of 2.57460874761887\n",
      "For n=7 we got 674859, ratio of 1.9580995212534456\n",
      "Results are great, got as expected\n"
     ]
    }
   ],
   "source": [
    "# The total number of distint n-grams of characters that appear for n=2,3,4,5,6,7.\n",
    "print(f\"We will now show number of distinct charachters n-grams for n=2,3,4,5,6,7\")\n",
    "print(f\"We expect about {30*30} bi-grams, from there it will grow with the ratio between n-gram and (n-1)-gram getting lower.\")\n",
    "char_n_gram_count = {}\n",
    "char_n_gram_count[1] = len(set(train_char_tokens))\n",
    "for n in range (2, 8):\n",
    "    char_n_gram_count[n] = len(set(tuple(train_char_tokens[i:i+n]) for i in range(len(train_char_tokens)-n+1)))\n",
    "    print(f\"For n={n} we got {char_n_gram_count[n]}, ratio of {char_n_gram_count[n]/char_n_gram_count[n-1]}\")\n",
    "print(f\"Results are great, got as expected\")"
   ]
  },
  {
   "cell_type": "markdown",
   "metadata": {},
   "source": [
    "<a name=\"power\"></a>\n",
    "<h4>1.1.2 Zipf and Power Law</h4>\n",
    "\n",
    "Word count distributions are said to follow <a href=\"https://en.wikipedia.org/wiki/Power_law\">power law distributions</a>. \n",
    "In practice, this means that a plot of the log-frequency against the log-rank is nearly linear. \n",
    "We will verify that this holds for the Penn Treebank dataset by constructing the appropriate corpus_counts counter:\n"
   ]
  },
  {
   "cell_type": "code",
   "execution_count": 13,
   "metadata": {},
   "outputs": [
    {
     "name": "stdout",
     "output_type": "stream",
     "text": [
      "[-0.97515322 11.37868322]\n",
      "The power law holds for the PTB dataset for the large number of occurences, small values do not fit the trendline\n"
     ]
    },
    {
     "data": {
      "image/png": "[encoded data removed]",
      "text/plain": [
       "<Figure size 432x288 with 1 Axes>"
      ]
     },
     "metadata": {
      "needs_background": "light"
     },
     "output_type": "display_data"
    }
   ],
   "source": [
    "counts = np.array([val for word,val in corpus_counts.most_common()])\n",
    "\n",
    "# Fixing to start from index 1 instead of zero\n",
    "plt.loglog(np.arange(1, len(counts)+1), counts)\n",
    "plt.xlabel('rank')\n",
    "plt.ylabel('frequency')\n",
    "\n",
    "# Fitting a trendline without words without small number of occurences\n",
    "FIT_N = 2000\n",
    "z = numpy.polyfit(np.log(np.arange(1, FIT_N+1)), np.log(counts[:FIT_N]), 1)\n",
    "print(z)\n",
    "p = numpy.poly1d(z)\n",
    "plt.loglog(np.arange(1, len(counts)+1), np.exp(p(np.log(np.arange(1, len(counts)+1)))) ,\"r--\")\n",
    "\n",
    "print(\"The power law holds for the PTB dataset for the large number of occurences, small values do not fit the trendline\")"
   ]
  },
  {
   "cell_type": "markdown",
   "metadata": {},
   "source": [
    "<a name=\"ngram\"></a>\n",
    "<h3><a name=\"ngram\">1.2 n-gram Word Language Model</a></h3>\n",
    "\n",
    "<a name=\"n_parameters\"></a>\n",
    "<h4>1.2.1 How much memory do you expect a model to occupy?</h4>\n"
   ]
  },
  {
   "cell_type": "markdown",
   "metadata": {},
   "source": [
    "<b> Using n-gram model, the number of parameters we will equals to in theory to the number of unique words in the vocabulary ^ n+1. However, most of them would not occur at all in our database. Because of that, using a sparse representaion, the number of actual parameters might equate to the number of (n+1)-grams + n-grams For example for n=2, we would need p(w3|w1w2) for all found sequences w1w2w3, and one more for p(unkonwn|w1w2). \n",
    "By assigning an integer value for each word, we would need k=log(number of unique words) bits to represnt them (with extra 4.65 bytes for each for the translations), in addition (n+1)*k bits to represnt the sequences of the first kind, and n*k to represnt the sequences of the second kind, and in addition 64 bits for each one of them to represent the probabilties using floats. </b>"
   ]
  },
  {
   "cell_type": "code",
   "execution_count": 14,
   "metadata": {},
   "outputs": [
    {
     "name": "stdout",
     "output_type": "stream",
     "text": [
      "We will now estimate the memory out n-gram language word model will occupy\n",
      "For n=1 that equates 913987.0721373396 bytes for the representaion\n",
      "For n=2 that equates 3632178.9912972315 bytes for the representaion\n",
      "For n=3 that equates 7199839.499099015 bytes for the representaion\n",
      "For n=4 that equates 10257139.140169987 bytes for the representaion\n",
      "This is of course a a sparse minimal representation, if we are not careful, \n",
      "we would need the number of uniqe words ^ n+1 parameters for an n-gram model\n"
     ]
    }
   ],
   "source": [
    "def get_model_size(n):\n",
    "    res = 0\n",
    "    k = np.log(n_gram_count[1])\n",
    "    res += (k+4.65)*n_gram_count[1]\n",
    "    res += ((n+1)*k+8)*n_gram_count[n+1]\n",
    "    res += (n*k+8)*n_gram_count[n]\n",
    "    return res\n",
    "print(\"We will now estimate the memory out n-gram language word model will occupy\")\n",
    "for i in range(1, 5):\n",
    "    print(f\"For n={i} that equates {get_model_size(i)/8} bytes for the representaion\")\n",
    "print(f\"\"\"This is of course a a sparse minimal representation, if we are not careful, \n",
    "we would need the number of uniqe words ^ n+1 parameters for an n-gram model\"\"\")"
   ]
  },
  {
   "cell_type": "markdown",
   "metadata": {},
   "source": [
    "<a name=\"train_lm\"></a>\n",
    "<h4>1.2.2 N-gram LM</h4>\n",
    "\n",
    "We present a Python function to construct a word n-gram model given a dataset according to the signature:\n",
    "<pre>\n",
    "train_word_lm(dataset, n=2)\n",
    "</pre>"
   ]
  },
  {
   "cell_type": "code",
   "execution_count": 15,
   "metadata": {},
   "outputs": [
    {
     "name": "stdout",
     "output_type": "stream",
     "text": [
      "aer banknote berlitz calloway centrust cluett fromstein gitano guterman hydro-quebec ipo kia memotec mlx nahb punts rake regatta rubens sim snack-food ssangyong swapo wachter \n",
      " pierre <unk> N speech \n",
      " according to people familiar with the u.s. supreme court of appeals in new york where viacom in may filed a\n"
     ]
    }
   ],
   "source": [
    "word_to_hist = lambda t: tuple(t)\n",
    "word_to_token = lambda t: [t]\n",
    "\n",
    "def train_word_lm(fname, n=2):\n",
    "    return create_word_lm(fname, n)\n",
    "\n",
    "def create_word_lm(fname, order=2):\n",
    "    with open(fname) as f:\n",
    "        data = f.read()\n",
    "    data = tokenize_ptb(data)\n",
    "    return create_lm_generic(data, order=order, to_token=word_to_token, to_hist=word_to_hist)\n",
    "\n",
    "def create_letter_lm(fname, order=4):\n",
    "    with open(fname) as f:\n",
    "        data = f.read()\n",
    "    data = data.replace(' ','')\n",
    "    return create_lm_generic(data, order=order)\n",
    "\n",
    "def create_lm_generic(data, order=4, to_token = lambda t: t, to_hist = lambda t: t):\n",
    "    pad = to_token('*') * order\n",
    "    data = pad + data\n",
    "    cfd = nltk.ConditionalFreqDist((to_hist(data[i : i + order]), data[i + order]) for i in range(len(data) - order))\n",
    "    cpd = nltk.ConditionalProbDist(cfd, nltk.MLEProbDist)\n",
    "    return cpd, cfd\n",
    "\n",
    "def test_create_letter_lm(order = 4):\n",
    "    return create_letter_lm('../data/ptb/data/ptb.char.train.txt', order)\n",
    "\n",
    "def test_create_word_lm(order = 2):\n",
    "    return create_word_lm('../data/ptb/data/ptb.train.txt', order)\n",
    "\n",
    "def test_generate_from_lm(lm, order = 4, to_token = lambda t: t, to_hist = lambda t: t):\n",
    "    out = []\n",
    "    hist = to_hist(to_token('*') * order)\n",
    "    for _ in range(1000):\n",
    "        token = lm[hist].generate()\n",
    "        hist = hist[1:] + to_hist(to_token(token))\n",
    "        out.append(token)\n",
    "    return out\n",
    "    \n",
    "\n",
    "lm, cfd = test_create_word_lm(2)\n",
    "out = test_generate_from_lm(lm, order = 2, to_token=word_to_token, to_hist=word_to_hist)\n",
    "\n",
    "# lm, cfd = test_create_letter_lm(4)\n",
    "# out = test_generate_from_lm(lm, order = 4)\n",
    "\n",
    "print(' '.join(out[:50]))"
   ]
  },
  {
   "cell_type": "markdown",
   "metadata": {},
   "source": [
    "* The only function that is unique to ConditionalProbDist is conditions, otherwise all dict fuctions are available. However, by accessing a specific key, we get a ditribution object, and then there are many more useful functions.\n",
    "\n",
    "Here is a list of useful fuctions for language model in this context:\n",
    "1. conditions(self) - Return all the n-grams the model has\n",
    "2. prob(self, sample) - Return the probability for a given sample.\n",
    "3. logprob(self, sample) - Return the base 2 logarithm probability for a given sample.\n",
    "4. max(self) -  Return the sample with the greatest probability.\n",
    "5. samples(self) -  Return a list of all samples with nonzero probability\n",
    "6. discount(self) - Return the ratio by which counts are discounted on average. In our case of a model with no regularization, that amounts to zero.\n",
    "7. generate(self) -  Return a randomly selected sample from the probability distribution. \n",
    "\n",
    "* Explain how the function generate() used in the sample works - why does it compute a correct way to sample from a distribution?\n",
    "The way the function generate() used in the smaple works, is by converting the probabilities to cummulative probabilities (the order does not matter in this process), then generating a random number, and getting the sample that related to that cummulative probabilty.\n",
    "\n",
    "It is equivalent to:"
   ]
  },
  {
   "cell_type": "code",
   "execution_count": 16,
   "metadata": {},
   "outputs": [
    {
     "name": "stdout",
     "output_type": "stream",
     "text": [
      "['ways']\n"
     ]
    }
   ],
   "source": [
    "import random\n",
    "hist = ('we', 'have')\n",
    "samples = list(lm[hist].samples())\n",
    "weights = []\n",
    "for s in samples:\n",
    "    weights.append(lm[hist].prob(s))\n",
    "token = random.choices(samples, weights=weights, k=1)\n",
    "print(token)"
   ]
  },
  {
   "cell_type": "markdown",
   "metadata": {},
   "source": [
    "<a name=\"eval\"></a>\n",
    "<h3>1.3 Language Model Evaluation</h3>\n",
    "\n",
    "We now evaluate the performance of the learned language models by using two techniques:\n",
    "measuring perplexity on a validation dataset and using the model to generate random text, then assessing\n",
    "the readability of the generated text.\n",
    "\n",
    "<a name=\"per\"></a>\n",
    "<h4>1.3.1 Perplexity</h4>\n",
    "\n",
    "We implement a Python function to measure the perplexity of a trained model on a test dataset."
   ]
  },
  {
   "cell_type": "markdown",
   "metadata": {},
   "source": [
    "We adapt the methods to compute the cross-entropy and perplexity of a model from nltk.model\n",
    "to our implementation\n",
    "\n",
    "<b> \n",
    "For the purpose of the peprlexity of the model, we use here a slightly different version of the model, that only in case the condition is not found on the model (which means the n-gram was not on the training dataset), a random token amongs all trained condition is taken\n",
    "This should be implemented on the generation too if not starting from an empty seed! \n",
    "\n",
    "This is not smoothing per se, because we only do it for undefined marginal distribution, so we may still get an infinity perplexity as we will see.\n",
    "A better model would revert back in these cases to a smaller n-gram model, or even ensemble them to begin with (with constant weights, or weights that depends on the sample size)\n",
    "    \n",
    "As Prof. Michael Elhadad suggested, we have read the article Sparse Text Generation by P.H. Martin et al.: https://arxiv.org/pdf/2004.02644.pdf\n",
    "As it was written in the article, epsilon-perplexity is another way to correct for zero probabilty, we would argue however that it constructs a new language model which is the Laplace smoothing of the original model, so we decided to keep things as they are.\n",
    "</b>"
   ]
  },
  {
   "cell_type": "code",
   "execution_count": 17,
   "metadata": {},
   "outputs": [
    {
     "name": "stdout",
     "output_type": "stream",
     "text": [
      "Peprlexity of train set is 7.093493436608496\n"
     ]
    }
   ],
   "source": [
    "def perplexity(lm, data, to_token = lambda t: t, to_hist = lambda t: t):\n",
    "    conds = set(lm.conditions())\n",
    "    n = len(next(iter(conds)))\n",
    "    all_samples_len = len(set().union(*[lm[c].samples() for c in conds]))\n",
    "    pad = to_token('*') * n\n",
    "    data = pad + data\n",
    "    hist = to_hist(pad)\n",
    "    summ = 0\n",
    "    for token in data[n:]:\n",
    "        if hist in conds:\n",
    "            summ -= lm[hist].logprob(token)\n",
    "        else:\n",
    "            summ -= np.log(1/all_samples_len)\n",
    "        hist = hist[1:] + to_hist(to_token(token))\n",
    "    summ /= len(data)-n\n",
    "    return np.power(2, summ)\n",
    "print(f\"Peprlexity of train set is {perplexity(lm, train_tokens, to_token=word_to_token, to_hist=word_to_hist)}\")\n",
    "\n",
    "def perplexity_simple(lm, data):\n",
    "    summ = 0\n",
    "    for token in data:\n",
    "        print(lm.logprob(token))\n",
    "        summ += lm.logprob(token)\n",
    "    summ /= -len(data)\n",
    "    return np.power(2, summ)\n",
    "\n",
    "def test_perplexity():\n",
    "    samples = list(range(10))\n",
    "    lm = nltk.probability.UniformProbDist(samples)\n",
    "    perp = perplexity_simple(lm, samples)\n",
    "    print(perp)\n",
    "    assert abs(perp - len(samples)) < 0.0001"
   ]
  },
  {
   "cell_type": "code",
   "execution_count": 18,
   "metadata": {},
   "outputs": [
    {
     "name": "stdout",
     "output_type": "stream",
     "text": [
      "Peprlexity of validation set is inf\n"
     ]
    },
    {
     "name": "stderr",
     "output_type": "stream",
     "text": [
      "<ipython-input-17-9cf6b36f5c15>:21: RuntimeWarning: overflow encountered in power\n",
      "  return np.power(2, summ)\n"
     ]
    }
   ],
   "source": [
    "# We now measure the reported perplexity values on the Penn Treebank validation dataset ptb.valid.txt\n",
    "print(f\"Peprlexity of validation set is {perplexity(lm, dev_tokens, to_token=word_to_token, to_hist=word_to_hist)}\")"
   ]
  },
  {
   "cell_type": "markdown",
   "metadata": {},
   "source": [
    "What happens here,is that we did not do any smoothing, so new encountered word on the validation set (even conditional on a given n-gram and not completey new on the corpus) was given a probablity zero.\n",
    "The perplexity is undefined in that case (or equivalent to infinity).\n",
    "On the training set, the preplexity more represents the dataset itself, rather thn the model, in fact if we use high enough n such that each n-gram would show up exactly once, we would get a perplexity of exacly one for the training set..."
   ]
  },
  {
   "cell_type": "markdown",
   "metadata": {},
   "source": [
    "<a name=\"smoothing\"></a>\n",
    "<h4>1.3.2 Smoothing</h4>\n",
    "\n",
    "In order to improve the model, we will use a smoothing technique.\n",
    "\n",
    "We use the <a href=\"http://www.nltk.org/_modules/nltk/probability.html\">nltk probability distribution</a> module which provides different estimators that implement smoothing methods (Laplace, Lidstone, Witten-Bell, Good-Turing). "
   ]
  },
  {
   "cell_type": "code",
   "execution_count": 19,
   "metadata": {},
   "outputs": [
    {
     "name": "stdout",
     "output_type": "stream",
     "text": [
      "aer banknote berlitz calloway centrust cluett fromstein gitano guterman hydro-quebec ipo kia memotec mlx nahb punts rake regatta rubens sim snack-food ssangyong swapo wachter \n",
      " pierre <unk> N a share a year earlier \n",
      " <unk> fax from david <unk> chairman of the <unk> office workers organization that supports the government\n"
     ]
    }
   ],
   "source": [
    "# We change the model to use a different estimator than the Maximum Likelihood Estimator (MLE) count-based estimator\n",
    "# to compute the probability of p(w|history).  \n",
    "\n",
    "def create_word_lm(fname, order=2, estimator=None, **factory_kw_args):\n",
    "    with open(fname) as f:\n",
    "        data = f.read()\n",
    "    data = tokenize_ptb(data)\n",
    "    return create_lm_generic(data, order=order, to_token=word_to_token, to_hist=word_to_hist,\n",
    "                             estimator=estimator, **factory_kw_args)\n",
    "\n",
    "def create_lm_generic(data, order=4, to_token = lambda t: t, to_hist = lambda t: t, \n",
    "                      estimator=None, **factory_kw_args):\n",
    "    if not estimator:\n",
    "        estimator = nltk.MLEProbDist\n",
    "    pad = to_token('*') * order\n",
    "    data = pad + data\n",
    "    cfd = nltk.ConditionalFreqDist((to_hist(data[i : i + order]), data[i + order]) for i in range(len(data) - order))\n",
    "    cpd = nltk.ConditionalProbDist(cfd, estimator, **factory_kw_args)\n",
    "    return cpd, cfd\n",
    "\n",
    "def test_create_word_lm(order = 2, estimator=None, **factory_kw_args):\n",
    "    return create_word_lm('../data/ptb/data/ptb.train.txt', order, estimator, **factory_kw_args)\n",
    "\n",
    "# Sanity test - this is equivalent to an MLE estimator\n",
    "lm, cfd = test_create_word_lm(2, estimator=nltk.LidstoneProbDist, gamma=0)\n",
    "out = test_generate_from_lm(lm, order = 2, to_token=word_to_token, to_hist=word_to_hist)\n",
    "print(' '.join(out[:50]))"
   ]
  },
  {
   "cell_type": "markdown",
   "metadata": {},
   "source": [
    "Compare the obtained perplexity of the trained model on the validation dataset for different Lidstone estimators for a \n",
    "variety of hyper-parameter gamma $0 \\leq gamma \\leq 1$ by drawing a graph of the obtained perplexity on the validation dataset for different values of gamma."
   ]
  },
  {
   "cell_type": "code",
   "execution_count": 20,
   "metadata": {},
   "outputs": [
    {
     "data": {
      "image/png": "[encoded data removed]",
      "text/plain": [
       "<Figure size 432x288 with 1 Axes>"
      ]
     },
     "metadata": {
      "needs_background": "light"
     },
     "output_type": "display_data"
    }
   ],
   "source": [
    "# Graph of perplexity of bigram LM for values of gamma with Lidstone estimator as smoothing method\n",
    "def find_best_gamma(cfd, dev_data, to_token = lambda t: t, to_hist = lambda t: t):\n",
    "    loggammas = np.arange(-4, 0.05, 0.1)\n",
    "    perps = np.empty(len(loggammas))\n",
    "    minn = float('inf')\n",
    "    best = None\n",
    "    # We will just use number of different tokens, since that's the worst case according to the way\n",
    "    # the dataset was constructed\n",
    "    for i, loggamma in enumerate(loggammas):\n",
    "        # Optimiztion - using the same cfd without recalculating it\n",
    "        lm = nltk.ConditionalProbDist(cfd, nltk.LidstoneProbDist, gamma=10**loggamma, bins=len(set(tokens)))\n",
    "        perps[i] = perplexity(lm, dev_data, to_token, to_hist)\n",
    "        if perps[i] < minn:\n",
    "            minn = perps[i]\n",
    "            best = (lm, 10**loggamma)\n",
    "    plt.plot(10**loggammas, perps)\n",
    "    plt.xlabel('gamma')\n",
    "    plt.ylabel('perplexity')\n",
    "    return best\n",
    "lm, GG = find_best_gamma(cfd, dev_tokens, to_token=word_to_token, to_hist=word_to_hist)\n"
   ]
  },
  {
   "cell_type": "code",
   "execution_count": 21,
   "metadata": {},
   "outputs": [
    {
     "name": "stdout",
     "output_type": "stream",
     "text": [
      "best gamma is 0.0025118864315095872\n",
      "Validation peprlexity is 588.8667665387958\n"
     ]
    }
   ],
   "source": [
    "print(f\"best gamma is {GG}\")\n",
    "print(f\"Validation peprlexity is {perplexity(lm, dev_tokens,to_token=word_to_token, to_hist=word_to_hist)}\")"
   ]
  },
  {
   "cell_type": "markdown",
   "metadata": {},
   "source": [
    "<a name=\"overfit\"></a>\n",
    "<h4>1.3.3 Perplexity according to the order of the n-gram model</h4>\n",
    "\n",
    "Another way to improve the model is to use an n-gram model with increasing values of n (2,3,...10)."
   ]
  },
  {
   "cell_type": "code",
   "execution_count": 22,
   "metadata": {},
   "outputs": [
    {
     "data": {
      "image/png": "[encoded data removed]",
      "text/plain": [
       "<Figure size 432x288 with 1 Axes>"
      ]
     },
     "metadata": {
      "needs_background": "light"
     },
     "output_type": "display_data"
    }
   ],
   "source": [
    "# Draw a graph of the obtained perplexity on the validation dataset for different values of n between 2 and 10\n",
    "# for the best value of gamma obtained above.\n",
    "def find_best_n(train_data, dev_data, to_token = lambda t: t, to_hist = lambda t: t):\n",
    "    ns = np.arange(2, 11)\n",
    "    perps = np.empty(len(ns))\n",
    "    minn = float('inf')\n",
    "    best = None\n",
    "    # We will just use number of different tokens, since that's the worst case according to the way\n",
    "    # the dataset was constructed\n",
    "    for i, n in enumerate(ns):\n",
    "        lm, _ = create_lm_generic(train_data, order=n, to_token=to_token, to_hist=to_hist,\n",
    "                                  estimator=nltk.LidstoneProbDist, gamma=GG, bins=len(set(tokens)))\n",
    "        perps[i] = perplexity(lm, dev_data, to_token, to_hist)\n",
    "        if perps[i] < minn:\n",
    "            minn = perps[i]\n",
    "            best = (lm, n)\n",
    "    plt.plot(ns, perps)\n",
    "    plt.xlabel('n')\n",
    "    plt.ylabel('perplexity')\n",
    "    return best\n",
    "lm, NN = find_best_n(train_tokens, dev_tokens, to_token=word_to_token, to_hist=word_to_hist)\n"
   ]
  },
  {
   "cell_type": "code",
   "execution_count": 23,
   "metadata": {},
   "outputs": [
    {
     "name": "stdout",
     "output_type": "stream",
     "text": [
      "best n is 5\n",
      "Validation peprlexity is 511.94943548409833\n"
     ]
    }
   ],
   "source": [
    "print(f\"best n is {NN}\")\n",
    "print(f\"Validation peprlexity is {perplexity(lm, dev_tokens,to_token=word_to_token, to_hist=word_to_hist)}\")"
   ]
  },
  {
   "cell_type": "markdown",
   "metadata": {},
   "source": [
    "<a name=\"test-lm\"></a>\n",
    "<h4>1.3.4 Test the best n-gram LM</h4>\n",
    "\n",
    "Based on the 2 graphs above, we hypothesize that the best combination LM is an n-gram of order 2 smoothed with Lidstone estimator with parameter gamma = 0.0025.\n",
    "\n",
    "We test this model on the test dataset of the Penn Treebank and report the test set perpexity"
   ]
  },
  {
   "cell_type": "code",
   "execution_count": 24,
   "metadata": {},
   "outputs": [
    {
     "name": "stdout",
     "output_type": "stream",
     "text": [
      "Test peprlexity is 544.9913217884003\n"
     ]
    }
   ],
   "source": [
    "## Test LM with optimal parameters - report perplexity on test.\n",
    "best_lm, _ = create_lm_generic(train_tokens, order=2, to_token=word_to_token, to_hist=word_to_hist,\n",
    "                               estimator=nltk.LidstoneProbDist, gamma=0.0025, bins=len(set(tokens)))\n",
    "print(f\"Test peprlexity is {perplexity(lm, test_tokens, to_token=word_to_token, to_hist=word_to_hist)}\")\n",
    "\n"
   ]
  },
  {
   "cell_type": "markdown",
   "metadata": {},
   "source": [
    "<b> That seems good, we got almost the same results on the validation and test sets </b>"
   ]
  },
  {
   "cell_type": "markdown",
   "metadata": {},
   "source": [
    "We also test our n-gram model with the <a href=\"https://www.nltk.org/api/nltk.html#nltk.probability.SimpleGoodTuringProbDist\">Good-Turing estimator instead of the Lidstone estimator."
   ]
  },
  {
   "cell_type": "code",
   "execution_count": 25,
   "metadata": {},
   "outputs": [
    {
     "name": "stderr",
     "output_type": "stream",
     "text": [
      "/home/amir/anaconda3/envs/NLP/lib/python3.8/site-packages/nltk/probability.py:1456: UserWarning: SimpleGoodTuring did not find a proper best fit line for smoothing probabilities of occurrences. The probability estimates are likely to be unreliable.\n",
      "  warnings.warn(\n"
     ]
    },
    {
     "name": "stdout",
     "output_type": "stream",
     "text": [
      "Test peprlexity is inf\n",
      "Unfortunately Good-Turing smoothing is not enough here\n"
     ]
    },
    {
     "name": "stderr",
     "output_type": "stream",
     "text": [
      "<ipython-input-17-9cf6b36f5c15>:21: RuntimeWarning: overflow encountered in power\n",
      "  return np.power(2, summ)\n"
     ]
    }
   ],
   "source": [
    "## Test LM with Good-Turing estimator - report perplexity.\n",
    "lm, _ = create_lm_generic(train_tokens, order=2, to_token=word_to_token, to_hist=word_to_hist,\n",
    "                          estimator=nltk.SimpleGoodTuringProbDist)\n",
    "print(f\"Test peprlexity is {perplexity(lm, test_tokens, to_token=word_to_token, to_hist=word_to_hist)}\")\n",
    "print(f\"Unfortunately Good-Turing smoothing is not enough here\")\n"
   ]
  },
  {
   "cell_type": "markdown",
   "metadata": {},
   "source": [
    "### To assess the success of these LMs, we compare our result with a set of baselines\n",
    "\n",
    "1. The expected results on a uniform distribution of words (worst case): \n",
    "\n",
    "    The expected worst case result for a uniform distribution, the perplexity should be 10000, the size of the corpus\n",
    "\n",
    "2. recent research results reported in research paper on language models that we have find in Google Scholar tested on the Penn Treebank dataset:\n",
    "\n",
    "    In a paper published by Tom B. Brown et al. from OpenAI, by using GPT-3 model with few-shot learning, a preplexity of 20.5 was achieved:\n",
    "https://arxiv.org/pdf/2005.14165v4.pdf\n",
    "\n",
    "    Without using extra data, in a paper published by Chenguang Wang et al. from AWS, a preplexity of 31.3 was achieved using a BERT-Large-CAS model:\n",
    "https://arxiv.org/pdf/1904.09408v2.pdf"
   ]
  },
  {
   "cell_type": "markdown",
   "metadata": {},
   "source": [
    "<a name=\"gen\"></a>\n",
    "<h4>1.3.5 Generating Text from a Language Model</h4>\n",
    "\n",
    "Another way to evaluate a language model is to use the model in a generative manner - that is, to randomly sample\n",
    "sentences starting from a seed prefix, and generating each next word by sampling from the model distribution $p(w | prefix)$.\n",
    "\n",
    "<b> We can use model[hist].generate() of course, but we were asked to implement it on our own to our understanding </b>\n",
    "\n",
    "Discuss ways to decide when the generation should stop."
   ]
  },
  {
   "cell_type": "code",
   "execution_count": 26,
   "metadata": {},
   "outputs": [],
   "source": [
    "import random\n",
    "\n",
    "def generate(model, seed=10):\n",
    "    n = len(model.conditions()[0])\n",
    "    random.seed(seed)\n",
    "    out = []\n",
    "    hist = tuple(['*'] * n)\n",
    "    sentences = 5\n",
    "    for _ in range(sentences):\n",
    "        token = 'Not \\n'\n",
    "        while token[0]!='\\n':\n",
    "            samples = list(model[hist].samples())\n",
    "            weights = []\n",
    "            for s in samples:\n",
    "                weights.append(model[hist].prob(s))\n",
    "            token = random.choices(samples, weights=weights, k=1)\n",
    "            hist = hist[1:] + tuple(token)\n",
    "            out.append(token[0])\n",
    "    return out"
   ]
  },
  {
   "cell_type": "markdown",
   "metadata": {},
   "source": [
    "A good stopping mechaism would be to have a stopping token on the language model.\n",
    "Fortunately, we do have one - '\\n', so we will use it, and wait for it a set number of times.\n",
    "The model could then naturally generate this stopping token in a place where it fits."
   ]
  },
  {
   "cell_type": "code",
   "execution_count": 27,
   "metadata": {},
   "outputs": [
    {
     "name": "stdout",
     "output_type": "stream",
     "text": [
      "aer banknote berlitz calloway centrust cluett fromstein gitano guterman hydro-quebec ipo kia memotec mlx nahb punts rake regatta rubens sim snack-food ssangyong swapo wachter \n",
      " pierre peladeau a canadian embassy official in houston already has all but <unk> 's calculations \n",
      " on tuesday the shares because he 's got to get around any attempt at improvements in operating margins while acquiring a foreign entity \n",
      " freeport-mcmoran a new issue <unk> by moody 's said it had a loss for the soviet union by an average of $ N million \n",
      " last year 's <unk> desire for oat bran it will take other steps necessary to accommodate and will pay for everyone else in the spring of N million from bankruptcy proceedings began tuesday in candlestick park is expected to profit from the reversal came after officials said apparently because the government 's massive earthquake although traders rushed to buy the sugar the analyst \n",
      "\n"
     ]
    }
   ],
   "source": [
    "# Test generate it on the best model trained above\n",
    "print(' '.join(generate(best_lm)))"
   ]
  },
  {
   "cell_type": "markdown",
   "metadata": {},
   "source": [
    "When we sample from the LM given a history, we do not pick the most likely word generated by the LM, otherwise the generator would be deterministic.  Instead, we use <a href=\"https://www.nltk.org/api/nltk.html#nltk.probability.ProbDistI.generate\">nltk.ProbDistI.generate()</a>.  \n",
    "#### Explain what is expected from this method of text generation.\n",
    "\n",
    "It is expected that it would sample from the probablity distribution according the the probabilities"
   ]
  },
  {
   "cell_type": "markdown",
   "metadata": {},
   "source": [
    "We experiment with a variety of seeds.  "
   ]
  },
  {
   "cell_type": "code",
   "execution_count": 28,
   "metadata": {},
   "outputs": [
    {
     "name": "stdout",
     "output_type": "stream",
     "text": [
      "aer banknote berlitz calloway centrust cluett fromstein gitano guterman hydro-quebec ipo kia memotec mlx nahb punts rake regatta rubens sim snack-food ssangyong swapo wachter \n",
      " pierre peladeau a canadian embassy official in houston already has all but <unk> 's calculations \n",
      " on tuesday the shares because he 's got to get around any attempt at improvements in operating margins while acquiring a foreign entity \n",
      " freeport-mcmoran a new issue <unk> by moody 's said it had a loss for the soviet union by an average of $ N million \n",
      " last year 's <unk> desire for oat bran it will take other steps necessary to accommodate and will pay for everyone else in the spring of N million from bankruptcy proceedings began tuesday in candlestick park is expected to profit from the reversal came after officials said apparently because the government 's massive earthquake although traders rushed to buy the sugar the analyst \n",
      "\n",
      "aer banknote berlitz calloway centrust cluett fromstein gitano guterman hydro-quebec ipo kia memotec mlx nahb punts rake regatta rubens sim snack-food ssangyong swapo wachter \n",
      " pierre <unk> N N at $ N million from $ N roughly # N million or $ N billion francs \n",
      " paribas said <unk> found in the adversary system as long as we well know and i usually buy one of the <unk> judge keenan wrote the suggestion that mrs. thatcher 's policies had created central park rape of a $ N million \n",
      " warner-lambert co \n",
      " ogilvy & mather on how far futures prices increased nearly <unk> \n",
      "\n",
      "aer banknote berlitz calloway centrust cluett fromstein gitano guterman hydro-quebec ipo kia memotec mlx nahb punts rake regatta rubens sim snack-food ssangyong swapo wachter \n",
      " pierre peladeau a canadian pacific ltd. posted a N N \n",
      " last month \n",
      " gm 's data is n't known but they inched down N cents a share a year ago \n",
      " another focuses on the trial \n",
      "\n",
      "aer banknote berlitz calloway centrust cluett fromstein gitano guterman hydro-quebec ipo kia memotec mlx nahb punts rake regatta rubens sim snack-food ssangyong swapo wachter \n",
      " pierre <unk> an american company doing business with gm will let them <unk> environmentalists <unk> their concerns about volatility because of the opposition movement together with the <unk> relationship going back to N N N thursday amid concerns about the <unk> funds stocks and futures prices declined \n",
      " a spokesman said \n",
      " officials of saab 's problems \n",
      " morgan <unk> and brief <unk> into the <unk> stock-index futures trading commission was connected to the workings of the few blacks find mr. and mrs. bush \n",
      "\n",
      "aer banknote berlitz calloway centrust cluett fromstein gitano guterman hydro-quebec ipo kia memotec mlx nahb punts rake regatta rubens sim snack-food ssangyong swapo wachter \n",
      " pierre <unk> N bear stearns executives besides the <unk> problem that is permitting farmers to work \n",
      " the funding is cut off funds to pressure <unk> 's house of parliament of ringing i have not devoted the necessary resources and restrict the amount of fees and interest is in an effort to auction off the airline 's share price when terms are fixed oct. N \n",
      " mccaw cellular communications inc. said it would create a new three-year wage deal \n",
      " mr. lorenzo told reporters he had helped develop the first quarter which ended aug. N \n",
      "\n"
     ]
    }
   ],
   "source": [
    "# Test generate it on the best model trained above\n",
    "for seed in range(10,15):\n",
    "    print(' '.join(generate(best_lm,seed=seed)))"
   ]
  },
  {
   "cell_type": "markdown",
   "metadata": {},
   "source": [
    "Analyze your observations:"
   ]
  },
  {
   "cell_type": "markdown",
   "metadata": {},
   "source": [
    "<b> Our model treats the first sentince differently, an important improvemnt would be padding each new sentnece with that same padding as the first, since this dataset has no order between sentences. \n",
    "Another key observation is that the senteces don't make any sense... It means that the model doesn't capture either the sematics and the correct sytnax.\n",
    "There is obviously a lot of room for improvement with more advanced algorithms. </b>"
   ]
  },
  {
   "cell_type": "markdown",
   "metadata": {},
   "source": [
    "<h4>Optional material</h4>\n",
    "\n",
    "One way to control the variety of the text generated by an LM is to introduce a parameter called the <i>temperature</i>\n",
    "of the generator which allows us to sample words randomly according to the distribution produced by the LM (that is, we do not \n",
    "always select the most likely candidate - we sample from the distribution produced by the LM).  \n",
    "    \n",
    "<a href=\"https://nlp.stanford.edu/blog/maximum-likelihood-decoding-with-rnns-the-good-the-bad-and-the-ugly/\">Maximum Likelihood Decoding with RNNs - the good, the bad, and the ugly</a> by Russell Stewart (2016) explains how a temperature argument can control the level of variability generated by the model.  \n",
    "\n",
    "<b> The idea is that when we have a LM, we have some variability which comes from the model's distribution. We sometimes want to lower the variabilty in order to have more stable, and in most cases more grammatically correct output. We can do that by a function that \"stretches\" th distribution to the sides (in a way that high probabilities will be higher, and low ones will be lower), for example the freezing function from the article, with temperature less than 1. However, if we combine mutiple words into one category (for exampe , and treating them as one unit, they might be stretched up and not down. That phenomena may suggest that we create a bias towards less variable categories. In practice using this 2-stage temperature control was shown to improve the performance of the output, as rated by humans (there is no well defined mathematical calculation to the improvement, since the whole temperature control actually ruins the perplexty of the model) </b>\n",
    "\n",
    "The code in <a href=\"https://github.com/sameersingh/uci-statnlp/blob/master/hw2/generator.py\">generator.py</a> from Sameer Sing demonstrates a method to generate from a LM with a temperature parameter.  \n",
    "\n",
    "Explain how the code in this method corresponds to the mathematical explanation provided in the blog above.\n",
    "<b> The code above implements the 1-stage temperature control, by summing over the log of the probabily divided by the temperature (it is better to do it this way for numerical stabilty). It then generating a dictionary of word to mass, and searches for the right mass amount to choose from (this is equivaent to probabilty disribution). It could be implement a bit more efficiently using a binary search to find the correct word by the random mass between 0 and total mass (which are represented by their log). </b>"
   ]
  },
  {
   "cell_type": "markdown",
   "metadata": {},
   "source": [
    "<a name=\"nn-lm\"></a>\n",
    "<h3>1.4 Character language model</h3>\n",
    "\n",
    "It is interesting to compare word-based and character-based language models.\n",
    "On the one hand, character-based models need to predict a much smaller range of options (one character out of ~100 possible characters vs. one word out of 200K possible words - or 10K in the example we reviewed above).  \n",
    "On the other hand, we need to maintain a much longer history of characters to obtain a significant memory of the context which would make sense semantically.\n",
    "\n",
    "\n",
    "<a name=\"effectiveness\"></a>\n",
    "<h4>1.4.1 Read and Summarize</h4>\n",
    "\n",
    "\n",
    "\n",
    "Andrej Karpathy's [article](http://karpathy.github.io/2015/05/21/rnn-effectiveness/) gives an intersting examples to RNN uses. RNN, **Recurrent Neural Networks**, are a function-based system taking one or more vectors as input and returns one or more vectors as output. These vectors may represent images, characters, words, frames, etc.  Sequences of vectors as input or output make our system more powerful. \n",
    "A  **Character-Level Language Model** uses a sequence of characters as a representation of a single word. A bigger database will lead to a better result, as our model will \"see\" many character sequences – enough for it to recognize recurring patterns.\n",
    "Since we work with character sequences and not lists of words, our model is very flexible. Its learning data may be [monologues or poems](http://cs.stanford.edu/people/karpathy/char-rnn/shakespear.txt), [Wikipedia articles](http://cs.stanford.edu/people/karpathy/char-rnn/wiki.txt), names, or even [code](http://cs.stanford.edu/people/karpathy/char-rnn/linux.txt) – and it will learn it and will be able to predict more of it. These are all formal languages (the \"Wikipedia Language\", for example, includes the links in the text as well), and their grammar is very complicated – yet it seems like the model successfully learn it, and uses it to generate more of it.\n",
    "While it does not necessarily generate coherent sentences, it will be able, if written correctly, to come up with quite impressive results. Our results are expected to become better and better with every iteration of the training process.\n",
    "\n",
    "\n",
    "Following Andrej Karpathy's article, [Yoav Goldberg](https://www.cs.bgu.ac.il/~yoavg/uni/) is [suggesting](http://nbviewer.jupyter.org/gist/yoavg/d76121dfde2618422139) a simpler, shorter, and easier to understand code for text generating using Character-level Language Models. His model uses n-gram and the \"history\" or \"memory\" part is simply a function that checks how many times a given letter followed a sequence of n letters, divided by the total number of the different letters followed these n letters.\n",
    "He uses the same Shakespeare data Karpathy uses, trying different orders of \"n\". **The results are quite impressive** – it requires only a 4-letter-history to generate text that certainly looks (though not necessarily read like Shakespeare …).\n",
    "Increasing the order of the n brings better and better results and with order 10 the generated text looks very Shakespearean at first glance.\n",
    "Goldberg concludes that even though the model he built hot impressive results in generating English, the significant advantage of the RNN is **the ability of learning context**. He demonstrates it in the ability of the RNN to generate code that keeps the indentation and the bracket, a that the Character-level Language Models fail to do, even with n of high order such as 15 or 20. \n",
    "\n"
   ]
  },
  {
   "cell_type": "markdown",
   "metadata": {},
   "source": [
    "<a name=\"recipes\"></a>\n",
    "<h4>1.4.2 Recipes with a Character LM</h4>\n",
    "\n",
    "Strikingly realistic output can be generated when training a character language-model on a strongly-constrained genre of text like cooking recipes.\n",
    "Train your n-gram model on the dataset provided in \n",
    "<a href=\"https://gist.github.com/nylki/1efbaa36635956d35bcc\">do androids dream of cooking?</a> which contains about 32K recipes gathered from the Internet."
   ]
  },
  {
   "cell_type": "markdown",
   "metadata": {},
   "source": [
    "Gather the recipes dataset and prepare a dataset reader according to the structure of the files."
   ]
  },
  {
   "cell_type": "code",
   "execution_count": 29,
   "metadata": {},
   "outputs": [
    {
     "name": "stdout",
     "output_type": "stream",
     "text": [
      "Number of characters: 39234514\n",
      "Number of tokens: 5852065\n",
      "Number of vocabulary: 150949\n",
      "Number of recipes: 32963\n"
     ]
    }
   ],
   "source": [
    "import codecs\n",
    "import string\n",
    "import glob\n",
    "import matplotlib.pyplot as plt\n",
    "\n",
    "def findFiles(path): return glob.glob(path)\n",
    "\n",
    "# Read a file and split into lines\n",
    "def readLines(filename):\n",
    "    recipe = codecs.open(filename, \"r\", encoding='utf-8', errors='ignore').read()\n",
    "    return recipe\n",
    "\n",
    "recipes = []\n",
    "for filename in findFiles('../data/recipes/*.mmf'):\n",
    "    recipes.append(readLines(filename))\n",
    "    one_big_text = ' '.join(recipes)\n",
    "recipes_counter = one_big_text.count(\"MMMMM----- Recipe via Meal-Master (tm) v8.05\")\n",
    "\n",
    "\n",
    "one_big_tokens = one_big_text.split()\n",
    "\n",
    "print(\"Number of characters:\", len(one_big_text))\n",
    "print(\"Number of tokens:\", len(one_big_tokens))\n",
    "print(\"Number of vocabulary:\", len(set(one_big_tokens)))\n",
    "print(\"Number of recipes:\", recipes_counter)\n",
    "\n"
   ]
  },
  {
   "cell_type": "markdown",
   "metadata": {},
   "source": [
    "We recognized that there is a pattern thet repeats between every two recipe. It helps us to split the text by recipes. We indeed got almost the accurate number we expected. \n",
    "\n",
    "Report basic statistics about the dataset (number of recipes, tokens, characters, vocabulary size, distribution of the size of recipes in words and in chars, distribution of length of words)."
   ]
  },
  {
   "cell_type": "code",
   "execution_count": 30,
   "metadata": {},
   "outputs": [
    {
     "data": {
      "image/png": "[encoded data removed]",
      "text/plain": [
       "<Figure size 432x288 with 1 Axes>"
      ]
     },
     "metadata": {
      "needs_background": "light"
     },
     "output_type": "display_data"
    },
    {
     "data": {
      "image/png": "[encoded data removed]",
      "text/plain": [
       "<Figure size 432x288 with 1 Axes>"
      ]
     },
     "metadata": {
      "needs_background": "light"
     },
     "output_type": "display_data"
    },
    {
     "data": {
      "image/png": "[encoded data removed]",
      "text/plain": [
       "<Figure size 432x288 with 1 Axes>"
      ]
     },
     "metadata": {
      "needs_background": "light"
     },
     "output_type": "display_data"
    }
   ],
   "source": [
    "recipes_list = one_big_text.split(\"MMMMM----- Recipe via Meal-Master (tm) v8.05\")\n",
    "recipe_words_counter = []\n",
    "recipe_chars_counter = []\n",
    "for recipe in recipes_list:\n",
    "    recipe_words_counter += [len(recipe.split())]\n",
    "    recipe_chars_counter += [len(recipe)]\n",
    "    \n",
    "plt.hist(recipe_words_counter[1:], bins = int(len(recipe_words_counter)/200))\n",
    "plt.title(\"Recipes size in words\")\n",
    "plt.show()\n",
    "\n",
    "plt.hist(recipe_chars_counter[1:], bins = int(len(recipe_chars_counter)/200))\n",
    "plt.title(\"Recipes size in chars\")\n",
    "plt.show()\n",
    "\n",
    "one_big_tokens_length = []\n",
    "for token in one_big_tokens:\n",
    "    one_big_tokens_length.append(len(token))\n",
    "\n",
    "\n",
    "plt.hist(one_big_tokens_length, bins = 70)\n",
    "plt.title(\"Length of words\")\n",
    "plt.show()"
   ]
  },
  {
   "cell_type": "markdown",
   "metadata": {},
   "source": [
    "Split the dataset into training, dev and test as a 80%/10%/10% split.  Provide a Python interface to access the split conveniently."
   ]
  },
  {
   "cell_type": "code",
   "execution_count": 31,
   "metadata": {},
   "outputs": [
    {
     "name": "stdout",
     "output_type": "stream",
     "text": [
      "Let's see how many recipes we have in each dataset now:\n",
      "training: 26371 \n",
      "test: 3297 \n",
      "dev: 3296\n"
     ]
    }
   ],
   "source": [
    "def recipe_list_to_dataset(l):\n",
    "    return ' $RECIPE END\\n'.join(itertools.chain([''], l))\n",
    "\n",
    "split_p = (0.8, 0.1, 0.1)\n",
    "split = list(itertools.accumulate((int(s*len(recipes_list)) for s in split_p)))\n",
    "recipes_train, recipes_dev, recipes_test = recipes_list[:split[0]], recipes_list[split[0]:split[1]], recipes_list[split[1]:]\n",
    "\n",
    "print(\"Let's see how many recipes we have in each dataset now:\")\n",
    "print(\"training:\" ,len(recipes_train),\"\\ntest:\", len(recipes_test),\"\\ndev:\", len(recipes_dev))"
   ]
  },
  {
   "cell_type": "code",
   "execution_count": 32,
   "metadata": {},
   "outputs": [],
   "source": [
    "recipes_train = recipe_list_to_dataset(recipes_train)\n",
    "recipes_dev = recipe_list_to_dataset(recipes_dev)\n",
    "recipes_test = recipe_list_to_dataset(recipes_test)"
   ]
  },
  {
   "cell_type": "markdown",
   "metadata": {},
   "source": [
    "Choose the order of the char n-gram according to the indications given in Yoav Goldberg's article.  \n",
    "Justify the choice (you should use the dev dataset for this)."
   ]
  },
  {
   "cell_type": "markdown",
   "metadata": {},
   "source": [
    "<b> According to Yoav Goldberg's article, since we deal with recipes, the farther context has less meaning than if we were dealing with code for example (since then the indentations means more). This means that n-gram of about n=7 should be ideal, but we will later more n-grams between n=7 to n=8 to better choose the hype-parameter. The prodcued model won't have strong semantics of course, so we wouldn't count on the recipe producing tasty food of course. </b>"
   ]
  },
  {
   "cell_type": "markdown",
   "metadata": {},
   "source": [
    "Train a char language model using your LM mode adapted to work on characters instead of words."
   ]
  },
  {
   "cell_type": "code",
   "execution_count": 33,
   "metadata": {},
   "outputs": [],
   "source": [
    "# We have implmented the language model very genericly from the beginning, \n",
    "# to still support charchter models (or any other n-gram model)\n",
    "# This now make running the code for letters very simple...\n",
    "lm, _ = create_lm_generic(recipes_train, order=7)"
   ]
  },
  {
   "cell_type": "markdown",
   "metadata": {},
   "source": [
    "Report on the perplexity of the trained language model.  Comment on the value you observe compared to the perplexity of the word LM model obtained above."
   ]
  },
  {
   "cell_type": "code",
   "execution_count": 34,
   "metadata": {},
   "outputs": [
    {
     "name": "stdout",
     "output_type": "stream",
     "text": [
      "Train peprlexity is 1.8885544163979693\n",
      "Validation peprlexity is inf\n"
     ]
    },
    {
     "name": "stderr",
     "output_type": "stream",
     "text": [
      "<ipython-input-17-9cf6b36f5c15>:21: RuntimeWarning: overflow encountered in power\n",
      "  return np.power(2, summ)\n"
     ]
    }
   ],
   "source": [
    "print(f\"Train peprlexity is {perplexity(lm, recipes_train)}\")\n",
    "print(f\"Validation peprlexity is {perplexity(lm, recipes_dev)}\")"
   ]
  },
  {
   "cell_type": "markdown",
   "metadata": {},
   "source": [
    "<b> We will now use Lidstone smoothing </b>"
   ]
  },
  {
   "cell_type": "code",
   "execution_count": 34,
   "metadata": {},
   "outputs": [
    {
     "name": "stdout",
     "output_type": "stream",
     "text": [
      "Train peprlexity is 1.9209393923562852\n",
      "Validation peprlexity is 2.7427429280873374\n"
     ]
    }
   ],
   "source": [
    "lind_lm, _ = create_lm_generic(recipes_train, order=7, estimator=nltk.LidstoneProbDist, gamma=0.0025, bins=len(set(list(recipes_train))))\n",
    "lind_train_perp = perplexity(lind_lm, recipes_train)\n",
    "lind_dev_perp = perplexity(lind_lm, recipes_dev)\n",
    "print(f\"Train peprlexity is {lind_train_perp}\")\n",
    "print(f\"Validation peprlexity is {lind_dev_perp}\")"
   ]
  },
  {
   "cell_type": "markdown",
   "metadata": {},
   "source": [
    "<b> Now let's find better n hyper-parameter for n-gram </b>"
   ]
  },
  {
   "cell_type": "code",
   "execution_count": 36,
   "metadata": {},
   "outputs": [
    {
     "name": "stdout",
     "output_type": "stream",
     "text": [
      "Train peprlexity is 1.800509300853822\n",
      "Validation peprlexity is 2.8906118237570646\n"
     ]
    }
   ],
   "source": [
    "lind_lm8, _ = create_lm_generic(recipes_train, order=8, estimator=nltk.LidstoneProbDist, gamma=0.0025, bins=len(set(list(recipes_train))))\n",
    "lind_train_perp = perplexity(lind_lm8, recipes_train)\n",
    "lind_dev_perp = perplexity(lind_lm8, recipes_dev)\n",
    "print(f\"Train peprlexity is {lind_train_perp}\")\n",
    "print(f\"Validation peprlexity is {lind_dev_perp}\")"
   ]
  },
  {
   "cell_type": "code",
   "execution_count": 131,
   "metadata": {},
   "outputs": [],
   "source": [
    "lind_lm6, _ = create_lm_generic(recipes_train, order=6, estimator=nltk.LidstoneProbDist, gamma=0.0025, bins=len(set(list(recipes_train))))\n",
    "lind_train_perp = perplexity(lind_lm6, recipes_train)\n",
    "lind_dev_perp = perplexity(lind_lm6, recipes_dev)\n",
    "print(f\"Train peprlexity is {lind_train_perp}\")\n",
    "print(f\"Validation peprlexity is {lind_dev_perp}\")"
   ]
  },
  {
   "cell_type": "code",
   "execution_count": 128,
   "metadata": {},
   "outputs": [
    {
     "name": "stdout",
     "output_type": "stream",
     "text": [
      "Train peprlexity is 2.3290741805693647\n",
      "Validation peprlexity is 2.7653916087479424\n"
     ]
    }
   ],
   "source": [
    "lind_lm5, _ = create_lm_generic(recipes_train, order=5, estimator=nltk.LidstoneProbDist, gamma=0.0025, bins=len(set(list(recipes_train))))\n",
    "lind_train_perp = perplexity(lind_lm5, recipes_train)\n",
    "lind_dev_perp = perplexity(lind_lm5, recipes_dev)\n",
    "print(f\"Train peprlexity is {lind_train_perp}\")\n",
    "print(f\"Validation peprlexity is {lind_dev_perp}\")"
   ]
  },
  {
   "cell_type": "markdown",
   "metadata": {},
   "source": [
    "Report on the perplexity of the trained language model.  Comment on the value you observe compared to the perplexity of the word LM model obtained above."
   ]
  },
  {
   "cell_type": "code",
   "execution_count": 133,
   "metadata": {},
   "outputs": [
    {
     "name": "stdout",
     "output_type": "stream",
     "text": [
      "Test preprlexity is 2.637016050583145\n"
     ]
    }
   ],
   "source": [
    "best_lm = lind_lm6\n",
    "print(f\"Test preprlexity is {perplexity(best_lm, recipes_test)}\")"
   ]
  },
  {
   "cell_type": "markdown",
   "metadata": {},
   "source": [
    "<b> The perplexity of this model is much smaller than the one of the word LM model above. This makes sense, since the number of options for the next token is much smaller, therefor we have much greater certainty about the next token. The perplexity is very close to one, which means we should have a pretty good result when we will generate recipes </b>"
   ]
  },
  {
   "cell_type": "markdown",
   "metadata": {},
   "source": [
    "Sample about 5 generated recipes from the trained language model."
   ]
  },
  {
   "cell_type": "code",
   "execution_count": 135,
   "metadata": {},
   "outputs": [
    {
     "name": "stdout",
     "output_type": "stream",
     "text": [
      "************\n",
      "      1 ts salt\n",
      "  and store in the batter equal amounts of spices, Seafood, Main dish, Breads/, Yeast\n",
      "      -temperature\n",
      "  remove thepate one hours. Unmold onto the puree until\n",
      "  minutes or pouring 194 CAL 9gm CHO 20gm PRO 8gm\n",
      "  \n",
      "  Trim crust. Beat until frosting.\n",
      "  :      6 ts Salt\n",
      "       1 ts Cinnamon candied with oil in a small squares.\n",
      "         Yield: 8 Servings\n",
      " \n",
      "  Mix together in a wok over hot wok. Reheat oven for 8-10\n",
      "  mixture; pour over the oil in small\n",
      "  nonstick sauteed manioca mixture\n",
      "  the third bowl, combine mayonnaise, lemon juice\n",
      " \n",
      "  Cook same\n",
      "      Nutritional)\n",
      "    1/4 c  Raisins.\n",
      " \n",
      "MMMMM\n",
      " \n",
      "      2    Habanero Hot Sauce\n",
      "        1 ts Salt\n",
      "          Title: BUCKEYE BEAN SOUP - MANGE (I would have the coals until frosting, sugar 2 tb.\n",
      " \n",
      "MMMMM\n",
      " \n",
      "  Combine flour and olive oil\n",
      "  cholesterol: 0 mg Fat:\n",
      "  Cover and shake gently. Refrigerator for 10 minutes, shells or bacon and pour\n",
      "  about 1 hour. Rinse lentils, clean eighths. Shared by: Karin Brewer, Cookbook Digest\n",
      "       Dash of peel into the bowl.  Add garlic and a\n",
      "  keeping pin into a large plates.\n",
      "  It's great!) Two package excess\n",
      "  into 6 cloves, cubed\n",
      "       3 tb Pepper\n",
      "  your the butter, softened\n",
      "       1    Pepper\n",
      "  ostrich\n",
      "  butter, optional crusts (I'm not\n",
      "       Mix the cake is very\n",
      "      Yield: 2 Serving liquid body and crushed garlic\n",
      "      1 ds Hot pepper; saute' chicken\n",
      "  Miamiherald,\n",
      "      1 tb Fresh tortillas; *\n",
      "      Yield: 1 Servings\n",
      " \n",
      "MMMMM\n",
      " \n",
      "          Salt\n",
      "      2 tb Thyme\n",
      "  time, beat in the onion, chopped\n",
      "  over edges of Al Rice, until smooth and delicately 1/2 inches, Fish/sea, Microwave.\n",
      " \n",
      "MMMMM\n",
      " \n",
      "      1    Pimento. Cover and, if using to a burning in sauce\n",
      "        Pendleton\n",
      " \n",
      "      2 ts Tabasco sauce\n",
      " \n",
      "  SOURCE;  Ian Flemming often gelatin\n",
      "       1 c  Dried thin\n",
      "  below from 3 to 5 minutes. Light Soy Sauce\n",
      "  and rub\n",
      "  \n",
      "  4. Just before minutes. Serve with name of the World BBS - over noodles, chopped\n",
      "      1 c  Finely chopped\n",
      "  crusty on bottom.)\n",
      " \n",
      "MMMMM\n",
      " \n",
      " $RECIPE END**************\n",
      "          Title: FRITTERS (IRISH)\n",
      " Categories: Cakes, depending with hot rice wine\n",
      "       2 ts Vanilla Wafer Crust:  Mix all ingredients.  Melt 1 tablespoons of Lakes Summer, unrefined Veggies are soft ball. Fill each into vegetable oil, then your gradually Add the\n",
      "  lightly beaten\n",
      "      1 c  Warm water, this same way.  Bake in a private Completely. Then lowest serving to dissolved. Place chicken brown sugar at edges and pepper and smooth and scallps half the cucumbers and cooked.= Transfer to preheated through\n",
      "  the cream and bake for an additional)\n",
      "           1 c  Water\n",
      "  loaf pan to dip\n",
      "    1/2    Lemon juice\n",
      "      2 c  Small onion and serve,wrap individually add to the dripping for the milk or skillet,\n",
      "  into mixture, then lightly and let steep for 2 minutes. Strain.\n",
      "  \n",
      "  Remove from the hot pepper\n",
      "      2    Aug 95 Artichoke and knead\n",
      "  and bran. Allow them and brings you think and set\n",
      "  an ice-cream cheesecake, Chopped\n",
      "       Yield: 4 Serving.\n",
      "  \n",
      "  See Cocoa\n",
      "         1 c  White Creme de Colorado Cache Cookies\n",
      "      Good size sauce.  We like the cream, if\n",
      "  decrease bottled and kept covered chicken flavors of dip.\n",
      "   Makes 12 to 15 minutes. Open up chicken cut with vegetable mix. Place BBS - @10310 ELDORADO CON TOMAT\n",
      "        Title: AZTEC STUFFING BRAID:  Preheat oil over or margarine. Boil\n",
      "    1/4 c  Granulated sugar, vanilla extra virgin olive oil.\n",
      "  \n",
      "  Preheated 325 degrees until it cool place in a warm or corn tortilla chips\n",
      "    1/2 c  Italian, Main dish to absorb flavoring. Stir in half the biscotti in bowl. Let stand 10 minutes.  Add all the dough was cool, dark chunks. Rinsed -- chopped\n",
      "        1 pk Rice\n",
      "        1 c  Soft bread crumbled\n",
      "      Blanch almonds,\n",
      "    1/8 ts Pepper\n",
      "        Salt\n",
      "       10    Sliced and bacon rind\n",
      "  sauce\n",
      "  1 1/2 x  Cinnamon\n",
      "  out one sliced\n",
      "      1 ts Baking oil as\n",
      "     1 pt Whipping Cream stiff, but be soaked in oven-to-tables, Side dish, Vegetable brown the pan.\n",
      "  \n",
      "  ============ * USDA\n",
      "  smoothie should be anywhere for 30 minute. Remove\n",
      "          2 c  Chocolate all air.\n",
      "  Bake at 350F for 3-5 minutes. Preheat oven\n",
      "     Mix\n",
      "       Yield: 2 Servings or in a pretty much fat and dressing\n",
      "  saucepan; brush tops and add the high heat, uncovered jars, franks and green pepper.\u0014\n",
      " \n",
      "MMMMM\n",
      " \n",
      " $RECIPE END********************************************************************** Chicken until completely coating on humid platter into rings\n",
      " \n",
      "        1 ts Cinnamon-apple Juice of 1/2 lb Medium speed on\n",
      "       1 pn Ground the remaining 3/4 - 1/3 TO 3/8\" strips\n",
      "       4 tb Wine Magazine's full of\n",
      "    1/4 to 6.\n",
      " \n",
      "MMMMM\n",
      " \n",
      " $RECIPE END HERB PINWHEEL COOKIES\n",
      " Categories: Desserts, Heirloom\n",
      "    1/2 c  Mozzarella and Sylvia Steiger, GEnie by Kurt Faria 09/22/93.\n",
      "  Heat oil and mix well,\n",
      "  stirring more wine vinegar\n",
      "    by Linda Field & Stroke\n",
      "  over high heat. Dip pieces 1/2 sm Jar Chicken\n",
      "  1 1/2 ts Clove garlic powder, uncooked brown on a platter.\n",
      "  \n",
      "  Food that each roll, rather until thicken, skinned and\n",
      "  triangle the\n",
      "  degrees.  Line bottom\n",
      "  \n",
      "  Carbohydrate, 3 eggs are tenderloin and mix well.  Add steamer, cover with paper to oiled asparagus and about a delicious. P.S. you can do this vinegar and brush it. Then, withut opening and well.\n",
      "  \n",
      "  Discard ball.\n",
      "  \n",
      "  Stems\n",
      "      2 lg Eggs\n",
      "      2 c  Milk\n",
      "      -boneless, bone shallots of the apples are softened\n",
      "      4 tb Salt\n",
      "          16 oz Tomato sauce. This can be prepared fruits, Desserts\n",
      "      1 tb Sherry and serve in the dry shells according to\n",
      "  the dry ingredients except too softens, about 2 to 3 tables when tested by Michelle Dick 1995. Format by Karen Mintzias, km@salata.com and 1 1/3 c  Mild whipped topping low\n",
      "  excellent and potatoes, cut into a 9\" pie\n",
      "  immediately, making liquid from plain orange segmenting Origin:  New Mexican, Salads, Italian cheesier\n",
      "       1 tb Caraway seeds. Stir\n",
      "  for 1 1/2 hours until temperature until golden brown. Drain.\n",
      "  \n",
      "  Slowly while cooking applesauce\n",
      "  1 1/2 pk German, Harward to add crusts that the lid or vegetablespoons of the last both sides twice.  Let restaurant. Add brown meat -- chopped)\n",
      "      -pepper\n",
      " \n",
      "  Snipped\n",
      "     1 pn Of ground\n",
      "  desired.Makes a good for\n",
      "    Puree soup and mix.\n",
      " \n",
      "MMMMM\n",
      " \n",
      "  2 1/2 ts Baking Tips: If desired\n",
      "      2 tb Apples is probably need to make crumble the soup before eating 20-25 mins until the whole head is about 15 minutes.\n",
      "  Bake 20 minutes, uncovered pan and cooked, add remaining with the salt and pepper to cool.\n",
      "  \n",
      "  Serve one basil\n",
      "      1 pt Whipped (3 red, fold in the oil until moisten along with wax paper over the\n",
      "  flour into pieces. Bake for 20-25\n",
      "  ~0500\n",
      " \n",
      "MMMMM------\n",
      "         Yield: 8 Servings\n",
      " \n",
      "MMMMM\n",
      " \n",
      " $RECIPE END**** Before servings\n",
      " \n",
      "    1/2 cup water to taste\n",
      " \n",
      "  Sifted all-purpose\n",
      "     1 oz Carrots\n",
      "       Yield: 4 Serving: 150.5 calorie Collection of saucepan and place over low heat, and simmer until firm. Cut\n",
      "  1 1/2 tb Bacon, cut into a towel to\n",
      "  and cayenne),\n",
      "  marinade and tie tightly with flour or until firm. Knead the batter is\n",
      "  preheat oven to 350F.  Grease 15 minutes. Remove from the eggs and tingling with just warm oven to 350 degrees for brush the egg mixture in cocoa\n",
      "        Chili powder, cut into a servin dish\n",
      " \n",
      " $RECIPE END\n"
     ]
    }
   ],
   "source": [
    "def generate_recipes(model, seed=10, recipes=5):\n",
    "    end = '$RECIPE END'\n",
    "    n = len(model.conditions()[0])\n",
    "    random.seed(seed)\n",
    "    out = []\n",
    "    for _ in range(recipes):\n",
    "        hist = '*' * n\n",
    "        while not hist.endswith(end) and not end.endswith(hist):\n",
    "            samples = list(model[hist].samples())\n",
    "            weights = []\n",
    "            for s in samples:\n",
    "                weights.append(model[hist].prob(s))\n",
    "            token = random.choices(samples, weights=weights, k=1)\n",
    "            hist = hist[1:] + token[0]\n",
    "            out.append(token[0])\n",
    "    return ''.join(out)\n",
    "\n",
    "print(generate_recipes(best_lm, recipes=5))"
   ]
  },
  {
   "cell_type": "markdown",
   "metadata": {},
   "source": [
    "Write 3 to 5 observations about the generated samples."
   ]
  },
  {
   "cell_type": "markdown",
   "metadata": {},
   "source": [
    "<b> We observe that some of the generated recipes looks decent in general, they resemble the orginal recipes by their format. We do ntice that the length of the generated recipes do vary in length much more than the original ones. This is probably due to the fact the the LM does not have very long memory, and hence can wait shorter or longer before finishing (we expect the original recipes lengths to follow a Gaussian distribution, and the generated ones to follow a Geometric distribution, due to the way they were generated </b>"
   ]
  },
  {
   "cell_type": "markdown",
   "metadata": {},
   "source": [
    "<hr>\n",
    "<hr>\n",
    "<a name=\"P2\"></a>\n",
    "<h2>Part 2: Polynomial Curve Fitting</h2>\n",
    "\n",
    "We reproduce the polynomial curve fitting example used in Bishop's <a href=\"https://www.microsoft.com/en-us/research/people/cmbishop/#!prml-book\">book</a> in Chapter 1.  \n",
    "\n",
    "<a name=\"syntheticdata\"></a>\n",
    "<h3>2.1 Synthetic Dataset Generation</h3>\n",
    "\n",
    "We generate a dataset of points in the form of 2 vectors $x$ and $t$ of size $N$ where:\n",
    "\n",
    "$t_i = y(x_i) + \\mathcal{N}(\\mu, \\sigma)$\n",
    "\n",
    "where:\n",
    "* The $x_i$ values are equi-distant on the $[0 \\dots 1]$ segment (that is, $x_1 = 0, x_2=\\frac{1}{N-1}, x_3=\\frac{2}{N-1}..., x_N = 1.0$)\n",
    "* $\\mu = 0.0$\n",
    "* $\\sigma = 0.03$ \n",
    "* $y(x) = sin(2\\pi \\times x)$"
   ]
  },
  {
   "cell_type": "code",
   "execution_count": 45,
   "metadata": {},
   "outputs": [],
   "source": [
    "# Learn the function y given the generated noisy dataset\n",
    "def generateDataset(N, f, sigma):\n",
    "    x = np.linspace(0.0, 1.0, num=N)\n",
    "    y = f(x)\n",
    "    t = y + np.random.normal(0,sigma,len(x))\n",
    "    return x, t\n",
    "x, t = generateDataset(100, lambda x: np.sin(2*np.pi*x), 0.03)\n"
   ]
  },
  {
   "cell_type": "markdown",
   "metadata": {},
   "source": [
    "Draw the plot (scatterplot) of (x,t) using matplotlib for N=100.\n",
    "* Look at the documentation of the <a href=\"https://numpy.org/doc/stable/reference/random/generated/numpy.random.Generator.normal.html#numpy.random.Generator.normal\">numpy.random.Generator.normal</a> function in Numpy for an example of usage.\n",
    "* Look at the definition of the function <a href=\"https://numpy.org/doc/stable/reference/generated/numpy.linspace.html#numpy.linspace\">numpy.linspace</a> to generate your dataset.\n"
   ]
  },
  {
   "cell_type": "code",
   "execution_count": 46,
   "metadata": {},
   "outputs": [
    {
     "data": {
      "text/plain": [
       "Text(0, 0.5, 't')"
      ]
     },
     "execution_count": 46,
     "metadata": {},
     "output_type": "execute_result"
    },
    {
     "data": {
      "image/png": "[encoded data removed]",
      "text/plain": [
       "<Figure size 432x288 with 1 Axes>"
      ]
     },
     "metadata": {
      "needs_background": "light"
     },
     "output_type": "display_data"
    }
   ],
   "source": [
    "plt.plot(x, t)\n",
    "plt.xlabel('x')\n",
    "plt.ylabel('t')"
   ]
  },
  {
   "cell_type": "code",
   "execution_count": 47,
   "metadata": {},
   "outputs": [
    {
     "name": "stdout",
     "output_type": "stream",
     "text": [
      "[1 2 3 4]\n",
      "(4,)\n",
      "[ 1  4  9 16]\n",
      "(4,)\n",
      "[-2.44929360e-16 -4.89858720e-16 -7.34788079e-16 -9.79717439e-16]\n"
     ]
    }
   ],
   "source": [
    "import math\n",
    "import numpy as np\n",
    "def s(x): return x**2\n",
    "def f(x): return math.sin(2 * math.pi * x)\n",
    "vf = np.vectorize(f)        # Create a vectorized version of f\n",
    "\n",
    "z = np.array([1,2,3,4])\n",
    "print(z)\n",
    "\n",
    "sz = s(z)                   # You can apply simple functions to an array\n",
    "print(sz.shape)             # Same dimension as z (4)\n",
    "print(sz)\n",
    "\n",
    "fz = vf(z)                  # For more complex ones, you must use the vectorized version of f\n",
    "print(fz.shape)\n",
    "print(fz)"
   ]
  },
  {
   "cell_type": "markdown",
   "metadata": {},
   "source": [
    "<a name=\"curvefitting\"></a>\n",
    "<h3>2.2 Polynomial Curve Fitting</h3>\n",
    "\n",
    "We will attempt to learn the function y given a synthetic dataset $(x, t)$.\n",
    "\n",
    "We assume that $y$ is a polynomial of degree $M$ - that is:\n",
    "\n",
    "$y(x) = w_0 + w_1 x + w_2 x^2 + ... + w_M x^M$\n",
    "\n",
    "Our objective is to estimate the vector $w = (w_0 \\dots w_M)$ from the dataset $(x, t)$."
   ]
  },
  {
   "cell_type": "code",
   "execution_count": 48,
   "metadata": {},
   "outputs": [
    {
     "name": "stdout",
     "output_type": "stream",
     "text": [
      "(4,)\n",
      "(4, 2)\n",
      "(2, 2)\n",
      "(2, 2)\n",
      "(2, 4)\n",
      "(2,)\n"
     ]
    }
   ],
   "source": [
    "import numpy as np\n",
    "import scipy.linalg\n",
    "\n",
    "t = np.array([1,2,3,4])                    # This is a vector of dim 4\n",
    "print(t.shape)                                   # (4,)\n",
    "phi = np.array([[1,1],[2,4],[3,3],[2,4]])  # This is a 4x2 matrix\n",
    "print(phi.shape)                                  # (4, 2) \n",
    "prod = np.dot(phi.T, phi)                  # prod is a 2x2 matrix\n",
    "print(prod.shape)                                 # (2, 2)\n",
    "i = np.linalg.inv(prod)                    # i is a 2x2 matrix\n",
    "print(i.shape)                                    # (2, 2)\n",
    "m = np.dot(i, phi.T)                       # m is a 2x4 matrix\n",
    "print(m.shape)                                    # (2, 4)\n",
    "w = np.dot(m, t)                           # w is a vector of dim 2\n",
    "print(w.shape)                                    # (2,)"
   ]
  },
  {
   "cell_type": "markdown",
   "metadata": {},
   "source": [
    "We implement a method <b>optimizeLS(x, t, M)</b> which given the dataset $(x, t)$ returns the optimal polynomial of degree $M$ that approximates the dataset according to the least squares objective. "
   ]
  },
  {
   "cell_type": "code",
   "execution_count": 49,
   "metadata": {},
   "outputs": [],
   "source": [
    "def optimizeLS(x, t, M):\n",
    "    X = np.vander(x, M)\n",
    "    XT = X.T\n",
    "    return np.linalg.inv(XT.dot(X)).dot(XT).dot(t)\n",
    "\n",
    "def test_optimizeLS():\n",
    "    x = np.arange(5)\n",
    "    a = [0, 2, 5, 4]\n",
    "    y = a[3]*x**3 + a[2]*x**2 + a[1]*x + a[0]\n",
    "    LS = optimizeLS(x, y, 4)\n",
    "    np.testing.assert_allclose(LS, np.flip(a), atol=1e-5)\n",
    "test_optimizeLS()\n",
    "    "
   ]
  },
  {
   "cell_type": "markdown",
   "metadata": {},
   "source": [
    "We now plot the learned polynomial $w_M(x_i)$ and the real function $sin(2πx)$ for a dataset of size $N=10$ and $M=1,3,5,10$.\n"
   ]
  },
  {
   "cell_type": "code",
   "execution_count": 50,
   "metadata": {},
   "outputs": [
    {
     "data": {
      "text/plain": [
       "<matplotlib.legend.Legend at 0x7f5777da8d30>"
      ]
     },
     "execution_count": 50,
     "metadata": {},
     "output_type": "execute_result"
    },
    {
     "data": {
      "image/png": "[encoded data removed]",
      "text/plain": [
       "<Figure size 432x288 with 1 Axes>"
      ]
     },
     "metadata": {
      "needs_background": "light"
     },
     "output_type": "display_data"
    }
   ],
   "source": [
    "x, t = generateDataset(10, vf, 0.03)\n",
    "plt.plot(x, vf(x), label=\"f(x)\")\n",
    "for M in [1,3,5,10]:\n",
    "    w = optimizeLS(x, t, M)\n",
    "    def poly(x): return np.polyval(w, x)\n",
    "    vpoly = np.vectorize(poly)\n",
    "    wMx = vpoly(x)\n",
    "    plt.plot(x, wMx, label=f\"w_{M}_(x)\")\n",
    "plt.xlabel('x')\n",
    "plt.ylabel('f(x)')\n",
    "plt.legend(loc=\"lower left\")"
   ]
  },
  {
   "cell_type": "markdown",
   "metadata": {},
   "source": [
    "<a name=\"regularization\"></a>\n",
    "<h3>2.3 Polynomial Curve Fitting with Regularization</h3>\n",
    "\n",
    "We observe in the plot above that the solution to the least-squares optimization has a tendency to over-fit the dataset.\n",
    "\n",
    "To avoid over-fitting, we will use <i>regularization</i>: the objective function we want to optimize will take into account the least-squares error as above, and in addition the complexity of the learned model $w$."
   ]
  },
  {
   "cell_type": "markdown",
   "metadata": {},
   "source": [
    "We write a function <b>optimizePLS(x, t, M, lambda)</b> which returns the optimal parameters $w_{PLS}$ given $M$ and $\\lambda$."
   ]
  },
  {
   "cell_type": "code",
   "execution_count": 51,
   "metadata": {},
   "outputs": [],
   "source": [
    "def optimizePLS(x, t, M, lamb=0):\n",
    "    X = np.vander(x, M)\n",
    "    XT = X.T\n",
    "    return np.linalg.inv(XT.dot(X)+ lamb*np.identity(X.shape[1])).dot(XT).dot(t)\n",
    "\n",
    "def test_optimizePLS():\n",
    "    x = np.arange(5)\n",
    "    a = [0, 2, 5, 4]\n",
    "    y = a[3]*x**3 + a[2]*x**2 + a[1]*x + a[0]\n",
    "    PLS = optimizePLS(x, y, 4)\n",
    "    np.testing.assert_allclose(PLS, np.flip(a), atol=1e-5)\n",
    "test_optimizePLS()"
   ]
  },
  {
   "cell_type": "markdown",
   "metadata": {},
   "source": [
    "We want to optimize the value of λ. The way to optimize is to use a development set in addition to our training set.\n",
    "\n",
    "To construct a development set, we extend our synthetic dataset construction function to return 3 samples:\n",
    "* one for training, \n",
    "* one for development \n",
    "* and one for testing"
   ]
  },
  {
   "cell_type": "code",
   "execution_count": 52,
   "metadata": {},
   "outputs": [],
   "source": [
    "def generateDataset3(N, f, sigma):\n",
    "    x = np.linspace(0.0, 1.0, num=3*N)\n",
    "    np.random.shuffle(x)\n",
    "    y = f(x)\n",
    "    t = y + np.random.normal(0,sigma,len(x))\n",
    "    return (x[:N], t[:N]), (x[N:2*N], t[N:2*N]), (x[2*N:], t[2*N:])"
   ]
  },
  {
   "cell_type": "markdown",
   "metadata": {},
   "source": [
    "Given a synthetic dataset, we optimize for the value of λ by varying the value of log(λ) from -40 to -20 on the development set. "
   ]
  },
  {
   "cell_type": "code",
   "execution_count": 66,
   "metadata": {},
   "outputs": [
    {
     "data": {
      "text/plain": [
       "1.026187963170189e-10"
      ]
     },
     "execution_count": 66,
     "metadata": {},
     "output_type": "execute_result"
    },
    {
     "data": {
      "image/png": "[encoded data removed]",
      "text/plain": [
       "<Figure size 432x288 with 1 Axes>"
      ]
     },
     "metadata": {
      "needs_background": "light"
     },
     "output_type": "display_data"
    }
   ],
   "source": [
    "def NE(x, t):\n",
    "    return np.power(np.sum(np.power(t-x, 2)), 0.5) / len(x)\n",
    "\n",
    "def optimizePLS2(xt, tt, xv, tv, M, plot=True):\n",
    "    loglambs = np.arange(-40, -19)\n",
    "    lambs = np.exp(loglambs)\n",
    "    nes = np.empty(lambs.shape)\n",
    "    for i, lamb in enumerate(lambs):\n",
    "        w = optimizePLS(xt, tt, M, lamb)\n",
    "        def poly(x): return np.polyval(w, x)\n",
    "        vpoly = np.vectorize(poly)\n",
    "        wMx = vpoly(xv)\n",
    "        nes[i] = NE(xv, wMx)\n",
    "    if plot:\n",
    "        plt.plot(lambs, nes)\n",
    "        plt.xlabel('lambda')\n",
    "    return lambs[np.argmin(nes)]\n",
    "\n",
    "(xt, tt), (xv, tv), (xtest, vtest) = generateDataset3(100, vf, 0.03)\n",
    "optimizePLS2(xt, tt, xv, tv, 10)    "
   ]
  },
  {
   "cell_type": "code",
   "execution_count": 68,
   "metadata": {},
   "outputs": [
    {
     "data": {
      "text/plain": [
       "<BarContainer object of 6 artists>"
      ]
     },
     "execution_count": 68,
     "metadata": {},
     "output_type": "execute_result"
    },
    {
     "data": {
      "image/png": "[encoded data removed]",
      "text/plain": [
       "<Figure size 432x288 with 1 Axes>"
      ]
     },
     "metadata": {
      "needs_background": "light"
     },
     "output_type": "display_data"
    }
   ],
   "source": [
    "# Draw the plot of the normalized error of the model for the training, \n",
    "# development and test for the case of $N = 10$ and the case of $N=100$. \n",
    "\n",
    "#TODO: Not sure what we should plot here... There is one error in each case\n",
    "\n",
    "M = 10\n",
    "data = {}\n",
    "\n",
    "plt.clf()\n",
    "plt.plot()\n",
    "for i, N in enumerate([10, 100]):\n",
    "    (xt, tt), (xv, tv), (xtest, vtest) = generateDataset3(N, vf, 0.03)\n",
    "    lamb = optimizePLS2(xt, tt, xv, tv, M,plot=False)\n",
    "    w = optimizePLS(xt, tt, M)\n",
    "    def poly(x): return np.polyval(w, x)\n",
    "    vpoly = np.vectorize(poly)\n",
    "    for name, x in {'xt': xt, 'xv': xv, 'xtest': xtest}.items():\n",
    "        wMx = vpoly(x)\n",
    "        ne = NE(x, wMx)\n",
    "        data[f\"{name}_{N}\"] = ne\n",
    "plt.bar(list(data.keys()), list(data.values()))"
   ]
  },
  {
   "cell_type": "markdown",
   "metadata": {},
   "source": [
    "#### Analyze the plots\n",
    "\n",
    "The model with N=10 is very noisy, we can't learn the underline function even with regularization (in fact it may be worse with it sometimes, since we add a degree of freedom,hence we overfit even more).\n",
    "\n",
    "The model with N=100 is good, we get a relatively small error (about 3*sigma), and it is consistent among the train, validation and test datasets."
   ]
  },
  {
   "cell_type": "markdown",
   "metadata": {},
   "source": [
    "<a name=\"prob-regr\"></a>\n",
    "<h3>2.4 Probabilistic Regression Framework</h3>\n",
    "\n",
    "We now consider the same problem of regression (learning a function from a dataset) formulated in a probabilistic framework."
   ]
  },
  {
   "cell_type": "code",
   "execution_count": 69,
   "metadata": {},
   "outputs": [],
   "source": [
    "def bayesianEstimator(x, t, M, alpha, sigma2):\n",
    "    phi = lambda x: np.vander(x, M+1).T\n",
    "    invS = alpha*np.identity(M+1) + 1/sigma2*np.sum([phi([x[i]]).dot(phi([x[i]]).T) for i in range(len(x))], 0)\n",
    "    S = np.linalg.inv(invS)\n",
    "    m = lambda z: 1/sigma2*phi(z).T.dot(S).dot(np.sum([phi([x[i]])*t[i] for i in range(len(x))], 0))\n",
    "    s2 = lambda z: sigma2 + phi(z).T.dot(S).dot(phi(z))\n",
    "    return m, s2"
   ]
  },
  {
   "cell_type": "markdown",
   "metadata": {},
   "source": [
    "We draw the plot of the original function $y = sin(2πx)$ over the range $[0 \\dots 1]$, the mean of the predictive distribution $m(x)$ and the confidence interval $m(x) - \\sqrt{var(x)}$ and $m(x) + \\sqrt{var(x)}$ (that is, one standard deviation around each predicted point) for the values:\n",
    "* $\\alpha = 0.005$\n",
    "* $\\sigma^2 = 1/11.1$\n",
    "* $M = 9$\n",
    "\n",
    "over a synthetic dataset of size $N=10$"
   ]
  },
  {
   "cell_type": "code",
   "execution_count": 70,
   "metadata": {},
   "outputs": [
    {
     "data": {
      "image/png": "[encoded data removed]",
      "text/plain": [
       "<Figure size 720x504 with 1 Axes>"
      ]
     },
     "metadata": {
      "needs_background": "light"
     },
     "output_type": "display_data"
    }
   ],
   "source": [
    "alpha = 0.005\n",
    "sigma2 = 1/11.1\n",
    "M = 9\n",
    "N = 100\n",
    "x, t = generateDataset(N, vf, 0.03)\n",
    "m, s2 = bayesianEstimator(x,t, M, alpha, sigma2)\n",
    "\n",
    "mx = m(x).reshape((N,))\n",
    "s2x = s2(x)\n",
    "cix = np.diag(s2x).reshape((N,))\n",
    "\n",
    "## Draw the plot\n",
    "def draw_prob_plot(x, t, mx, cix):\n",
    "    plt.figure(figsize=(10, 7))\n",
    "    plt.plot(x, vf(x), color='g', linewidth=2)\n",
    "    plt.scatter(x, t, color='b', s=10)\n",
    "    plt.plot(x, mx, color='r', linewidth=2)\n",
    "    plt.xlabel('x')\n",
    "    plt.ylabel('t')\n",
    "    plt.fill_between(x, mx - cix, mx + cix, color='magenta', alpha=.2)\n",
    "draw_prob_plot(x, t, mx, cix)"
   ]
  },
  {
   "cell_type": "markdown",
   "metadata": {},
   "source": [
    "Now for $N=100$:"
   ]
  },
  {
   "cell_type": "code",
   "execution_count": 71,
   "metadata": {},
   "outputs": [
    {
     "data": {
      "image/png": "[encoded data removed]",
      "text/plain": [
       "<Figure size 720x504 with 1 Axes>"
      ]
     },
     "metadata": {
      "needs_background": "light"
     },
     "output_type": "display_data"
    }
   ],
   "source": [
    "N = 10\n",
    "x, t = generateDataset(N, vf, 0.03)\n",
    "m, s2 = bayesianEstimator(x,t, M, alpha, sigma2)\n",
    "\n",
    "mx = m(x).reshape((N,))\n",
    "s2x = s2(x)\n",
    "cix = np.diag(s2x).reshape((N,))\n",
    "\n",
    "## Draw the plot\n",
    "draw_prob_plot(x, t, mx, cix)"
   ]
  },
  {
   "cell_type": "markdown",
   "metadata": {},
   "source": [
    "Interpret the height of the band around the most likely function in terms of the distribution of the xs in your synthetic dataset.\n",
    "Can you think of ways to make this height very small in one segment of the function and large in another?\n",
    "\n",
    "<b>The height of the band around the most likely function, is the confidence interval for each value (at 67% confidence).\n",
    "A way to make this height small in one segment would be to sample more times on that segment (at the expanse of other segments</b>).\n",
    "As we can see in this example, the height band around middle point is smller:"
   ]
  },
  {
   "cell_type": "code",
   "execution_count": 72,
   "metadata": {},
   "outputs": [
    {
     "data": {
      "image/png": "[encoded data removed]",
      "text/plain": [
       "<Figure size 720x504 with 1 Axes>"
      ]
     },
     "metadata": {
      "needs_background": "light"
     },
     "output_type": "display_data"
    }
   ],
   "source": [
    "def generateDatasetMoreInMiddle(N, K, f, sigma):\n",
    "    x = np.hstack((np.linspace(0.0, 1.0, num=N-K) , np.linspace(0.45, 0.55, num=K)))\n",
    "    x = np.sort(x)\n",
    "    y = f(x)\n",
    "    t = y + np.random.normal(0,sigma,len(x))\n",
    "    return x, t\n",
    "\n",
    "N = 100\n",
    "K = 50\n",
    "x, t = generateDatasetMoreInMiddle(N, K, vf, 0.03)\n",
    "m, s2 = bayesianEstimator(x,t, M, alpha, sigma2)\n",
    "\n",
    "mx = m(x).reshape((N,))\n",
    "s2x = s2(x)\n",
    "cix = np.diag(s2x).reshape((N,))\n",
    "\n",
    "## Draw the plot\n",
    "draw_prob_plot(x, t, mx, cix)"
   ]
  },
  {
   "cell_type": "markdown",
   "metadata": {},
   "source": [
    "<hr/>\n",
    "<hr/>\n",
    "<a name=\"P3\"></a>\n",
    "<h2>Part 3: Neural Models for Classification</h2>\n",
    "\n",
    "In this section, we adopt the PyTorch tutorial on \n",
    "<a href=\"https://pytorch.org/tutorials/intermediate/char_rnn_classification_tutorial.html\">Character RNN for classification</a>\n",
    "to a different dataset.\n",
    "\n",
    "<a name=\"readtut\"></a>\n",
    "<h3>3.1 Summarize the Tutorial</h3>\n",
    "\n",
    "We will show how to build and train a basic character-level RNN with the mission of word classification. This RNN gets a list of characters that represents a city's name as its input – and returns a prediction of its location (or, more accurately, the country it belongs to). To achieve that, we'll form a dictionary of countries and corresponding cities. Each letter will be encoded by a **one-hot vector** of size  `1Xnubmer_of_letters_and_delimiters`.\n",
    "By doing so, we end up with Tensors representation for each word. When creating our 2 linear layers network we will use a **LogSoftmax layer** over the output to normalize it and keep the changes of the loss function, **nn.NLLLoss**, relatively small. The input, a Tensor of the current letter, together with a hidden state from the steps we already ran, will bring us the output and an up-to-date hidden state for future computations. We'll evaluate the result in a confusing matrix which will allow us to easily distinguish the places our model is more likely to recognize, and those it might confuse with others.\n",
    " \n",
    " \n",
    "\n",
    "Let's begin with our expected output. In fact, it is a real output from the RNN code we will see here. given a name of a city, for example `Hanzhong`, [a Chinese city](https://www.google.com/maps/place/Hanzhong,+%D7%A9%D7%90%D7%90%D7%A0%D7%A9%D7%99,+%D7%A1%D7%99%D7%9F%E2%80%AD/@33.0763356,107.1750733,11z/data=!3m1!4b1!4m5!3m4!1s0x368a91403e11f95d:0x8d0bf0d548295d46!8m2!3d33.06748!4d107.023323) we chose randomly from google map, we would like our RNN to classify the city origin (the first answer is the most likely one):\n",
    "\n",
    "\n",
    "    $python predict.py Hanzhong\n",
    "    > Hanzhong\n",
    "    (-0.70) cn\n",
    "    (-1.37) in\n",
    "    (-3.08) pk\n",
    "\n",
    "We got an answer, and a correct one! Now - let's start from the beginning...\n"
   ]
  },
  {
   "cell_type": "markdown",
   "metadata": {},
   "source": [
    "<a name=\"newdata\"></a>\n",
    "<h3>3.2 Explore City Names Dataset</h3>\n",
    "\n",
    "We use a dataset on city names in different countries to train a classifier.\n",
    "\n",
    "The data from <a href=\"cities_val.zip\">cities_val.zip</a> (validation) and <a href=\"cities_train.zip\">cities_train.zip</a> (training)\n",
    "is under \"../data/cities/val\" and \"../data/cities/train\".\n"
   ]
  },
  {
   "cell_type": "code",
   "execution_count": 96,
   "metadata": {},
   "outputs": [
    {
     "name": "stdout",
     "output_type": "stream",
     "text": [
      "Here are the files we are going to work on:\n",
      "['data/cities/train/ir.txt', 'data/cities/train/za.txt', 'data/cities/train/in.txt', 'data/cities/train/fi.txt', 'data/cities/train/pk.txt', 'data/cities/train/cn.txt', 'data/cities/train/fr.txt', 'data/cities/train/af.txt', 'data/cities/train/de.txt']\n",
      "\n",
      "\n",
      "Let's process our data! first, let's understand unicodeToAscii:\n",
      "The word 'Ślusàrski' after unicodeToAscii is written as: Slusarski\n"
     ]
    }
   ],
   "source": [
    "\n",
    "import codecs\n",
    "import math\n",
    "import random\n",
    "import string\n",
    "import time\n",
    "import glob\n",
    "import os\n",
    "import numpy as np\n",
    "from sklearn.metrics import accuracy_score\n",
    "\n",
    "'''\n",
    "Don't change these constants for the classification task.\n",
    "You may use different copies for the sentence generation model.\n",
    "'''\n",
    "languages = [\"af\", \"cn\", \"de\", \"fi\", \"fr\", \"in\", \"ir\", \"pk\", \"za\"]\n",
    "all_letters = string.ascii_letters + \" .,;'\"\n",
    "\n",
    "import unicodedata\n",
    "def findFiles(path): return glob.glob(path)\n",
    "\n",
    "print(\"Here are the files we are going to work on:\")\n",
    "print(findFiles('../data/cities/train/*.txt'))\n",
    "\n",
    "import unicodedata\n",
    "\n",
    "# Turn a Unicode string to plain ASCII, thanks to https://stackoverflow.com/a/518232/2809427\n",
    "def unicodeToAscii(s):\n",
    "    return ''.join(\n",
    "        c for c in unicodedata.normalize('NFD', s)\n",
    "        if unicodedata.category(c) != 'Mn'\n",
    "        and c in all_letters\n",
    "    )\n",
    "print(\"\\n\")\n",
    "print(\"Let's process our data! first, let's understand unicodeToAscii:\")\n",
    "print(\"The word 'Ślusàrski' after unicodeToAscii is written as:\", unicodeToAscii('Ślusàrski'))\n",
    "\n",
    "# Build the category_lines dictionary, a list of names per language\n",
    "category_lines = {}\n",
    "all_categories = []\n",
    "\n",
    "# Read a file and split into lines\n",
    "def readLines(filename):\n",
    "    lines = codecs.open(filename, \"r\",encoding='utf-8', errors='ignore').read().strip().split('\\n')\n",
    "    return [unicodeToAscii(line) for line in lines]\n"
   ]
  },
  {
   "cell_type": "markdown",
   "metadata": {},
   "source": [
    "\n",
    "The first thing we would like to do is understand our data. We will compute some basic statistics that will give us a brighter understanding of our data.\n",
    "\n",
    "We are using `unicodeToAscii` function [as suggested here](https://stackoverflow.com/a/518232/2809427) to make sure all the letters in our data are one of the 26 English letters, together with delimiters such as \" \" or \".\".\n",
    " Since we work with a *Character-Level RNN* and each letter is represented by a *one-hot vector*, it has a direct impact on our vector dim (it is `1Xnumber_of_distinct_letters`). It gives our module an easier life, but we do pay a price - we lose some data in the conversion  process.\n",
    "\n",
    "We use a dictionary  which maps each category (in our case - a country) to a list of lines (names of cities in that country) - we will use `category_lines` for that. The list `all_categories` will hold our different countries and `n_categories` will represent its length - we will need it soon.\n",
    "\n",
    "In order to get a list of cities names which is easy to work with, we will split the names into an easy-to-process list, and then we will look at some statistics we got from our data:\n",
    "\n",
    "Let's start with the files we are going to work with:"
   ]
  },
  {
   "cell_type": "code",
   "execution_count": 97,
   "metadata": {},
   "outputs": [
    {
     "name": "stdout",
     "output_type": "stream",
     "text": [
      "Number of categories: 9\n",
      "Number of tokens per category: 3000\n",
      "Number of characters:  298179\n",
      "Number of distinct characters:  29\n",
      "Average number of character per token: 11\n"
     ]
    },
    {
     "data": {
      "image/png": "[encoded data removed]",
      "text/plain": [
       "<Figure size 432x288 with 1 Axes>"
      ]
     },
     "metadata": {
      "needs_background": "light"
     },
     "output_type": "display_data"
    },
    {
     "data": {
      "image/png": "[encoded data removed]",
      "text/plain": [
       "<Figure size 432x288 with 1 Axes>"
      ]
     },
     "metadata": {
      "needs_background": "light"
     },
     "output_type": "display_data"
    }
   ],
   "source": [
    "import matplotlib.pyplot as plt\n",
    "\n",
    "characters = 0\n",
    "one_big_line = []\n",
    "summed_category_len = []\n",
    "\n",
    "for filename in findFiles('../data/cities/train/*.txt'):\n",
    "    category = os.path.splitext(os.path.basename(filename))[0]\n",
    "    all_categories.append(category)\n",
    "    lines = readLines(filename)\n",
    "    category_lines[category] = lines\n",
    "    one_big_line += lines\n",
    "    summed_category_len += (len(line) for line in lines)\n",
    "    one_big_text = \"\".join(one_big_line)\n",
    "    characters = len(one_big_text)\n",
    "\n",
    "\n",
    "n_letters = len(all_letters)\n",
    "n_categories = len(category_lines)\n",
    "\n",
    "print(\"Number of categories:\", n_categories)\n",
    "print(\"Number of tokens per category:\", len(summed_category_len) // n_categories)\n",
    "print(\"Number of characters: \", characters)\n",
    "print(\"Number of distinct characters: \", (len(set(\"\".join(one_big_text)))))\n",
    "print(\"Average number of character per token:\", sum(summed_category_len) // (len(one_big_line)))\n",
    "\n",
    "\n",
    "\n",
    "plt.hist(list(\"\".join(one_big_line)), bins = 70)\n",
    "plt.title(\"Character distribution\")\n",
    "plt.show()\n",
    "\n",
    "plt.hist(summed_category_len, bins = 70)\n",
    "plt.title(\"Tokens length distribution\")\n",
    "plt.show()"
   ]
  },
  {
   "cell_type": "markdown",
   "metadata": {},
   "source": [
    "<a name=\"citiesmodel\"></a>\n",
    "<h3>3.3 Train a Model and Evaluate It</h3>\n",
    "\n",
    "So now when we have a better understanding of our data, it's time to help our RNN understand it as well. To achieve that we will build a Tensor to hold our letters and words.\n",
    "Let's see an example of a `letterToTensor` function which takes a letter (one of the letters in `all_letters`) and returns a Tensor representation of it as a *one-hot vector* - a vector of zeroes except a one in the element in the letter's index place, in size `<1Xn_letter>`.\n",
    "A single line (one city name) will be a matrix of letters - a Tensor of size `<line_length x 1 x n_letters>`."
   ]
  },
  {
   "cell_type": "code",
   "execution_count": 98,
   "metadata": {},
   "outputs": [
    {
     "name": "stdout",
     "output_type": "stream",
     "text": [
      "Here is a Tensor of the letter 'c':\n",
      "tensor([[0., 0., 1., 0., 0., 0., 0., 0., 0., 0., 0., 0., 0., 0., 0., 0., 0., 0.,\n",
      "         0., 0., 0., 0., 0., 0., 0., 0., 0., 0., 0., 0., 0., 0., 0., 0., 0., 0.,\n",
      "         0., 0., 0., 0., 0., 0., 0., 0., 0., 0., 0., 0., 0., 0., 0., 0., 0., 0.,\n",
      "         0., 0., 0.]])\n",
      "\n",
      "Here is a Tensor of the word 'NLP':\n",
      "tensor([[[0., 0., 0., 0., 0., 0., 0., 0., 0., 0., 0., 0., 0., 0., 0., 0., 0.,\n",
      "          0., 0., 0., 0., 0., 0., 0., 0., 0., 0., 0., 0., 0., 0., 0., 0., 0.,\n",
      "          0., 0., 0., 0., 0., 1., 0., 0., 0., 0., 0., 0., 0., 0., 0., 0., 0.,\n",
      "          0., 0., 0., 0., 0., 0.]],\n",
      "\n",
      "        [[0., 0., 0., 0., 0., 0., 0., 0., 0., 0., 0., 0., 0., 0., 0., 0., 0.,\n",
      "          0., 0., 0., 0., 0., 0., 0., 0., 0., 0., 0., 0., 0., 0., 0., 0., 0.,\n",
      "          0., 0., 0., 1., 0., 0., 0., 0., 0., 0., 0., 0., 0., 0., 0., 0., 0.,\n",
      "          0., 0., 0., 0., 0., 0.]],\n",
      "\n",
      "        [[0., 0., 0., 0., 0., 0., 0., 0., 0., 0., 0., 0., 0., 0., 0., 0., 0.,\n",
      "          0., 0., 0., 0., 0., 0., 0., 0., 0., 0., 0., 0., 0., 0., 0., 0., 0.,\n",
      "          0., 0., 0., 0., 0., 0., 0., 1., 0., 0., 0., 0., 0., 0., 0., 0., 0.,\n",
      "          0., 0., 0., 0., 0., 0.]]])\n"
     ]
    }
   ],
   "source": [
    "import torch \n",
    "\n",
    "# Find letter index from all_letters, e.g. \"a\" = 0\n",
    "def letterToIndex(letter):\n",
    "    return all_letters.find(letter)\n",
    "\n",
    "\n",
    "# Just for demonstration, turn a letter into a <1 x n_letters> Tensor\n",
    "def letterToTensor(letter):\n",
    "    tensor = torch.zeros(1, n_letters)\n",
    "    tensor[0][letterToIndex(letter)] = 1\n",
    "    return tensor\n",
    "\n",
    "\n",
    "# Turn a line into a <line_length x 1 x n_letters>,\n",
    "# or an array of one-hot letter vectors\n",
    "def lineToTensor(line):\n",
    "    tensor = torch.zeros(len(line), 1, n_letters)\n",
    "    for li, letter in enumerate(line):\n",
    "        tensor[li][0][letterToIndex(letter)] = 1\n",
    "    return tensor\n",
    "\n",
    "\n",
    "print (\"Here is a Tensor of the letter 'c':\")\n",
    "print(letterToTensor('c'))\n",
    "print()\n",
    "print(\"Here is a Tensor of the word 'NLP':\")\n",
    "print(lineToTensor(\"NLP\"))\n"
   ]
  },
  {
   "cell_type": "markdown",
   "metadata": {},
   "source": [
    "# Creating the Network\n",
    "\n",
    "Now we can start building  our RNN module. \n",
    "As the original tutorial explains:\n",
    "\n",
    ">_\"Before autograd, creating a recurrent neural network in Torch involved\n",
    "cloning the parameters of a layer over several timesteps. The layers\n",
    "held hidden state and gradients which are now entirely handled by the\n",
    "graph itself. This means you can implement a RNN in a very \"pure\" way,\n",
    "as regular feed-forward layers.\"_\n",
    "\n"
   ]
  },
  {
   "cell_type": "code",
   "execution_count": 99,
   "metadata": {},
   "outputs": [],
   "source": [
    "import torch.nn as nn\n",
    "\n",
    "class RNN(nn.Module):\n",
    "    def __init__(self, input_size, hidden_size, output_size):\n",
    "        super(RNN, self).__init__()\n",
    "\n",
    "        self.hidden_size = hidden_size\n",
    "\n",
    "        self.i2h = nn.Linear(input_size + hidden_size, hidden_size)\n",
    "        self.i2o = nn.Linear(input_size + hidden_size, output_size)\n",
    "        self.softmax = nn.LogSoftmax(dim=1)\n",
    "\n",
    "    def forward(self, input, hidden):\n",
    "        combined = torch.cat((input, hidden), 1)\n",
    "        hidden = self.i2h(combined)\n",
    "        output = self.i2o(combined)\n",
    "        output = self.softmax(output)\n",
    "        return output, hidden\n",
    "\n",
    "    def initHidden(self):\n",
    "        return torch.zeros(1, self.hidden_size)\n",
    "\n",
    "n_hidden = 128\n",
    "rnn = RNN(n_letters, n_hidden, n_categories)"
   ]
  },
  {
   "cell_type": "markdown",
   "metadata": {},
   "source": [
    "In each step we will pass a Tensor of a letter as input, in addition to the previous hidden state. The output will be the probability  of each country to be the country this city is located in. We will use `lineToTensor` with an argument (for example `'Paris'`) and let our code do the rest:\n",
    "\n"
   ]
  },
  {
   "cell_type": "code",
   "execution_count": 100,
   "metadata": {},
   "outputs": [
    {
     "name": "stdout",
     "output_type": "stream",
     "text": [
      "tensor([[-2.2593, -2.2020, -2.2694, -2.1361, -2.3074, -2.1125, -2.2542, -2.1193,\n",
      "         -2.1373]], grad_fn=<LogSoftmaxBackward>)\n"
     ]
    }
   ],
   "source": [
    "input = lineToTensor('Paris')\n",
    "hidden = torch.zeros(1, n_hidden)\n",
    "\n",
    "output, next_hidden = rnn(input[0], hidden)\n",
    "print(output)"
   ]
  },
  {
   "cell_type": "markdown",
   "metadata": {},
   "source": [
    "We get a `<1 x n_categories>` Tensor with the probability of every one of our `n_categort` to be the relevent language.\n",
    "\n"
   ]
  },
  {
   "cell_type": "markdown",
   "metadata": {},
   "source": [
    "# Training\n",
    "\n",
    "\n",
    "For the training we will use dome helper functions suggested by [the tutorial](https://pytorch.org/tutorials/intermediate/char_rnn_classification_tutorial.html) we based on, togather with an exanple that will help us understand the process we go through:\n"
   ]
  },
  {
   "cell_type": "code",
   "execution_count": 101,
   "metadata": {},
   "outputs": [
    {
     "name": "stdout",
     "output_type": "stream",
     "text": [
      "Let's try to take some category-line (country-city name) examples:\n",
      "category = af / line = kajdara\n",
      "category = pk / line = akbruta\n",
      "category = fi / line = hokkanen\n",
      "category = za / line = qaryat ar ruzayqi\n",
      "category = de / line = krumnussbaum an der donauuferbahn\n"
     ]
    }
   ],
   "source": [
    "def categoryFromOutput(output):\n",
    "    top_n, top_i = output.topk(1)\n",
    "    category_i = top_i[0].item()\n",
    "    return all_categories[category_i], category_i\n",
    "\n",
    "import random\n",
    "\n",
    "def randomChoice(l):\n",
    "    return l[random.randint(0, len(l) - 1)]\n",
    "\n",
    "def randomTrainingExample():\n",
    "    category = randomChoice(all_categories)\n",
    "    line = randomChoice(category_lines[category])\n",
    "    category_tensor = torch.tensor([all_categories.index(category)], dtype=torch.long)\n",
    "    line_tensor = lineToTensor(line)\n",
    "    return category, line, category_tensor, line_tensor\n",
    "\n",
    "print(\"Let's try to take some category-line (country-city name) examples:\")\n",
    "for i in range(5):\n",
    "    category, line, category_tensor, line_tensor = randomTrainingExample()\n",
    "    print('category =', category, '/ line =', line)"
   ]
  },
  {
   "cell_type": "markdown",
   "metadata": {},
   "source": [
    "**Now we can start the training!**\n",
    "\n",
    "We will use again our original tutorial which gives a great and bright explainations of the process: \n",
    "\n",
    "\n",
    ">  * *Each loop of training will:*\n",
    "    - *Create input and target tensors*\n",
    "    - *Create a zeroed initial hidden state*\n",
    "    - *Read each letter in and*\n",
    "     - Keep hidden state for next letter*\n",
    "    - *Compare final output to target*\n",
    "    - *Back-propagate*\n",
    "    - *Return the output and loss*\n"
   ]
  },
  {
   "cell_type": "code",
   "execution_count": 102,
   "metadata": {},
   "outputs": [],
   "source": [
    "criterion = nn.NLLLoss()\n",
    "learning_rate = 0.005 # If you set this too high, it might explode. If too low, it might not learn\n",
    "\n",
    "def train(category_tensor, line_tensor):\n",
    "    hidden = rnn.initHidden()\n",
    "\n",
    "    rnn.zero_grad()\n",
    "\n",
    "    for i in range(line_tensor.size()[0]):\n",
    "        output, hidden = rnn(line_tensor[i], hidden)\n",
    "\n",
    "    loss = criterion(output, category_tensor)\n",
    "    loss.backward()\n",
    "\n",
    "    # Add parameters' gradients to their values, multiplied by learning rate\n",
    "    for p in rnn.parameters():\n",
    "        p.data.add_(p.grad.data, alpha=-learning_rate)\n",
    "\n",
    "    return output, loss.item()"
   ]
  },
  {
   "cell_type": "markdown",
   "metadata": {},
   "source": [
    "Since the training might be confusing, a nice way to demonstrate it as it runs is to print several examples during the process:\n",
    "\n"
   ]
  },
  {
   "cell_type": "code",
   "execution_count": 103,
   "metadata": {},
   "outputs": [
    {
     "name": "stdout",
     "output_type": "stream",
     "text": [
      "500 2% (0m 1s) 2.1568 shafrikent / fi ✗ (fr)\n",
      "1000 5% (0m 2s) 2.2251 tazeh kande sheykh ol eslam / af ✗ (ir)\n",
      "1500 8% (0m 3s) 2.0524 mashkun / pk ✓\n",
      "2000 11% (0m 5s) 1.9872 linhu / cn ✓\n",
      "2500 14% (0m 6s) 2.2598 villersletourneur / pk ✗ (fr)\n",
      "3000 17% (0m 8s) 2.2155 voires / fr ✗ (ir)\n",
      "3500 20% (0m 9s) 2.1977 krovino seltso / fi ✗ (in)\n",
      "4000 22% (0m 10s) 2.3194 lomas del copinol / fr ✗ (de)\n",
      "4500 25% (0m 12s) 2.1579 sra nawa / fi ✗ (af)\n",
      "5000 28% (0m 13s) 2.1359 zangtun / cn ✗ (za)\n",
      "5500 31% (0m 14s) 1.5768 fuxingcun / cn ✓\n",
      "6000 34% (0m 16s) 2.2021 dzheirli / fi ✗ (ir)\n",
      "6500 37% (0m 17s) 2.0551 kafin wamba / pk ✗ (fi)\n",
      "7000 40% (0m 18s) 1.9562 thatta makhdumpur / pk ✓\n",
      "7500 42% (0m 19s) 1.8851 monadelan / ir ✓\n",
      "8000 45% (0m 21s) 1.1489 tjisingdang / cn ✗ (in)\n",
      "8500 48% (0m 22s) 2.0386 tegerbari / de ✗ (ir)\n",
      "9000 51% (0m 23s) 2.7647 shabaopo / za ✗ (cn)\n",
      "9500 54% (0m 25s) 1.6290 kousaniemi / fi ✓\n",
      "10000 57% (0m 26s) 1.3022 xilinji / cn ✓\n",
      "10500 60% (0m 27s) 1.7425 dashtol / af ✓\n",
      "11000 62% (0m 29s) 0.4949 gozza / za ✓\n",
      "11500 65% (0m 30s) 2.2157 tabar sara / fi ✗ (ir)\n",
      "12000 68% (0m 31s) 1.7273 ab zaluye bala / pk ✗ (za)\n",
      "12500 71% (0m 32s) 1.1725 friesenried / de ✗ (fr)\n",
      "13000 74% (0m 34s) 1.6730 talkhan kot / pk ✓\n",
      "13500 77% (0m 35s) 1.4025 ballade / de ✓\n",
      "14000 80% (0m 36s) 1.2698 erguegaberic / fr ✓\n",
      "14500 82% (0m 38s) 1.2310 atar kach / af ✗ (pk)\n",
      "15000 85% (0m 39s) 1.3293 montbeliardot / fr ✓\n",
      "15500 88% (0m 40s) 1.1255 fingolo / fi ✗ (in)\n",
      "16000 91% (0m 42s) 1.0616 xom bung binh / in ✓\n",
      "16500 94% (0m 43s) 2.8565 saintjeanpierrefixte / fr ✗ (fi)\n",
      "17000 97% (0m 45s) 2.0442 chalehye kamalvand / za ✗ (ir)\n",
      "17500 100% (0m 46s) 1.9931 casas de las infiernos / fr ✗ (fi)\n"
     ]
    }
   ],
   "source": [
    "import time\n",
    "import math\n",
    "\n",
    "n_iters = 17500\n",
    "print_every = 500\n",
    "plot_every = 200\n",
    "\n",
    "# Keep track of losses for plotting\n",
    "current_loss = 0\n",
    "all_losses = []\n",
    "\n",
    "def timeSince(since):\n",
    "    now = time.time()\n",
    "    s = now - since\n",
    "    m = math.floor(s / 60)\n",
    "    s -= m * 60\n",
    "    return '%dm %ds' % (m, s)\n",
    "\n",
    "start = time.time()\n",
    "\n",
    "for iter in range(1, n_iters + 1):\n",
    "    category, line, category_tensor, line_tensor = randomTrainingExample()\n",
    "    output, loss = train(category_tensor, line_tensor)\n",
    "    current_loss += loss\n",
    "\n",
    "    # Print iter number, loss, name and guess\n",
    "    if iter % print_every == 0:\n",
    "        guess, guess_i = categoryFromOutput(output)\n",
    "        correct = '✓' if guess == category else '✗ (%s)' % category\n",
    "        print('%d %d%% (%s) %.4f %s / %s %s' % (iter, iter / n_iters * 100, timeSince(start), loss, line, guess, correct))\n",
    "\n",
    "    # Add current loss avg to list of losses\n",
    "    if iter % plot_every == 0:\n",
    "        all_losses.append(current_loss / plot_every)\n",
    "        current_loss = 0\n",
    "\n"
   ]
  },
  {
   "cell_type": "markdown",
   "metadata": {},
   "source": [
    "A beautiful way to organize our result is **confusion matrix**. It shows us, for every country, what was the module guesses and indicates (in yellow) a high probability guess. We can easily understand what are the languages our module deals with successfully, and which languages confused it. \n",
    "We can learn a lot by looking at this matrix - we will discuss it later.\n",
    "Besides, we will build a graph to represent the changes that occur in the `all_losses`, and hopefully, we will be able to see how it approaches one.\n"
   ]
  },
  {
   "cell_type": "code",
   "execution_count": 106,
   "metadata": {},
   "outputs": [
    {
     "data": {
      "text/plain": [
       "[]"
      ]
     },
     "execution_count": 106,
     "metadata": {},
     "output_type": "execute_result"
    }
   ],
   "source": [
    "all_categories"
   ]
  },
  {
   "cell_type": "code",
   "execution_count": 107,
   "metadata": {},
   "outputs": [
    {
     "name": "stderr",
     "output_type": "stream",
     "text": [
      "<ipython-input-107-2e96c20fa56a>:49: UserWarning: FixedFormatter should only be used together with FixedLocator\n",
      "  ax.set_xticklabels([''] + all_categories, rotation=90)\n",
      "<ipython-input-107-2e96c20fa56a>:50: UserWarning: FixedFormatter should only be used together with FixedLocator\n",
      "  ax.set_yticklabels([''] + all_categories)\n"
     ]
    },
    {
     "data": {
      "image/png": "[encoded data removed]",
      "text/plain": [
       "<Figure size 432x288 with 1 Axes>"
      ]
     },
     "metadata": {
      "needs_background": "light"
     },
     "output_type": "display_data"
    },
    {
     "data": {
      "image/png": "[encoded data removed]",
      "text/plain": [
       "<Figure size 432x288 with 2 Axes>"
      ]
     },
     "metadata": {
      "needs_background": "light"
     },
     "output_type": "display_data"
    }
   ],
   "source": [
    "# Keep track of correct guesses in a confusion matrix\n",
    "confusion = torch.zeros(n_categories, n_categories)\n",
    "n_confusion = 10000\n",
    "\n",
    "# Just return an output given a line\n",
    "def evaluate(line_tensor):\n",
    "    hidden = rnn.initHidden()\n",
    "\n",
    "    for i in range(line_tensor.size()[0]):\n",
    "        output, hidden = rnn(line_tensor[i], hidden)\n",
    "\n",
    "    return output\n",
    "\n",
    "# Go through a bunch of examples and record which are correctly guessed\n",
    "category_lines = {}\n",
    "all_categories = []\n",
    "for filename in findFiles('../data/cities/val/*.txt'):\n",
    "    category = os.path.splitext(os.path.basename(filename))[0]\n",
    "    all_categories.append(category)\n",
    "    lines = readLines(filename)\n",
    "    category_lines[category] = lines\n",
    "    \n",
    "for i in range(n_confusion):\n",
    "    category, line, category_tensor, line_tensor = randomTrainingExample()\n",
    "    output = evaluate(line_tensor)\n",
    "    guess, guess_i = categoryFromOutput(output)\n",
    "    category_i = all_categories.index(category)\n",
    "    confusion[category_i][guess_i] += 1\n",
    "\n",
    "# Normalize by dividing every row by its sum\n",
    "for i in range(n_categories):\n",
    "    confusion[i] = confusion[i] / confusion[i].sum()\n",
    "\n",
    "\n",
    "import matplotlib.pyplot as plt\n",
    "import matplotlib.ticker as ticker\n",
    "\n",
    "plt.figure()\n",
    "plt.plot(all_losses)\n",
    "\n",
    "\n",
    "# Set up plot\n",
    "fig = plt.figure()\n",
    "ax = fig.add_subplot(111)\n",
    "cax = ax.matshow(confusion.numpy())\n",
    "fig.colorbar(cax)\n",
    "\n",
    "# Set up axes\n",
    "ax.set_xticklabels([''] + all_categories, rotation=90)\n",
    "ax.set_yticklabels([''] + all_categories)\n",
    "\n",
    "# Force label at every tick\n",
    "ax.xaxis.set_major_locator(ticker.MultipleLocator(1))\n",
    "ax.yaxis.set_major_locator(ticker.MultipleLocator(1))\n",
    "\n",
    "# sphinx_gallery_thumbnail_number = 2\n",
    "plt.show()\n"
   ]
  },
  {
   "cell_type": "markdown",
   "metadata": {},
   "source": [
    "Let's have a look at several confusion matrixes, results of running this code several times (with minor changes in the number of the iteration - around 15,000 to 20,000).\n",
    "\n",
    "Here are some outputs we got for different random seeds:\n",
    "\n",
    "![asd](https://i.ibb.co/Q9pnkYg/myplots.png)\n",
    "\n",
    "Our eyes can immediately spot the country that our module easily recognize - China. It might be the major differences or several character sequences that can only be found there, but for a fact, it was successfully guessed.\n",
    "Along the main axis, we see that most countries are spotted correctly, but the color is not as bright as we would have wanted, indicating a probability that is not very high compared to other countries.\n",
    "It tends to confuse Afghanistan with Pakistan - a reasonable mistake.\n",
    "\n",
    "While we do recognize a clear main axis, it is not as good as we would have wanted. Turns out that besides the quality of the module, we must understand **the quality of the data** we work with. Our data, the cities list, contains some cities which do not belong to the country they appear to be located in. \n",
    "For example, if we look at the file \"de\" (Germany), we can spot cities from Spain, England, Afghanistan, Pakistan, etc. This is an outcome of the way the data was collected. People in several countries were asked what is their **city of birth**. Since not all Germans were born in Germany, the list includes cities around the world.\n",
    "\n",
    "It is a good example of the importance of not only get the raw data but understand exactly how it was collected - what were the questions this data is answering.\n",
    "\n",
    "\n"
   ]
  },
  {
   "cell_type": "markdown",
   "metadata": {},
   "source": [
    "## Back to our example from the beginning\n",
    "\n",
    "As you may remember, we began with this:\n",
    "\n",
    "    $python predict.py Hanzhong\n",
    "    > Hanzhong\n",
    "    (-0.70) cn\n",
    "    (-1.37) in\n",
    "    (-3.08) pk\n",
    "    \n",
    "Now let's see it heppenning! "
   ]
  },
  {
   "cell_type": "code",
   "execution_count": 108,
   "metadata": {},
   "outputs": [],
   "source": [
    "def predict(input_line, n_predictions=3):\n",
    "    print('\\n> %s' % input_line)\n",
    "    with torch.no_grad():\n",
    "        output = evaluate(lineToTensor(input_line))\n",
    "\n",
    "        # Get top N categories\n",
    "        topv, topi = output.topk(n_predictions, 1, True)\n",
    "        predictions = []\n",
    "\n",
    "        for i in range(n_predictions):\n",
    "            value = topv[0][i].item()\n",
    "            category_index = topi[0][i].item()\n",
    "            print('(%.2f) %s' % (value, all_categories[category_index]))\n",
    "            predictions.append([value, all_categories[category_index]])\n",
    "\n",
    "\n"
   ]
  },
  {
   "cell_type": "markdown",
   "metadata": {},
   "source": [
    "Now let's give our module to check these cities, randomly chosen from google map:\n",
    "\n",
    "[Aschberg](https://www.google.com/maps/place/08248+Aschberg,+%D7%92%D7%A8%D7%9E%D7%A0%D7%99%D7%94%E2%80%AD/@50.3899751,12.5080553,15z/data=!3m1!4b1!4m13!1m7!3m6!1s0x47a0dd32da4618d3:0xa21b1cdd6774c80!2zS290dGVuaGVpZGUsIDA4MjYxIFNjaMO2bmVjaywg15LXqNee16DXmdeU!3b1!8m2!3d50.3784944!4d12.4004348!3m4!1s0x47a0c3c5e09e52e1:0xa21b1cdd677d7d0!8m2!3d50.3899704!4d12.4993086) - a small place in Germany.\n",
    "\n",
    "[Dera Allah Yar](https://www.google.com/maps/place/Dera+Allah+Yar,+Jaffarabad,+%D7%91%D7%9C%D7%95%D7%A6'%D7%99%D7%A1%D7%98%D7%9F,+%D7%A4%D7%A7%D7%99%D7%A1%D7%98%D7%9F%E2%80%AD/@27.3379469,68.3414802,6.07z/data=!4m13!1m7!3m6!1s0x47a0dd32da4618d3:0xa21b1cdd6774c80!2zS290dGVuaGVpZGUsIDA4MjYxIFNjaMO2bmVjaywg15LXqNee16DXmdeU!3b1!8m2!3d50.3784944!4d12.4004348!3m4!1s0x393477e237294b09:0x6de34fb11c624bad!8m2!3d28.3744855!4d68.3486938) - a town in the middle of Pakistan.\n",
    "\n",
    "[Jinchang](https://www.google.com/maps/place/Jinchang,+%D7%92%D7%90%D7%A0%D7%A1%D7%95,+%D7%A1%D7%99%D7%9F%E2%80%AD/@40.5962792,110.0647365,5.21z/data=!4m13!1m7!3m6!1s0x47a0dd32da4618d3:0xa21b1cdd6774c80!2zS290dGVuaGVpZGUsIDA4MjYxIFNjaMO2bmVjaywg15LXqNee16DXmdeU!3b1!8m2!3d50.3784944!4d12.4004348!3m4!1s0x36496462b5f15307:0xad78bf2cd23f56ad!8m2!3d38.5201009!4d102.1879578) - a Chinese village near the border with Mongolyia.\n"
   ]
  },
  {
   "cell_type": "code",
   "execution_count": 109,
   "metadata": {},
   "outputs": [
    {
     "name": "stdout",
     "output_type": "stream",
     "text": [
      "\n",
      "> Aschberg\n",
      "(-1.09) de\n",
      "(-1.57) fr\n",
      "(-2.34) in\n",
      "\n",
      "> Dera Allah Yar\n",
      "(-1.21) pk\n",
      "(-1.32) af\n",
      "(-1.41) ir\n",
      "\n",
      "> Jinchang\n",
      "(-0.58) cn\n",
      "(-1.16) in\n",
      "(-3.24) fi\n"
     ]
    }
   ],
   "source": [
    "predict('Aschberg')\n",
    "predict('Dera Allah Yar')\n",
    "predict('Jinchang')"
   ]
  },
  {
   "cell_type": "markdown",
   "metadata": {},
   "source": [
    "<a name=\"bettercitiesmodel\"></a>\n",
    "<h3>3.4 Improve the RNN Model (Optional)</h3>\n",
    "\n"
   ]
  },
  {
   "cell_type": "markdown",
   "metadata": {},
   "source": [
    "<b> We've tried to improve our result by changing 3 parameters - `n_iters`, `learning_rate`, and  `n_hidden`. We also tried to start with random value instead of zero in the hidden state.\n",
    "The results has never improved significantly. Perhaps a more systematic hyper-parameter search using hyperopt or another hyper paramerer optimization library would produce better results. </b>"
   ]
  }
 ],
 "metadata": {
  "kernelspec": {
   "display_name": "NLP38",
   "language": "python",
   "name": "nlp38"
  },
  "language_info": {
   "codemirror_mode": {
    "name": "ipython",
    "version": 3
   },
   "file_extension": ".py",
   "mimetype": "text/x-python",
   "name": "python",
   "nbconvert_exporter": "python",
   "pygments_lexer": "ipython3",
   "version": "3.8.5"
  }
 },
 "nbformat": 4,
 "nbformat_minor": 4
}
